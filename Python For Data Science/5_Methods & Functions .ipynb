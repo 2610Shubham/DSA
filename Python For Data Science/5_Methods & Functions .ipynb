{
 "cells": [
  {
   "cell_type": "markdown",
   "id": "1d0b89a2",
   "metadata": {},
   "source": [
    "# **Methods and Functions in Python**\n",
    "\n",
    "---\n",
    "\n",
    "##  What are Functions?\n",
    "- A **function** is a block of reusable code designed to perform a single, related action.\n",
    "- Functions can accept inputs (parameters), perform operations, and return outputs.\n",
    "- Functions are defined using the `def` keyword.\n",
    "\n",
    "---\n",
    "\n",
    "## **Types of Functions in Python**\n",
    "\n",
    "Python supports two types of functions:\n",
    "\n",
    "1. **Built-in Functions**:  \n",
    "   Predefined functions provided by Python (e.g., `print()`, `len()`, `sum()`, etc.).\n",
    "\n",
    "2. **User-defined Functions**:  \n",
    "   Functions created by the user for custom logic.\n",
    "\n",
    "---\n",
    "\n",
    "## **Key Features of Functions**\n",
    "\n",
    "1. **Reusability**:  \n",
    "   Functions can be reused multiple times in a program.\n",
    "\n",
    "2. **Modularity**:  \n",
    "   Makes code easier to read and maintain.\n",
    "\n",
    "3. **Parameters and Arguments**:\n",
    "   - **Parameters**: Variables listed in the function definition.\n",
    "   - **Arguments**: Values passed to the function during a call.\n",
    "\n",
    "---\n",
    "\n",
    "### **Syntax of a Function**:\n",
    "```python\n",
    "def function_name(parameters):\n",
    "    \"\"\"Optional docstring to describe the function\"\"\"\n",
    "    # Code block\n",
    "    return result  # Optional return allow us to assign the o/p of the function to a new variable.\n",
    "```\n",
    "---\n"
   ]
  },
  {
   "cell_type": "markdown",
   "id": "114015c6",
   "metadata": {},
   "source": [
    "## What are Methods?\n",
    "- A method is similar to a function but is associated with an object and can access the data within that object.\n",
    "- Methods are called using the **dot notation: object.method()**.\n",
    "\n",
    "\n",
    "\n",
    "\n",
    "\n",
    "---\n",
    "\n",
    "## **Key Differences Between Functions and Methods**\n",
    "\n",
    "| **Aspect**          | **Functions**                                 | **Methods**                                     |\n",
    "|----------------------|-----------------------------------------------|------------------------------------------------|\n",
    "| **Definition**       | Standalone block of code                     | Associated with an object                      |\n",
    "| **Call Syntax**      | `function_name()`                            | `object.method_name()`                         |\n",
    "| **Belongs To**       | Global scope or user-defined modules         | Specific objects like strings, lists, etc.     |\n",
    "\n",
    "\n",
    "\n",
    "\n",
    "\n"
   ]
  },
  {
   "cell_type": "code",
   "execution_count": 4,
   "id": "7e4cd50d",
   "metadata": {},
   "outputs": [
    {
     "name": "stdout",
     "output_type": "stream",
     "text": [
      "Hello Shubham\n"
     ]
    }
   ],
   "source": [
    "def greeting(name):\n",
    "    '''Function to greet the user'''\n",
    "    print(f'Hello {name}')\n",
    "    \n",
    "    \n",
    "    \n",
    "    \n",
    "greeting('Shubham')"
   ]
  },
  {
   "cell_type": "code",
   "execution_count": 5,
   "id": "23ebd086",
   "metadata": {},
   "outputs": [
    {
     "name": "stdout",
     "output_type": "stream",
     "text": [
      "Hello Default\n"
     ]
    }
   ],
   "source": [
    "# Creating a function with the default values \n",
    "def greet(name = 'Default'):\n",
    "    print(f'Hello {name}')\n",
    "    \n",
    "    \n",
    "# calling the function without passing any arguments \n",
    "greet()"
   ]
  },
  {
   "cell_type": "code",
   "execution_count": 6,
   "id": "e708f508",
   "metadata": {},
   "outputs": [
    {
     "name": "stdout",
     "output_type": "stream",
     "text": [
      "30\n"
     ]
    }
   ],
   "source": [
    "# function to add two number \n",
    "def add_num(num1, num2):\n",
    "    return num1+num2\n",
    "\n",
    "\n",
    "result = add_num(10,20)\n",
    "print(result)"
   ]
  },
  {
   "cell_type": "code",
   "execution_count": 7,
   "id": "daa405a5",
   "metadata": {},
   "outputs": [],
   "source": [
    "# take the user input for the arguments \n",
    "def sum_numbers(num1, num2):\n",
    "    return num1 + num2\n",
    "\n"
   ]
  },
  {
   "cell_type": "code",
   "execution_count": 8,
   "id": "6f0edc4a",
   "metadata": {},
   "outputs": [
    {
     "name": "stdout",
     "output_type": "stream",
     "text": [
      "Enter the first number: 10\n",
      "Enter the second number: 20\n"
     ]
    }
   ],
   "source": [
    "num1 = int(input('Enter the first number: '))\n",
    "num2 = int(input('Enter the second number: '))\n"
   ]
  },
  {
   "cell_type": "code",
   "execution_count": 9,
   "id": "3713d1d3",
   "metadata": {},
   "outputs": [
    {
     "name": "stdout",
     "output_type": "stream",
     "text": [
      "10 + 20 = 30\n"
     ]
    }
   ],
   "source": [
    "result = sum_numbers(num1, num2)\n",
    "print(f'{num1} + {num2} = {result}')"
   ]
  },
  {
   "cell_type": "markdown",
   "id": "7f91a02c",
   "metadata": {},
   "source": [
    "# **`*args` in Python**\n",
    "\n",
    "---\n",
    "\n",
    "## **Definition**:\n",
    "- `*args` is used in a function definition to accept a variable number of positional arguments.\n",
    "- It allows you to pass multiple arguments to a function without knowing in advance how many arguments will be passed.\n",
    "- *args collects all positional arguments into a tuple.\n",
    "\n",
    "\n",
    "## **Key Features of `*args`**\n",
    "- Collects an arbitrary number of positional arguments.\n",
    "- Stored as a tuple, allowing access to individual elements.\n",
    "- Useful when the number of arguments is unknown.\n",
    "\n",
    "---\n",
    "\n",
    "## **Notes**:\n",
    "- `*args` is a convention, not a keyword. You can use any name (e.g., `*variables`), but `*args` is standard.\n",
    "- Use `*args` for flexibility in functions requiring an unknown number of positional arguments.\n",
    "\n",
    "\n",
    "---\n",
    "\n",
    "## **Syntax**:\n",
    "```python\n",
    "def function_name(*args):\n",
    "    # Code block\n",
    "```"
   ]
  },
  {
   "cell_type": "code",
   "execution_count": 10,
   "id": "6ccf6e3e",
   "metadata": {},
   "outputs": [
    {
     "name": "stdout",
     "output_type": "stream",
     "text": [
      "6\n",
      "100\n"
     ]
    }
   ],
   "source": [
    "def add_numbers(*args):\n",
    "    \"\"\"Adds all the numbers passed as arguments.\"\"\"\n",
    "    return sum(args)\n",
    "\n",
    "print(add_numbers(1, 2, 3))       # Output: 6\n",
    "print(add_numbers(10, 20, 30, 40)) # Output: 100\n"
   ]
  },
  {
   "cell_type": "code",
   "execution_count": 11,
   "id": "026e4ced",
   "metadata": {},
   "outputs": [
    {
     "name": "stdout",
     "output_type": "stream",
     "text": [
      "h\n",
      "hi\n",
      "hey\n",
      "hello\n"
     ]
    }
   ],
   "source": [
    "# Accessing Individual Elements \n",
    "def display_args(*args):\n",
    "    for items in args:\n",
    "        print(items)\n",
    "        \n",
    "display_args('h', 'hi', 'hey', 'hello')"
   ]
  },
  {
   "cell_type": "code",
   "execution_count": 13,
   "id": "31cacf76",
   "metadata": {},
   "outputs": [
    {
     "name": "stdout",
     "output_type": "stream",
     "text": [
      "Hello, Alice!\n",
      "Hello, Bob!\n",
      "Hello, Charlie!\n"
     ]
    }
   ],
   "source": [
    "# Using with Other Parameters\n",
    "\n",
    "def greet(greeting, *names):\n",
    "    \"\"\"Greets multiple people with a custom message.\"\"\"\n",
    "    for name in names:\n",
    "        print(f\"{greeting}, {name}!\")\n",
    "\n",
    "greet(\"Hello\", \"Alice\", \"Bob\", \"Charlie\")"
   ]
  },
  {
   "cell_type": "markdown",
   "id": "1e16a2cb",
   "metadata": {},
   "source": [
    "# **`kwargs` in Python**\n",
    "\n",
    "---\n",
    "\n",
    "## **Definition**:\n",
    "- `**kwargs` allows a function to accept any number of keyword arguments.\n",
    "- Keyword arguments are passed as key-value pairs and stored in a dictionary.\n",
    "- `**kwargs`**collects all keyword arguments into a dictionary.**\n",
    "\n",
    "---\n",
    "\n",
    "## **Syntax**:\n",
    "```python\n",
    "def function_name(**kwargs):\n",
    "    # Code block\n",
    "```"
   ]
  },
  {
   "cell_type": "code",
   "execution_count": 14,
   "id": "efba4589",
   "metadata": {},
   "outputs": [
    {
     "name": "stdout",
     "output_type": "stream",
     "text": [
      "name: Shubham\n",
      "age: 25\n",
      "city: Pune\n"
     ]
    }
   ],
   "source": [
    "# Example\n",
    "\n",
    "def print_details(**kwargs):\n",
    "    \"\"\"Prints the key-value pairs of keyword arguments.\"\"\"\n",
    "    for key, value in kwargs.items():\n",
    "        print(f\"{key}: {value}\")\n",
    "\n",
    "print_details(name=\"Shubham\", age=25, city=\"Pune\")"
   ]
  },
  {
   "cell_type": "markdown",
   "id": "7a570526",
   "metadata": {},
   "source": [
    "\n",
    "# Lambda Expressions, Map, and Filter in Python\n",
    "\n",
    "---\n",
    "\n",
    "## 1. Lambda Expressions\n",
    "- A **lambda expression** is a small anonymous function in Python.\n",
    "- It is used to create functions without explicitly defining them using `def`.\n",
    "- **Syntax**:  \n",
    "  ```python\n",
    "  lambda arguments: expression\n",
    "  ```\n",
    "- **Key Features**:\n",
    "  - Can take any number of arguments.\n",
    "  - Has only one expression, which is evaluated and returned.\n",
    "  - Used for short, simple operations.\n",
    "  - Cannot contain multiple statements or commands.\n",
    "  - Typically used as an argument to higher-order functions like `map()` and `filter()`.\n",
    "\n",
    "---\n",
    "\n",
    "## 2. `map()` Function\n",
    "- The **`map()`** function applies a given function to all items in an iterable (e.g., list, tuple).\n",
    "- **Syntax**:  \n",
    "  ```python\n",
    "  map(function, iterable)\n",
    "  ```\n",
    "- **Key Features**:\n",
    "  - Ideal for applying transformations to each element in a collection.\n",
    "  - The function can be a `lambda` or any user-defined function.\n",
    "  - The input iterable remains unchanged.\n",
    "  - It returns a **map object**, which can be converted to a list, tuple, or other iterables.\n",
    "\n",
    "---\n",
    "\n",
    "## 3. `filter()` Function\n",
    "- The **`filter()`** function selects elements from an iterable based on a condition.\n",
    "- **Syntax**:  \n",
    "  ```python\n",
    "  filter(function, iterable)\n",
    "  ```\n",
    "- **Key Features**:\n",
    "  - Used to filter elements that satisfy a certain condition.\n",
    "  - The function must return `True` or `False` for each element.\n",
    "  - Only elements for which the function returns `True` are included in the output.\n",
    "  - It returns a **filter object**, which can be converted to a list, tuple, or other iterables.\n",
    "\n",
    "---\n",
    "\n",
    "## Differences Between `map()` and `filter()`\n",
    "\n",
    "| **Aspect**         | **`map()`**                                    | **`filter()`**                                 |\n",
    "|---------------------|-----------------------------------------------|-----------------------------------------------|\n",
    "| **Purpose**         | Applies a function to all elements.           | Filters elements based on a condition.        |\n",
    "| **Return Value**    | Transformed elements.                         | Subset of elements that satisfy the condition.|\n",
    "| **Function Output** | Can return any transformation of the element. | Must return `True` or `False`.                |\n",
    "\n",
    "---\n",
    "\n",
    "## Notes\n",
    "1. **Lambda Expressions**:\n",
    "   - Ideal for quick, one-time-use functions.\n",
    "   - Cannot perform complex logic or contain multiple statements.\n",
    "2. **`map()`**:\n",
    "   - Used to transform or process each element in an iterable.\n",
    "3. **`filter()`**:\n",
    "   - Used to select specific elements that meet a condition.\n"
   ]
  },
  {
   "cell_type": "code",
   "execution_count": 15,
   "id": "23480ca1",
   "metadata": {},
   "outputs": [
    {
     "name": "stdout",
     "output_type": "stream",
     "text": [
      "25\n"
     ]
    }
   ],
   "source": [
    "# Lambda to square a number\n",
    "square = lambda x: x ** 2\n",
    "print(square(5))  # Output: 25\n"
   ]
  },
  {
   "cell_type": "code",
   "execution_count": 16,
   "id": "4d9e6b29",
   "metadata": {},
   "outputs": [
    {
     "name": "stdout",
     "output_type": "stream",
     "text": [
      "[1, 4, 9, 16]\n"
     ]
    }
   ],
   "source": [
    "# Using map with a lambda function to square each element\n",
    "numbers = [1, 2, 3, 4]\n",
    "squared = list(map(lambda x: x ** 2, numbers))\n",
    "print(squared)  # Output: [1, 4, 9, 16]\n"
   ]
  },
  {
   "cell_type": "code",
   "execution_count": 17,
   "id": "05d2500c",
   "metadata": {},
   "outputs": [
    {
     "name": "stdout",
     "output_type": "stream",
     "text": [
      "[2, 4, 6]\n"
     ]
    }
   ],
   "source": [
    "# Filter out odd numbers from a list\n",
    "numbers = [1, 2, 3, 4, 5, 6]\n",
    "even_numbers = list(filter(lambda x: x % 2 == 0, numbers))\n",
    "print(even_numbers)  # Output: [2, 4, 6]\n"
   ]
  },
  {
   "cell_type": "code",
   "execution_count": null,
   "id": "584e58d8",
   "metadata": {},
   "outputs": [],
   "source": []
  }
 ],
 "metadata": {
  "kernelspec": {
   "display_name": "Python 3 (ipykernel)",
   "language": "python",
   "name": "python3"
  },
  "language_info": {
   "codemirror_mode": {
    "name": "ipython",
    "version": 3
   },
   "file_extension": ".py",
   "mimetype": "text/x-python",
   "name": "python",
   "nbconvert_exporter": "python",
   "pygments_lexer": "ipython3",
   "version": "3.9.12"
  }
 },
 "nbformat": 4,
 "nbformat_minor": 5
}
