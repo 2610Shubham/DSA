{
 "cells": [
  {
   "cell_type": "markdown",
   "id": "f8704967",
   "metadata": {},
   "source": [
    "## Introduction to Pandas\n",
    "- **Pandas** is a Python library used for data manipulation and analysis.\n",
    "- It provides two primary data structures:\n",
    "  - **Series**: One-dimensional labeled array.\n",
    "  - **DataFrame**: Two-dimensional labeled data structure (like a table).\n",
    "\n",
    "---\n",
    "\n",
    "## Key Features of Pandas\n",
    "1. **Data Manipulation:**\n",
    "   - Easy handling of missing data.\n",
    "   - Supports operations like filtering, grouping, merging, and reshaping data.\n",
    "\n",
    "\n",
    "2. **Data Cleaning:**\n",
    "   - Tools to handle missing or inconsistent data effectively.\n",
    "\n",
    "\n",
    "3. **Data Analysis:**\n",
    "   - Powerful aggregation and summary statistics.\n",
    "\n",
    "\n",
    "4. **Integration:**\n",
    "   - Works well with other Python libraries like NumPy, Matplotlib, and Scikit-learn.\n",
    "\n",
    "---"
   ]
  },
  {
   "cell_type": "code",
   "execution_count": 1,
   "id": "262ea19b",
   "metadata": {},
   "outputs": [],
   "source": [
    "import numpy as np\n",
    "import pandas as pd"
   ]
  },
  {
   "cell_type": "code",
   "execution_count": 2,
   "id": "58b79096",
   "metadata": {},
   "outputs": [
    {
     "data": {
      "text/plain": [
       "'1.4.2'"
      ]
     },
     "execution_count": 2,
     "metadata": {},
     "output_type": "execute_result"
    }
   ],
   "source": [
    "pd.__version__"
   ]
  },
  {
   "cell_type": "markdown",
   "id": "a8619ad6",
   "metadata": {},
   "source": [
    "# Series in Pandas\n",
    "\n",
    "## Definition:\n",
    "- A **Series** in Pandas is a one-dimensional labeled array capable of holding data of any type (integer, float, string, etc.).\n",
    "- Each element in a Series is associated with an **index** that allows for easy access and manipulation of the data.\n",
    "\n",
    "---\n",
    "\n",
    "## Key Features of a Series:\n",
    "1. **Labeled Index:** Each data value is associated with an index, which can be customized.\n",
    "2. **Homogeneous Data:** All elements in a Series must have the same data type.\n",
    "3. **Supports Multiple Data Types:** Can hold integers, floats, strings, or objects.\n",
    "4. **Efficient Operations:** Built-in functions allow for efficient and fast operations on the data.\n"
   ]
  },
  {
   "cell_type": "code",
   "execution_count": 3,
   "id": "972589d2",
   "metadata": {},
   "outputs": [],
   "source": [
    "myindex = ['USA', 'Canada', 'Mexico']\n",
    "mydata = [1776, 1867, 1821]"
   ]
  },
  {
   "cell_type": "code",
   "execution_count": 4,
   "id": "cf43491b",
   "metadata": {},
   "outputs": [],
   "source": [
    "myser = pd.Series(data=mydata) # Series creates the default numerical index for the data if we do not pass the index "
   ]
  },
  {
   "cell_type": "code",
   "execution_count": 5,
   "id": "37d2b0fa",
   "metadata": {},
   "outputs": [
    {
     "data": {
      "text/plain": [
       "0    1776\n",
       "1    1867\n",
       "2    1821\n",
       "dtype: int64"
      ]
     },
     "execution_count": 5,
     "metadata": {},
     "output_type": "execute_result"
    }
   ],
   "source": [
    "myser"
   ]
  },
  {
   "cell_type": "code",
   "execution_count": 6,
   "id": "6f9ca05b",
   "metadata": {},
   "outputs": [
    {
     "data": {
      "text/plain": [
       "pandas.core.series.Series"
      ]
     },
     "execution_count": 6,
     "metadata": {},
     "output_type": "execute_result"
    }
   ],
   "source": [
    "type(myser)"
   ]
  },
  {
   "cell_type": "code",
   "execution_count": 7,
   "id": "6986106f",
   "metadata": {},
   "outputs": [
    {
     "name": "stdout",
     "output_type": "stream",
     "text": [
      "USA       1776\n",
      "Canada    1867\n",
      "Mexico    1821\n",
      "dtype: int64\n"
     ]
    }
   ],
   "source": [
    "myseries = pd.Series(data=mydata, index=myindex)\n",
    "print(myseries)"
   ]
  },
  {
   "cell_type": "code",
   "execution_count": 8,
   "id": "852be06e",
   "metadata": {},
   "outputs": [
    {
     "data": {
      "text/plain": [
       "pandas.core.series.Series"
      ]
     },
     "execution_count": 8,
     "metadata": {},
     "output_type": "execute_result"
    }
   ],
   "source": [
    "type(myseries)"
   ]
  },
  {
   "cell_type": "markdown",
   "id": "1006cc1b",
   "metadata": {},
   "source": [
    "## Creating a Series from a Dictionary"
   ]
  },
  {
   "cell_type": "code",
   "execution_count": 9,
   "id": "00bd62d9",
   "metadata": {},
   "outputs": [],
   "source": [
    "ages = {'Luffy':20, \n",
    "        'Zoro': 21,\n",
    "        'Sanji': 21\n",
    "       } "
   ]
  },
  {
   "cell_type": "markdown",
   "id": "9f3c4ea1",
   "metadata": {},
   "source": [
    "- Pandas automatically converts the dictionary keys into the index of the Series.\n",
    "- The dictionary values become the data of the Series."
   ]
  },
  {
   "cell_type": "code",
   "execution_count": 10,
   "id": "901eb7f7",
   "metadata": {},
   "outputs": [],
   "source": [
    "myser =  pd.Series(ages) "
   ]
  },
  {
   "cell_type": "code",
   "execution_count": 11,
   "id": "f8bb7f67",
   "metadata": {},
   "outputs": [
    {
     "data": {
      "text/plain": [
       "Luffy    20\n",
       "Zoro     21\n",
       "Sanji    21\n",
       "dtype: int64"
      ]
     },
     "execution_count": 11,
     "metadata": {},
     "output_type": "execute_result"
    }
   ],
   "source": [
    "myser"
   ]
  },
  {
   "cell_type": "code",
   "execution_count": 12,
   "id": "c35ccc76",
   "metadata": {},
   "outputs": [
    {
     "data": {
      "text/plain": [
       "21"
      ]
     },
     "execution_count": 12,
     "metadata": {},
     "output_type": "execute_result"
    }
   ],
   "source": [
    "myser['Zoro']"
   ]
  },
  {
   "cell_type": "code",
   "execution_count": 13,
   "id": "a5f060d7",
   "metadata": {},
   "outputs": [],
   "source": [
    "q1 = {'Japan': 80, 'China': 450, 'India': 200, 'USA': 250}\n",
    "q2 = {'Brail': 100, 'China': 500, 'India': 210, 'USA': 260}"
   ]
  },
  {
   "cell_type": "code",
   "execution_count": 14,
   "id": "17b880d5",
   "metadata": {},
   "outputs": [
    {
     "data": {
      "text/plain": [
       "Japan     80\n",
       "China    450\n",
       "India    200\n",
       "USA      250\n",
       "dtype: int64"
      ]
     },
     "execution_count": 14,
     "metadata": {},
     "output_type": "execute_result"
    }
   ],
   "source": [
    "sales_q1 = pd.Series(q1)\n",
    "sales_q1"
   ]
  },
  {
   "cell_type": "code",
   "execution_count": 15,
   "id": "822e36d7",
   "metadata": {},
   "outputs": [
    {
     "data": {
      "text/plain": [
       "Brail    100\n",
       "China    500\n",
       "India    210\n",
       "USA      260\n",
       "dtype: int64"
      ]
     },
     "execution_count": 15,
     "metadata": {},
     "output_type": "execute_result"
    }
   ],
   "source": [
    "sales_q2 = pd.Series(q2)\n",
    "sales_q2"
   ]
  },
  {
   "cell_type": "code",
   "execution_count": 16,
   "id": "ed3d52a9",
   "metadata": {},
   "outputs": [
    {
     "data": {
      "text/plain": [
       "80"
      ]
     },
     "execution_count": 16,
     "metadata": {},
     "output_type": "execute_result"
    }
   ],
   "source": [
    "# Access the data inside the sales_q1 series using the name index \n",
    "sales_q1['Japan']"
   ]
  },
  {
   "cell_type": "code",
   "execution_count": 17,
   "id": "1a7600b4",
   "metadata": {},
   "outputs": [
    {
     "data": {
      "text/plain": [
       "Index(['Brail', 'China', 'India', 'USA'], dtype='object')"
      ]
     },
     "execution_count": 17,
     "metadata": {},
     "output_type": "execute_result"
    }
   ],
   "source": [
    "sales_q2.keys()"
   ]
  },
  {
   "cell_type": "markdown",
   "id": "3a43c2d9",
   "metadata": {},
   "source": [
    "# performing the Operation on the Two  Series "
   ]
  },
  {
   "cell_type": "markdown",
   "id": "c43b5fe1",
   "metadata": {},
   "source": [
    "result = sales_q1 + sales_q2\n",
    "\n",
    "- This operation performs an element-wise addition between the two Series.\n",
    "- `Pandas matches values by index. If an index exists in one Series but not in the other, \n",
    "  the result for that index will be NaN (Not a Number).`\n",
    "- Brail and Japan have no matching index in the other Series, so their values are NaN."
   ]
  },
  {
   "cell_type": "code",
   "execution_count": 18,
   "id": "e2177064",
   "metadata": {},
   "outputs": [
    {
     "data": {
      "text/plain": [
       "Brail      NaN\n",
       "China    950.0\n",
       "India    410.0\n",
       "Japan      NaN\n",
       "USA      510.0\n",
       "dtype: float64"
      ]
     },
     "execution_count": 18,
     "metadata": {},
     "output_type": "execute_result"
    }
   ],
   "source": [
    "sales_q1 + sales_q2"
   ]
  },
  {
   "cell_type": "markdown",
   "id": "945446e5",
   "metadata": {},
   "source": [
    "`sales_q1.add(sales_q2, fill_value = 0)`\n",
    "\n",
    "- The `.add()` function provides an option to handle missing indices using the fill_value parameter.\n",
    "- If an index is missing in one Series, its value is replaced with `fill_value` (in this case, 0).\n",
    "- For missing indices:\n",
    "    - Japan: 80 + 0 = 80.0 (as Japan is missing in sales_q2).\n",
    "    - Brail: 0 + 100 = 100.0 (as Brail is missing in sales_q1).\n"
   ]
  },
  {
   "cell_type": "code",
   "execution_count": 19,
   "id": "08c335e0",
   "metadata": {},
   "outputs": [
    {
     "data": {
      "text/plain": [
       "Brail    100.0\n",
       "China    950.0\n",
       "India    410.0\n",
       "Japan     80.0\n",
       "USA      510.0\n",
       "dtype: float64"
      ]
     },
     "execution_count": 19,
     "metadata": {},
     "output_type": "execute_result"
    }
   ],
   "source": [
    "sales_q1.add(sales_q2, fill_value = 0)"
   ]
  },
  {
   "cell_type": "code",
   "execution_count": null,
   "id": "74f08f9f",
   "metadata": {},
   "outputs": [],
   "source": []
  }
 ],
 "metadata": {
  "kernelspec": {
   "display_name": "Python 3 (ipykernel)",
   "language": "python",
   "name": "python3"
  },
  "language_info": {
   "codemirror_mode": {
    "name": "ipython",
    "version": 3
   },
   "file_extension": ".py",
   "mimetype": "text/x-python",
   "name": "python",
   "nbconvert_exporter": "python",
   "pygments_lexer": "ipython3",
   "version": "3.9.12"
  }
 },
 "nbformat": 4,
 "nbformat_minor": 5
}
