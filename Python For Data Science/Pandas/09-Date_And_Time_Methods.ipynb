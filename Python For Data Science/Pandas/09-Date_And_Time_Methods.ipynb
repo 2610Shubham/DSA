{
 "cells": [
  {
   "cell_type": "code",
   "execution_count": 1,
   "id": "20ae5bb9",
   "metadata": {},
   "outputs": [],
   "source": [
    "import numpy as np \n",
    "import pandas as pd "
   ]
  },
  {
   "cell_type": "code",
   "execution_count": 2,
   "id": "181bf2e0",
   "metadata": {},
   "outputs": [],
   "source": [
    "from datetime import datetime "
   ]
  },
  {
   "cell_type": "code",
   "execution_count": 3,
   "id": "14ac8cfc",
   "metadata": {},
   "outputs": [],
   "source": [
    "myyear = 2015\n",
    "mymonth = 1\n",
    "myday = 1\n",
    "myhr = 2\n",
    "mymin = 30\n",
    "mysec = 15\n"
   ]
  },
  {
   "cell_type": "code",
   "execution_count": 5,
   "id": "e4ffa1e5",
   "metadata": {},
   "outputs": [],
   "source": [
    "mydate = datetime(myyear, mymonth, myday)"
   ]
  },
  {
   "cell_type": "code",
   "execution_count": 6,
   "id": "031e9d66",
   "metadata": {},
   "outputs": [
    {
     "data": {
      "text/plain": [
       "datetime.datetime(2015, 1, 1, 0, 0)"
      ]
     },
     "execution_count": 6,
     "metadata": {},
     "output_type": "execute_result"
    }
   ],
   "source": [
    "mydate "
   ]
  },
  {
   "cell_type": "code",
   "execution_count": 7,
   "id": "c26c10fd",
   "metadata": {},
   "outputs": [
    {
     "data": {
      "text/plain": [
       "2015"
      ]
     },
     "execution_count": 7,
     "metadata": {},
     "output_type": "execute_result"
    }
   ],
   "source": [
    "mydate.year"
   ]
  },
  {
   "cell_type": "code",
   "execution_count": 10,
   "id": "defe16a8",
   "metadata": {},
   "outputs": [
    {
     "data": {
      "text/plain": [
       "1"
      ]
     },
     "execution_count": 10,
     "metadata": {},
     "output_type": "execute_result"
    }
   ],
   "source": [
    "mydate.month"
   ]
  },
  {
   "cell_type": "code",
   "execution_count": 11,
   "id": "63554f31",
   "metadata": {},
   "outputs": [
    {
     "data": {
      "text/plain": [
       "1"
      ]
     },
     "execution_count": 11,
     "metadata": {},
     "output_type": "execute_result"
    }
   ],
   "source": [
    "mydate.day"
   ]
  },
  {
   "cell_type": "code",
   "execution_count": 12,
   "id": "e9d45e68",
   "metadata": {},
   "outputs": [],
   "source": [
    "mydatetime = datetime(myyear, mymonth, myday, myhr, mymin, mysec)"
   ]
  },
  {
   "cell_type": "code",
   "execution_count": 13,
   "id": "67ffd86a",
   "metadata": {},
   "outputs": [
    {
     "data": {
      "text/plain": [
       "datetime.datetime(2015, 1, 1, 2, 30, 15)"
      ]
     },
     "execution_count": 13,
     "metadata": {},
     "output_type": "execute_result"
    }
   ],
   "source": [
    "mydatetime"
   ]
  },
  {
   "cell_type": "code",
   "execution_count": 14,
   "id": "364a259c",
   "metadata": {},
   "outputs": [
    {
     "data": {
      "text/plain": [
       "2"
      ]
     },
     "execution_count": 14,
     "metadata": {},
     "output_type": "execute_result"
    }
   ],
   "source": [
    "mydatetime.hour"
   ]
  },
  {
   "cell_type": "code",
   "execution_count": 15,
   "id": "5ea08e5e",
   "metadata": {},
   "outputs": [
    {
     "data": {
      "text/plain": [
       "30"
      ]
     },
     "execution_count": 15,
     "metadata": {},
     "output_type": "execute_result"
    }
   ],
   "source": [
    "mydatetime.minute"
   ]
  },
  {
   "cell_type": "code",
   "execution_count": 16,
   "id": "413f5655",
   "metadata": {},
   "outputs": [
    {
     "data": {
      "text/plain": [
       "15"
      ]
     },
     "execution_count": 16,
     "metadata": {},
     "output_type": "execute_result"
    }
   ],
   "source": [
    "mydatetime.second"
   ]
  },
  {
   "cell_type": "markdown",
   "id": "03ff58ea",
   "metadata": {},
   "source": [
    "# Working with date and time using the pandas "
   ]
  },
  {
   "cell_type": "code",
   "execution_count": 18,
   "id": "81b0f534",
   "metadata": {},
   "outputs": [
    {
     "data": {
      "text/plain": [
       "0    Nov 3, 1990\n",
       "1     2000-01-01\n",
       "2           None\n",
       "dtype: object"
      ]
     },
     "execution_count": 18,
     "metadata": {},
     "output_type": "execute_result"
    }
   ],
   "source": [
    "myser = pd.Series(['Nov 3, 1990', '2000-01-01', None])\n",
    "myser"
   ]
  },
  {
   "cell_type": "code",
   "execution_count": 21,
   "id": "ed972309",
   "metadata": {},
   "outputs": [],
   "source": [
    "timeser = pd.to_datetime(myser)"
   ]
  },
  {
   "cell_type": "code",
   "execution_count": 22,
   "id": "62ee8b48",
   "metadata": {},
   "outputs": [
    {
     "data": {
      "text/plain": [
       "0   1990-11-03\n",
       "1   2000-01-01\n",
       "2          NaT\n",
       "dtype: datetime64[ns]"
      ]
     },
     "execution_count": 22,
     "metadata": {},
     "output_type": "execute_result"
    }
   ],
   "source": [
    "timeser"
   ]
  },
  {
   "cell_type": "code",
   "execution_count": 23,
   "id": "9dd31ae1",
   "metadata": {},
   "outputs": [],
   "source": [
    "euro_date = '10-12-2000' # dec 10 2000 "
   ]
  },
  {
   "cell_type": "code",
   "execution_count": 25,
   "id": "9a4c1d10",
   "metadata": {},
   "outputs": [
    {
     "data": {
      "text/plain": [
       "Timestamp('2000-10-12 00:00:00')"
      ]
     },
     "execution_count": 25,
     "metadata": {},
     "output_type": "execute_result"
    }
   ],
   "source": [
    "pd.to_datetime(euro_date) # So here we can see that the pandas make the date as OCT 12 2000 "
   ]
  },
  {
   "cell_type": "code",
   "execution_count": 27,
   "id": "9e3b37e5",
   "metadata": {},
   "outputs": [
    {
     "data": {
      "text/plain": [
       "Timestamp('2000-12-10 00:00:00')"
      ]
     },
     "execution_count": 27,
     "metadata": {},
     "output_type": "execute_result"
    }
   ],
   "source": [
    "pd.to_datetime(euro_date, dayfirst=True) # Now we have resolve our problem using the dayfirst parameter"
   ]
  },
  {
   "cell_type": "code",
   "execution_count": 28,
   "id": "f2126131",
   "metadata": {},
   "outputs": [
    {
     "data": {
      "text/html": [
       "<div>\n",
       "<style scoped>\n",
       "    .dataframe tbody tr th:only-of-type {\n",
       "        vertical-align: middle;\n",
       "    }\n",
       "\n",
       "    .dataframe tbody tr th {\n",
       "        vertical-align: top;\n",
       "    }\n",
       "\n",
       "    .dataframe thead th {\n",
       "        text-align: right;\n",
       "    }\n",
       "</style>\n",
       "<table border=\"1\" class=\"dataframe\">\n",
       "  <thead>\n",
       "    <tr style=\"text-align: right;\">\n",
       "      <th></th>\n",
       "      <th>DATE</th>\n",
       "      <th>MRTSSM4453USN</th>\n",
       "    </tr>\n",
       "  </thead>\n",
       "  <tbody>\n",
       "    <tr>\n",
       "      <th>0</th>\n",
       "      <td>1992-01-01</td>\n",
       "      <td>1509</td>\n",
       "    </tr>\n",
       "    <tr>\n",
       "      <th>1</th>\n",
       "      <td>1992-02-01</td>\n",
       "      <td>1541</td>\n",
       "    </tr>\n",
       "    <tr>\n",
       "      <th>2</th>\n",
       "      <td>1992-03-01</td>\n",
       "      <td>1597</td>\n",
       "    </tr>\n",
       "    <tr>\n",
       "      <th>3</th>\n",
       "      <td>1992-04-01</td>\n",
       "      <td>1675</td>\n",
       "    </tr>\n",
       "    <tr>\n",
       "      <th>4</th>\n",
       "      <td>1992-05-01</td>\n",
       "      <td>1822</td>\n",
       "    </tr>\n",
       "    <tr>\n",
       "      <th>...</th>\n",
       "      <td>...</td>\n",
       "      <td>...</td>\n",
       "    </tr>\n",
       "    <tr>\n",
       "      <th>335</th>\n",
       "      <td>2019-12-01</td>\n",
       "      <td>6630</td>\n",
       "    </tr>\n",
       "    <tr>\n",
       "      <th>336</th>\n",
       "      <td>2020-01-01</td>\n",
       "      <td>4388</td>\n",
       "    </tr>\n",
       "    <tr>\n",
       "      <th>337</th>\n",
       "      <td>2020-02-01</td>\n",
       "      <td>4533</td>\n",
       "    </tr>\n",
       "    <tr>\n",
       "      <th>338</th>\n",
       "      <td>2020-03-01</td>\n",
       "      <td>5562</td>\n",
       "    </tr>\n",
       "    <tr>\n",
       "      <th>339</th>\n",
       "      <td>2020-04-01</td>\n",
       "      <td>5207</td>\n",
       "    </tr>\n",
       "  </tbody>\n",
       "</table>\n",
       "<p>340 rows × 2 columns</p>\n",
       "</div>"
      ],
      "text/plain": [
       "           DATE  MRTSSM4453USN\n",
       "0    1992-01-01           1509\n",
       "1    1992-02-01           1541\n",
       "2    1992-03-01           1597\n",
       "3    1992-04-01           1675\n",
       "4    1992-05-01           1822\n",
       "..          ...            ...\n",
       "335  2019-12-01           6630\n",
       "336  2020-01-01           4388\n",
       "337  2020-02-01           4533\n",
       "338  2020-03-01           5562\n",
       "339  2020-04-01           5207\n",
       "\n",
       "[340 rows x 2 columns]"
      ]
     },
     "execution_count": 28,
     "metadata": {},
     "output_type": "execute_result"
    }
   ],
   "source": [
    "df = pd.read_csv('RetailSales_BeerWineLiquor.csv')\n",
    "df"
   ]
  },
  {
   "cell_type": "code",
   "execution_count": 30,
   "id": "fe7551d9",
   "metadata": {},
   "outputs": [
    {
     "data": {
      "text/plain": [
       "0      1992-01-01\n",
       "1      1992-02-01\n",
       "2      1992-03-01\n",
       "3      1992-04-01\n",
       "4      1992-05-01\n",
       "          ...    \n",
       "335    2019-12-01\n",
       "336    2020-01-01\n",
       "337    2020-02-01\n",
       "338    2020-03-01\n",
       "339    2020-04-01\n",
       "Name: DATE, Length: 340, dtype: object"
      ]
     },
     "execution_count": 30,
     "metadata": {},
     "output_type": "execute_result"
    }
   ],
   "source": [
    "df['DATE']"
   ]
  },
  {
   "cell_type": "code",
   "execution_count": 32,
   "id": "a630f5ce",
   "metadata": {},
   "outputs": [],
   "source": [
    "df['DATE'] = pd.to_datetime(df['DATE'])"
   ]
  },
  {
   "cell_type": "code",
   "execution_count": 33,
   "id": "37879391",
   "metadata": {},
   "outputs": [
    {
     "data": {
      "text/plain": [
       "0     1992-01-01\n",
       "1     1992-02-01\n",
       "2     1992-03-01\n",
       "3     1992-04-01\n",
       "4     1992-05-01\n",
       "         ...    \n",
       "335   2019-12-01\n",
       "336   2020-01-01\n",
       "337   2020-02-01\n",
       "338   2020-03-01\n",
       "339   2020-04-01\n",
       "Name: DATE, Length: 340, dtype: datetime64[ns]"
      ]
     },
     "execution_count": 33,
     "metadata": {},
     "output_type": "execute_result"
    }
   ],
   "source": [
    "df['DATE']"
   ]
  },
  {
   "cell_type": "code",
   "execution_count": 34,
   "id": "fd5bfc42",
   "metadata": {},
   "outputs": [
    {
     "data": {
      "text/html": [
       "<div>\n",
       "<style scoped>\n",
       "    .dataframe tbody tr th:only-of-type {\n",
       "        vertical-align: middle;\n",
       "    }\n",
       "\n",
       "    .dataframe tbody tr th {\n",
       "        vertical-align: top;\n",
       "    }\n",
       "\n",
       "    .dataframe thead th {\n",
       "        text-align: right;\n",
       "    }\n",
       "</style>\n",
       "<table border=\"1\" class=\"dataframe\">\n",
       "  <thead>\n",
       "    <tr style=\"text-align: right;\">\n",
       "      <th></th>\n",
       "      <th>DATE</th>\n",
       "      <th>MRTSSM4453USN</th>\n",
       "    </tr>\n",
       "  </thead>\n",
       "  <tbody>\n",
       "    <tr>\n",
       "      <th>0</th>\n",
       "      <td>1992-01-01</td>\n",
       "      <td>1509</td>\n",
       "    </tr>\n",
       "    <tr>\n",
       "      <th>1</th>\n",
       "      <td>1992-02-01</td>\n",
       "      <td>1541</td>\n",
       "    </tr>\n",
       "    <tr>\n",
       "      <th>2</th>\n",
       "      <td>1992-03-01</td>\n",
       "      <td>1597</td>\n",
       "    </tr>\n",
       "    <tr>\n",
       "      <th>3</th>\n",
       "      <td>1992-04-01</td>\n",
       "      <td>1675</td>\n",
       "    </tr>\n",
       "    <tr>\n",
       "      <th>4</th>\n",
       "      <td>1992-05-01</td>\n",
       "      <td>1822</td>\n",
       "    </tr>\n",
       "    <tr>\n",
       "      <th>...</th>\n",
       "      <td>...</td>\n",
       "      <td>...</td>\n",
       "    </tr>\n",
       "    <tr>\n",
       "      <th>335</th>\n",
       "      <td>2019-12-01</td>\n",
       "      <td>6630</td>\n",
       "    </tr>\n",
       "    <tr>\n",
       "      <th>336</th>\n",
       "      <td>2020-01-01</td>\n",
       "      <td>4388</td>\n",
       "    </tr>\n",
       "    <tr>\n",
       "      <th>337</th>\n",
       "      <td>2020-02-01</td>\n",
       "      <td>4533</td>\n",
       "    </tr>\n",
       "    <tr>\n",
       "      <th>338</th>\n",
       "      <td>2020-03-01</td>\n",
       "      <td>5562</td>\n",
       "    </tr>\n",
       "    <tr>\n",
       "      <th>339</th>\n",
       "      <td>2020-04-01</td>\n",
       "      <td>5207</td>\n",
       "    </tr>\n",
       "  </tbody>\n",
       "</table>\n",
       "<p>340 rows × 2 columns</p>\n",
       "</div>"
      ],
      "text/plain": [
       "           DATE  MRTSSM4453USN\n",
       "0    1992-01-01           1509\n",
       "1    1992-02-01           1541\n",
       "2    1992-03-01           1597\n",
       "3    1992-04-01           1675\n",
       "4    1992-05-01           1822\n",
       "..          ...            ...\n",
       "335  2019-12-01           6630\n",
       "336  2020-01-01           4388\n",
       "337  2020-02-01           4533\n",
       "338  2020-03-01           5562\n",
       "339  2020-04-01           5207\n",
       "\n",
       "[340 rows x 2 columns]"
      ]
     },
     "execution_count": 34,
     "metadata": {},
     "output_type": "execute_result"
    }
   ],
   "source": [
    "df = pd.read_csv('RetailSales_BeerWineLiquor.csv')\n",
    "df"
   ]
  },
  {
   "cell_type": "code",
   "execution_count": 35,
   "id": "f778ad27",
   "metadata": {},
   "outputs": [
    {
     "data": {
      "text/plain": [
       "0      1992-01-01\n",
       "1      1992-02-01\n",
       "2      1992-03-01\n",
       "3      1992-04-01\n",
       "4      1992-05-01\n",
       "          ...    \n",
       "335    2019-12-01\n",
       "336    2020-01-01\n",
       "337    2020-02-01\n",
       "338    2020-03-01\n",
       "339    2020-04-01\n",
       "Name: DATE, Length: 340, dtype: object"
      ]
     },
     "execution_count": 35,
     "metadata": {},
     "output_type": "execute_result"
    }
   ],
   "source": [
    "df['DATE']"
   ]
  },
  {
   "cell_type": "code",
   "execution_count": 37,
   "id": "4e05acb3",
   "metadata": {},
   "outputs": [],
   "source": [
    "df = pd.read_csv('RetailSales_BeerWineLiquor.csv', parse_dates=[0])"
   ]
  },
  {
   "cell_type": "code",
   "execution_count": 38,
   "id": "6bb7f064",
   "metadata": {},
   "outputs": [
    {
     "data": {
      "text/plain": [
       "0     1992-01-01\n",
       "1     1992-02-01\n",
       "2     1992-03-01\n",
       "3     1992-04-01\n",
       "4     1992-05-01\n",
       "         ...    \n",
       "335   2019-12-01\n",
       "336   2020-01-01\n",
       "337   2020-02-01\n",
       "338   2020-03-01\n",
       "339   2020-04-01\n",
       "Name: DATE, Length: 340, dtype: datetime64[ns]"
      ]
     },
     "execution_count": 38,
     "metadata": {},
     "output_type": "execute_result"
    }
   ],
   "source": [
    "df['DATE']"
   ]
  },
  {
   "cell_type": "code",
   "execution_count": 39,
   "id": "07c3a498",
   "metadata": {},
   "outputs": [
    {
     "data": {
      "text/plain": [
       "0      1992\n",
       "1      1992\n",
       "2      1992\n",
       "3      1992\n",
       "4      1992\n",
       "       ... \n",
       "335    2019\n",
       "336    2020\n",
       "337    2020\n",
       "338    2020\n",
       "339    2020\n",
       "Name: DATE, Length: 340, dtype: int64"
      ]
     },
     "execution_count": 39,
     "metadata": {},
     "output_type": "execute_result"
    }
   ],
   "source": [
    "df['DATE'].dt.year"
   ]
  },
  {
   "cell_type": "code",
   "execution_count": null,
   "id": "0aa79cd1",
   "metadata": {},
   "outputs": [],
   "source": []
  }
 ],
 "metadata": {
  "kernelspec": {
   "display_name": "Python 3 (ipykernel)",
   "language": "python",
   "name": "python3"
  },
  "language_info": {
   "codemirror_mode": {
    "name": "ipython",
    "version": 3
   },
   "file_extension": ".py",
   "mimetype": "text/x-python",
   "name": "python",
   "nbconvert_exporter": "python",
   "pygments_lexer": "ipython3",
   "version": "3.9.12"
  }
 },
 "nbformat": 4,
 "nbformat_minor": 5
}
