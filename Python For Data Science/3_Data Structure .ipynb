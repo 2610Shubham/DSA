{
 "cells": [
  {
   "cell_type": "markdown",
   "id": "2956a9c1",
   "metadata": {},
   "source": [
    "---\n",
    "\n",
    "<center><H1> Basic Data Structure </H1></center>\n",
    "\n",
    "---"
   ]
  },
  {
   "cell_type": "markdown",
   "id": "8c2b52b6",
   "metadata": {},
   "source": [
    "---\n",
    "<center><H2>List</H2></center>\n",
    "\n",
    "---\n",
    "\n",
    "**Definition**: \n",
    "- A <b>list</b> in Python is a <b>mutable</b>, <b>ordered collection</b> (The elements are stored in the exact order in which they were added.) of elements that can store data of different types, such as integers, floats, strings, or even other lists. \n",
    "\n",
    "- Lists are defined using square brackets [] and elements are separated by commas.\n",
    "\n",
    "<hr>\n",
    "\n",
    "\n",
    "**Key Features of Lists**\n",
    "- <b>Ordered:</b> Elements maintain their order of insertion.\n",
    "- <b>Mutable:</b> You can modify, add, or remove elements after creation.\n",
    "- <b>Heterogeneous:</b> Lists can store elements of different data types.\n",
    "- <b>Indexable:</b> Access elements using their index, starting from 0.\n",
    "- <b>Dynamic:</b> Lists can grow or shrink in size as needed."
   ]
  },
  {
   "cell_type": "code",
   "execution_count": 1,
   "id": "181b8e88",
   "metadata": {},
   "outputs": [
    {
     "name": "stdout",
     "output_type": "stream",
     "text": [
      "[1, 'one', 1.0]\n"
     ]
    }
   ],
   "source": [
    "# Example of the List \n",
    "my_list = [1, 'one', 1.0]\n",
    "print(my_list)"
   ]
  },
  {
   "cell_type": "markdown",
   "id": "43d1343b",
   "metadata": {},
   "source": [
    "\n",
    "<hr><center><H3>Creating a List</H3></center> <hr>"
   ]
  },
  {
   "cell_type": "markdown",
   "id": "8e217bcb",
   "metadata": {},
   "source": [
    "### 1. Empty List"
   ]
  },
  {
   "cell_type": "code",
   "execution_count": 2,
   "id": "41d5e144",
   "metadata": {},
   "outputs": [
    {
     "name": "stdout",
     "output_type": "stream",
     "text": [
      "[]\n"
     ]
    }
   ],
   "source": [
    "empty_list = []\n",
    "print(empty_list)"
   ]
  },
  {
   "cell_type": "markdown",
   "id": "72e6af90",
   "metadata": {},
   "source": [
    "### 2. List with Elements\n"
   ]
  },
  {
   "cell_type": "code",
   "execution_count": 3,
   "id": "3e46f88a",
   "metadata": {},
   "outputs": [
    {
     "name": "stdout",
     "output_type": "stream",
     "text": [
      "['Apple', 'Banana', 'Cherry']\n"
     ]
    }
   ],
   "source": [
    "fruits = ['Apple', 'Banana', 'Cherry']\n",
    "print(fruits)"
   ]
  },
  {
   "cell_type": "markdown",
   "id": "fd7b6be5",
   "metadata": {},
   "source": [
    "### 3. Mixed Data Types"
   ]
  },
  {
   "cell_type": "code",
   "execution_count": 4,
   "id": "7785d228",
   "metadata": {},
   "outputs": [
    {
     "name": "stdout",
     "output_type": "stream",
     "text": [
      "[1, 'one', 1.0]\n"
     ]
    }
   ],
   "source": [
    "mixed = [1, 'one', 1.0]\n",
    "print(mixed)"
   ]
  },
  {
   "cell_type": "markdown",
   "id": "6d07d57e",
   "metadata": {},
   "source": [
    "### 4. Nested Lists"
   ]
  },
  {
   "cell_type": "code",
   "execution_count": 5,
   "id": "33df1c47",
   "metadata": {},
   "outputs": [
    {
     "name": "stdout",
     "output_type": "stream",
     "text": [
      "[[1, 2], ['Apple', 'Banana'], [1.0, 'cat', 0]]\n"
     ]
    }
   ],
   "source": [
    "nested_list = [ [1 , 2 ], ['Apple', 'Banana'], [1.0, 'cat', 0] ]\n",
    "print(nested_list)"
   ]
  },
  {
   "cell_type": "markdown",
   "id": "352ec251",
   "metadata": {},
   "source": [
    "<hr>\n",
    "\n",
    "<center>\n",
    "\n",
    "<H3>Accessing Elements in a List</H3>\n",
    "\n",
    "</center>\n",
    "\n",
    "<hr>"
   ]
  },
  {
   "cell_type": "markdown",
   "id": "3cbcae4f",
   "metadata": {},
   "source": [
    "### 1. Indexing\n",
    "* Access elements using their position (starting from 0)."
   ]
  },
  {
   "cell_type": "code",
   "execution_count": 6,
   "id": "23780a75",
   "metadata": {},
   "outputs": [
    {
     "name": "stdout",
     "output_type": "stream",
     "text": [
      "Apple\n",
      "Cherry\n",
      "Banana\n"
     ]
    }
   ],
   "source": [
    "fruits = ['Apple', 'Banana', 'Cherry']\n",
    "print(fruits[0])\n",
    "print(fruits[2])\n",
    "print(fruits[1])"
   ]
  },
  {
   "cell_type": "markdown",
   "id": "48e6ab9a",
   "metadata": {},
   "source": [
    "### 2. Negative Indexing\n",
    "* Access elements from the end using negative indices."
   ]
  },
  {
   "cell_type": "code",
   "execution_count": 7,
   "id": "6faca04b",
   "metadata": {},
   "outputs": [
    {
     "name": "stdout",
     "output_type": "stream",
     "text": [
      "Cherry\n",
      "Banana\n",
      "Apple\n"
     ]
    }
   ],
   "source": [
    "print(fruits[-1])\n",
    "print(fruits[-2])\n",
    "print(fruits[0])\n"
   ]
  },
  {
   "cell_type": "markdown",
   "id": "b4645c32",
   "metadata": {},
   "source": [
    "### 3. Slicing\n",
    "* Extract sublists using the slicing syntax [start:stop:step]."
   ]
  },
  {
   "cell_type": "code",
   "execution_count": 8,
   "id": "9ac6eb81",
   "metadata": {},
   "outputs": [
    {
     "name": "stdout",
     "output_type": "stream",
     "text": [
      "['Apple', 'Banana', 'Cherry']\n"
     ]
    }
   ],
   "source": [
    "print( fruits[0:4:1])"
   ]
  },
  {
   "cell_type": "code",
   "execution_count": 9,
   "id": "ee0e27da",
   "metadata": {},
   "outputs": [
    {
     "name": "stdout",
     "output_type": "stream",
     "text": [
      "['Apple', 'Banana']\n"
     ]
    }
   ],
   "source": [
    "print( fruits[:-1:] )\n"
   ]
  },
  {
   "cell_type": "code",
   "execution_count": 10,
   "id": "653a4525",
   "metadata": {},
   "outputs": [
    {
     "name": "stdout",
     "output_type": "stream",
     "text": [
      "['Cherry', 'Banana', 'Apple']\n"
     ]
    }
   ],
   "source": [
    "print( fruits[::-1] )"
   ]
  },
  {
   "cell_type": "code",
   "execution_count": 13,
   "id": "35b62240",
   "metadata": {},
   "outputs": [
    {
     "name": "stdout",
     "output_type": "stream",
     "text": [
      "['Apple', 'Cherry']\n"
     ]
    }
   ],
   "source": [
    "print( fruits[0:3:2] )"
   ]
  },
  {
   "cell_type": "markdown",
   "id": "2a3076e8",
   "metadata": {},
   "source": [
    "<hr>\n",
    "\n",
    "<center>\n",
    "\n",
    "<H3>Common List Methods</H3>\n",
    "\n",
    "</center>\n",
    "\n",
    "<hr>"
   ]
  },
  {
   "cell_type": "markdown",
   "id": "ec8bd71d",
   "metadata": {},
   "source": [
    "### 1. append(x)\n",
    "- Adds an element x to the end of the list."
   ]
  },
  {
   "cell_type": "code",
   "execution_count": 15,
   "id": "65a345b3",
   "metadata": {},
   "outputs": [
    {
     "name": "stdout",
     "output_type": "stream",
     "text": [
      "[1, 2, 3, 4]\n"
     ]
    }
   ],
   "source": [
    "my_list = [1, 2, 3]\n",
    "my_list.append(4)\n",
    "\n",
    "print(my_list)"
   ]
  },
  {
   "cell_type": "markdown",
   "id": "07318d7a",
   "metadata": {},
   "source": [
    "### 2. pop([i])\n",
    "- Removes and returns the element at position i (default is the last element)."
   ]
  },
  {
   "cell_type": "code",
   "execution_count": 17,
   "id": "d0a625de",
   "metadata": {},
   "outputs": [
    {
     "data": {
      "text/plain": [
       "4"
      ]
     },
     "execution_count": 17,
     "metadata": {},
     "output_type": "execute_result"
    }
   ],
   "source": [
    "my_list.pop()"
   ]
  },
  {
   "cell_type": "code",
   "execution_count": 18,
   "id": "7f8a233b",
   "metadata": {},
   "outputs": [
    {
     "data": {
      "text/plain": [
       "[1, 2, 3]"
      ]
     },
     "execution_count": 18,
     "metadata": {},
     "output_type": "execute_result"
    }
   ],
   "source": [
    "my_list"
   ]
  },
  {
   "cell_type": "code",
   "execution_count": 19,
   "id": "c197ec65",
   "metadata": {},
   "outputs": [
    {
     "data": {
      "text/plain": [
       "1"
      ]
     },
     "execution_count": 19,
     "metadata": {},
     "output_type": "execute_result"
    }
   ],
   "source": [
    "my_list.pop(0)"
   ]
  },
  {
   "cell_type": "code",
   "execution_count": 20,
   "id": "a16a393f",
   "metadata": {},
   "outputs": [
    {
     "data": {
      "text/plain": [
       "[2, 3]"
      ]
     },
     "execution_count": 20,
     "metadata": {},
     "output_type": "execute_result"
    }
   ],
   "source": [
    "my_list"
   ]
  },
  {
   "cell_type": "markdown",
   "id": "bd57f7fb",
   "metadata": {},
   "source": [
    "### 3. reverse()\n",
    "- Reverses the order of elements in the list in-place."
   ]
  },
  {
   "cell_type": "code",
   "execution_count": 21,
   "id": "f084c82a",
   "metadata": {},
   "outputs": [],
   "source": [
    "my_list.reverse()"
   ]
  },
  {
   "cell_type": "code",
   "execution_count": 22,
   "id": "84cc3bd8",
   "metadata": {},
   "outputs": [
    {
     "data": {
      "text/plain": [
       "[3, 2]"
      ]
     },
     "execution_count": 22,
     "metadata": {},
     "output_type": "execute_result"
    }
   ],
   "source": [
    "my_list"
   ]
  },
  {
   "cell_type": "markdown",
   "id": "264a7f14",
   "metadata": {},
   "source": [
    "### 4. clear()\n",
    "- Removes all elements from the list."
   ]
  },
  {
   "cell_type": "code",
   "execution_count": 23,
   "id": "8e8ffe23",
   "metadata": {},
   "outputs": [],
   "source": [
    "my_list.clear()"
   ]
  },
  {
   "cell_type": "code",
   "execution_count": 24,
   "id": "54b829c6",
   "metadata": {},
   "outputs": [
    {
     "data": {
      "text/plain": [
       "[]"
      ]
     },
     "execution_count": 24,
     "metadata": {},
     "output_type": "execute_result"
    }
   ],
   "source": [
    "my_list"
   ]
  },
  {
   "cell_type": "markdown",
   "id": "86353d39",
   "metadata": {},
   "source": [
    "### 5. insert(i, x)\n",
    "- Inserts an element x at position i."
   ]
  },
  {
   "cell_type": "code",
   "execution_count": 26,
   "id": "46035128",
   "metadata": {},
   "outputs": [
    {
     "data": {
      "text/plain": [
       "[1, 1, 'one', 1, 2, 2, 2, 2, 2, 3, 4, 5, 5]"
      ]
     },
     "execution_count": 26,
     "metadata": {},
     "output_type": "execute_result"
    }
   ],
   "source": [
    "my_list = [1, 'one', 1, 2, 2, 2, 2, 2, 3, 4, 5, 5]\n",
    "\n",
    "my_list.insert(1, 1)\n",
    "my_list\n"
   ]
  },
  {
   "cell_type": "markdown",
   "id": "561fb1d0",
   "metadata": {},
   "source": [
    "### 6. remove(x)\n",
    "- Removes the first occurrence of element x."
   ]
  },
  {
   "cell_type": "code",
   "execution_count": 30,
   "id": "accca899",
   "metadata": {},
   "outputs": [
    {
     "data": {
      "text/plain": [
       "[1, 1, 1, 2, 2, 3, 4, 5, 5]"
      ]
     },
     "execution_count": 30,
     "metadata": {},
     "output_type": "execute_result"
    }
   ],
   "source": [
    "my_list.remove('one')\n",
    "my_list"
   ]
  },
  {
   "cell_type": "code",
   "execution_count": 31,
   "id": "56a1351d",
   "metadata": {},
   "outputs": [
    {
     "data": {
      "text/plain": [
       "[1, 1, 1, 2, 2, 3, 4, 5]"
      ]
     },
     "execution_count": 31,
     "metadata": {},
     "output_type": "execute_result"
    }
   ],
   "source": [
    "my_list.remove(5) # will remove the 5 at the index -2\n",
    "my_list"
   ]
  },
  {
   "cell_type": "markdown",
   "id": "c13156c0",
   "metadata": {},
   "source": [
    "### 7. index(x)\n",
    "- Returns the index of the first occurrence of element x."
   ]
  },
  {
   "cell_type": "code",
   "execution_count": 32,
   "id": "2d1f53f9",
   "metadata": {},
   "outputs": [
    {
     "data": {
      "text/plain": [
       "3"
      ]
     },
     "execution_count": 32,
     "metadata": {},
     "output_type": "execute_result"
    }
   ],
   "source": [
    "my_list.index(2)"
   ]
  },
  {
   "cell_type": "markdown",
   "id": "227d41f9",
   "metadata": {},
   "source": [
    "### 8. count(x)\n",
    "- Returns the number of occurrences of element x in the list."
   ]
  },
  {
   "cell_type": "code",
   "execution_count": 33,
   "id": "20109c24",
   "metadata": {},
   "outputs": [
    {
     "data": {
      "text/plain": [
       "3"
      ]
     },
     "execution_count": 33,
     "metadata": {},
     "output_type": "execute_result"
    }
   ],
   "source": [
    "my_list.count(1)"
   ]
  },
  {
   "cell_type": "markdown",
   "id": "8de34008",
   "metadata": {},
   "source": [
    "### 9. sort([key], reverse)\n",
    "- Sorts the list in ascending order by default; can use a key function or reverse the order.\n",
    "- In-place operation means that the method modifies the original object (list, in this case) directly instead of creating and returning a new object. \n",
    "- When you use the .sort() method, it sorts the elements of the list itself, and the original list is permanently changed."
   ]
  },
  {
   "cell_type": "code",
   "execution_count": 34,
   "id": "20c7580d",
   "metadata": {},
   "outputs": [
    {
     "data": {
      "text/plain": [
       "[1, 2, 5, 9, 9, 10]"
      ]
     },
     "execution_count": 34,
     "metadata": {},
     "output_type": "execute_result"
    }
   ],
   "source": [
    "new_list = [9, 2, 1, 5, 10, 9]\n",
    "\n",
    "new_list.sort()\n",
    "new_list"
   ]
  },
  {
   "cell_type": "code",
   "execution_count": 36,
   "id": "c8c95e8c",
   "metadata": {},
   "outputs": [
    {
     "data": {
      "text/plain": [
       "[10, 9, 9, 5, 2, 1]"
      ]
     },
     "execution_count": 36,
     "metadata": {},
     "output_type": "execute_result"
    }
   ],
   "source": [
    "new_list.sort(reverse=True)\n",
    "new_list"
   ]
  },
  {
   "cell_type": "markdown",
   "id": "19a9890b",
   "metadata": {},
   "source": [
    "<hr>\n",
    "\n",
    "<center>\n",
    "\n",
    "<H3>Built-in Functions with Lists</H3>\n",
    "\n",
    "</center>\n",
    "\n",
    "<hr>"
   ]
  },
  {
   "attachments": {
    "Screenshot%202024-11-18%20121824.png": {
     "image/png": "[encoded data removed]"
    }
   },
   "cell_type": "markdown",
   "id": "e17862dd",
   "metadata": {},
   "source": [
    "![Screenshot%202024-11-18%20121824.png](attachment:Screenshot%202024-11-18%20121824.png)"
   ]
  },
  {
   "cell_type": "markdown",
   "id": "87b301b2",
   "metadata": {},
   "source": [
    "<hr><center><H3>Other List Operations</H3></center><hr>"
   ]
  },
  {
   "cell_type": "markdown",
   "id": "ce3f77b5",
   "metadata": {},
   "source": [
    "### 1. Concatenation\n",
    "- Combine two or more lists using the + operator."
   ]
  },
  {
   "cell_type": "code",
   "execution_count": 37,
   "id": "e2f52498",
   "metadata": {},
   "outputs": [
    {
     "data": {
      "text/plain": [
       "[1, 2, 'one', 'two']"
      ]
     },
     "execution_count": 37,
     "metadata": {},
     "output_type": "execute_result"
    }
   ],
   "source": [
    "list_1 = [1, 2]\n",
    "list_2 = ['one', 'two']\n",
    "\n",
    "new_list = list_1 + list_2\n",
    "new_list"
   ]
  },
  {
   "cell_type": "markdown",
   "id": "b8a3e0b7",
   "metadata": {},
   "source": [
    "### 2. Repetition\n",
    "- Repeat a list using the * operator."
   ]
  },
  {
   "cell_type": "code",
   "execution_count": 38,
   "id": "d796c1b7",
   "metadata": {},
   "outputs": [
    {
     "data": {
      "text/plain": [
       "[1, 2, 1, 2, 1, 2]"
      ]
     },
     "execution_count": 38,
     "metadata": {},
     "output_type": "execute_result"
    }
   ],
   "source": [
    "list_1 * 3"
   ]
  },
  {
   "cell_type": "markdown",
   "id": "16b5522e",
   "metadata": {},
   "source": [
    "### 3. Membership Testing\n",
    "- Check if an element exists in the list using in or not in."
   ]
  },
  {
   "cell_type": "code",
   "execution_count": 39,
   "id": "4479b627",
   "metadata": {},
   "outputs": [
    {
     "name": "stdout",
     "output_type": "stream",
     "text": [
      "True\n"
     ]
    }
   ],
   "source": [
    "print(2 in new_list)"
   ]
  },
  {
   "cell_type": "code",
   "execution_count": 40,
   "id": "0118ae8e",
   "metadata": {},
   "outputs": [
    {
     "name": "stdout",
     "output_type": "stream",
     "text": [
      "False\n"
     ]
    }
   ],
   "source": [
    "print('two' not in new_list)"
   ]
  },
  {
   "cell_type": "markdown",
   "id": "4acfe12c",
   "metadata": {},
   "source": [
    "# **List Comprehension in Python**\n",
    "\n",
    "## **Definition**:\n",
    "- List comprehension is a concise way to create lists in Python.\n",
    "- It allows you to generate a new list by applying an expression to each item in an iterable, optionally including conditions.\n",
    "\n",
    "---\n",
    "\n",
    "## **Syntax**:\n",
    "```python\n",
    "[expression for item in iterable if condition]\n",
    "```\n",
    "\n",
    "- `expression`: The operation or value to include in the list.\n",
    "- `item`: Each element from the iterable.\n",
    "- `iterable`: A collection to loop over (e.g., list, range, string).\n",
    "- `condition` (optional): A filtering condition to include items."
   ]
  },
  {
   "cell_type": "code",
   "execution_count": 1,
   "id": "dcfc011c",
   "metadata": {},
   "outputs": [
    {
     "name": "stdout",
     "output_type": "stream",
     "text": [
      "[0, 1, 4, 9, 16]\n"
     ]
    }
   ],
   "source": [
    "# 1. Basic List Comprehension\n",
    "\n",
    "# Example: Create a list of squares\n",
    "squares = [x**2 for x in range(5)]\n",
    "print(squares)"
   ]
  },
  {
   "cell_type": "code",
   "execution_count": 2,
   "id": "d7498384",
   "metadata": {},
   "outputs": [
    {
     "name": "stdout",
     "output_type": "stream",
     "text": [
      "[0, 2, 4, 6, 8]\n"
     ]
    }
   ],
   "source": [
    "# 2. With a Condition\n",
    "\n",
    "# Example: Create a list of even numbers\n",
    "even_numbers = [x for x in range(10) if x % 2 == 0]\n",
    "print(even_numbers)"
   ]
  },
  {
   "cell_type": "code",
   "execution_count": 3,
   "id": "47e15c21",
   "metadata": {},
   "outputs": [
    {
     "name": "stdout",
     "output_type": "stream",
     "text": [
      "['H', 'e', 'l', 'l', 'o']\n"
     ]
    }
   ],
   "source": [
    "# with string \n",
    "my_str = 'Hello'\n",
    "\n",
    "my_list = [letter for letter in my_str]\n",
    "print(my_list)"
   ]
  },
  {
   "cell_type": "code",
   "execution_count": null,
   "id": "878d8064",
   "metadata": {},
   "outputs": [],
   "source": []
  },
  {
   "cell_type": "markdown",
   "id": "8bd8ff62",
   "metadata": {},
   "source": [
    "---\n",
    "<center><H1>Dictionary</H1></center>\n",
    "\n",
    "---"
   ]
  },
  {
   "attachments": {
    "Screenshot%202024-11-24%20095840.png": {
     "image/png": "[encoded data removed]"
    }
   },
   "cell_type": "markdown",
   "id": "396627ce",
   "metadata": {},
   "source": [
    "**Definition**: \n",
    "- A **dictionary** in Python is an **unordered collection** of **key-value pairs**.\n",
    "- Each key-value pair is connected by a colon (:), and the pairs are separated by commas. \n",
    "- Dictionaries are defined using **curly braces {}**.\n",
    "- **Key: Must be unique and immutable (can be an integer, string, or tuple).**\n",
    "- **Value: Can be of any data type and can be duplicated.**\n",
    "<hr>\n",
    "\n",
    "**Key Properties of a Dictionary:**\n",
    "- **Unordered:** Python dictionaries do not maintain any order of the elements.\n",
    "- **Mutable:** Dictionaries can be changed after creation (you can add, remove, or modify key-value pairs).\n",
    "- **Indexed by Keys:** Keys are used to access the corresponding values.\n",
    "\n",
    "\n",
    "<hr>\n",
    "\n",
    "**Syntax**\n",
    "![Screenshot%202024-11-24%20095840.png](attachment:Screenshot%202024-11-24%20095840.png)"
   ]
  },
  {
   "cell_type": "code",
   "execution_count": 1,
   "id": "6d1fb8f4",
   "metadata": {},
   "outputs": [
    {
     "name": "stdout",
     "output_type": "stream",
     "text": [
      "{'name': 'John', 'age': 21, 'courses': ['Math', 'Science'], 'grade': 'A'}\n"
     ]
    }
   ],
   "source": [
    "student = {\n",
    "    'name': 'John',\n",
    "    'age': 21,\n",
    "    'courses': ['Math', 'Science'],\n",
    "    'grade': 'A'\n",
    "}\n",
    "\n",
    "print(student)\n"
   ]
  },
  {
   "cell_type": "code",
   "execution_count": 4,
   "id": "22fa0477",
   "metadata": {},
   "outputs": [
    {
     "data": {
      "text/plain": [
       "'Science'"
      ]
     },
     "execution_count": 4,
     "metadata": {},
     "output_type": "execute_result"
    }
   ],
   "source": [
    "student['courses'][1]"
   ]
  },
  {
   "cell_type": "code",
   "execution_count": 8,
   "id": "a92d1228",
   "metadata": {},
   "outputs": [
    {
     "data": {
      "text/plain": [
       "{'name': 'John',\n",
       " 'age': 23,\n",
       " 'courses': ['Math', 'Science'],\n",
       " 'grade': 'B',\n",
       " 'city': 'NYC'}"
      ]
     },
     "execution_count": 8,
     "metadata": {},
     "output_type": "execute_result"
    }
   ],
   "source": [
    "# change the data in student dict\n",
    "student['age'] = 23\n",
    "student"
   ]
  },
  {
   "cell_type": "markdown",
   "id": "149b42c3",
   "metadata": {},
   "source": [
    "---\n",
    "<center><H2>Dictionary Methods in Python</H2></center>\n",
    "\n",
    "---"
   ]
  },
  {
   "cell_type": "markdown",
   "id": "ef1ca5e6",
   "metadata": {},
   "source": [
    "---\n",
    "# 1. Adding or Modifying Elements:\n",
    "---"
   ]
  },
  {
   "cell_type": "markdown",
   "id": "cf00c4d7",
   "metadata": {},
   "source": [
    "## **1.1 update()** \n",
    "- Adds key-value pairs to the dictionary or updates the value of an existing key."
   ]
  },
  {
   "cell_type": "code",
   "execution_count": 5,
   "id": "272ebcdb",
   "metadata": {},
   "outputs": [
    {
     "data": {
      "text/plain": [
       "{'name': 'John', 'age': 21, 'courses': ['Math', 'Science'], 'grade': 'B'}"
      ]
     },
     "execution_count": 5,
     "metadata": {},
     "output_type": "execute_result"
    }
   ],
   "source": [
    "# Update the grade of the student\n",
    "student.update({'grade': 'B'})\n",
    "student"
   ]
  },
  {
   "cell_type": "code",
   "execution_count": 7,
   "id": "46731b8e",
   "metadata": {},
   "outputs": [
    {
     "data": {
      "text/plain": [
       "{'name': 'John',\n",
       " 'age': 21,\n",
       " 'courses': ['Math', 'Science'],\n",
       " 'grade': 'B',\n",
       " 'city': 'NYC'}"
      ]
     },
     "execution_count": 7,
     "metadata": {},
     "output_type": "execute_result"
    }
   ],
   "source": [
    "# Adding the new key:value to the dict\n",
    "student.update( {'city' : 'NYC'} )\n",
    "student"
   ]
  },
  {
   "cell_type": "markdown",
   "id": "0fa91016",
   "metadata": {},
   "source": [
    "---\n",
    "# 2. Removing Elements:\n",
    "---"
   ]
  },
  {
   "cell_type": "markdown",
   "id": "3a88ef80",
   "metadata": {},
   "source": [
    "## **2.1 pop()**\n",
    "- Removes and returns the value associated with the specified key."
   ]
  },
  {
   "cell_type": "code",
   "execution_count": 9,
   "id": "75e6f0a4",
   "metadata": {},
   "outputs": [
    {
     "name": "stdout",
     "output_type": "stream",
     "text": [
      "21\n",
      "{'name': 'John'}\n"
     ]
    }
   ],
   "source": [
    "student = {'name': 'John', 'age': 21}\n",
    "\n",
    "age = student.pop('age') # return the value assigned to the key age\n",
    "\n",
    "print(age)  # Output: 21\n",
    "print(student)  # Output: {'name': 'John'}\n"
   ]
  },
  {
   "cell_type": "markdown",
   "id": "09c62f2e",
   "metadata": {},
   "source": [
    "## 2.2 popitem()\n",
    "- Definition: Removes and returns an arbitrary key-value pair from the dictionary."
   ]
  },
  {
   "cell_type": "code",
   "execution_count": 10,
   "id": "836f739a",
   "metadata": {},
   "outputs": [
    {
     "name": "stdout",
     "output_type": "stream",
     "text": [
      "('grade', 'A')\n",
      "{'name': 'John', 'age': 21}\n"
     ]
    }
   ],
   "source": [
    "student = {'name': 'John', 'age': 21, 'grade': 'A'}\n",
    "\n",
    "removed_item = student.popitem()  # Removes a random key-value pair\n",
    "\n",
    "print(removed_item)  # Output: ('grade', 'A')\n",
    "print(student)  # Output: {'name': 'John', 'age': 21}\n"
   ]
  },
  {
   "cell_type": "markdown",
   "id": "e875dbf0",
   "metadata": {},
   "source": [
    "## 2.3 clear()\n",
    "- Removes all key-value pairs from the dictionary."
   ]
  },
  {
   "cell_type": "code",
   "execution_count": 11,
   "id": "895d4122",
   "metadata": {},
   "outputs": [
    {
     "name": "stdout",
     "output_type": "stream",
     "text": [
      "{}\n"
     ]
    }
   ],
   "source": [
    "student = {'name': 'John', 'age': 21}\n",
    "\n",
    "student.clear()\n",
    "print(student)  # Output: {}\n"
   ]
  },
  {
   "cell_type": "markdown",
   "id": "f22a087b",
   "metadata": {},
   "source": [
    "\n",
    "---\n",
    "# 3. Accessing Elements:\n",
    "---"
   ]
  },
  {
   "cell_type": "code",
   "execution_count": 12,
   "id": "78836c9b",
   "metadata": {},
   "outputs": [
    {
     "data": {
      "text/plain": [
       "'John'"
      ]
     },
     "execution_count": 12,
     "metadata": {},
     "output_type": "execute_result"
    }
   ],
   "source": [
    "# Retrieves the value associated with the specified key.\n",
    "student = {'name': 'John', 'age': 21}\n",
    "\n",
    "student['name'] # Output: 'John'\n"
   ]
  },
  {
   "cell_type": "markdown",
   "id": "c047e43e",
   "metadata": {},
   "source": [
    "## 3.1 keys()\n",
    "- Returns all keys present in the dict."
   ]
  },
  {
   "cell_type": "code",
   "execution_count": 14,
   "id": "5fc67b73",
   "metadata": {},
   "outputs": [
    {
     "data": {
      "text/plain": [
       "dict_keys(['name', 'age'])"
      ]
     },
     "execution_count": 14,
     "metadata": {},
     "output_type": "execute_result"
    }
   ],
   "source": [
    "student.keys()"
   ]
  },
  {
   "cell_type": "markdown",
   "id": "36ff7c58",
   "metadata": {},
   "source": [
    "## 3.2 values()\n",
    "- Returns all values present in the dict."
   ]
  },
  {
   "cell_type": "code",
   "execution_count": 15,
   "id": "c315f03c",
   "metadata": {},
   "outputs": [
    {
     "data": {
      "text/plain": [
       "dict_values(['John', 21])"
      ]
     },
     "execution_count": 15,
     "metadata": {},
     "output_type": "execute_result"
    }
   ],
   "source": [
    "student = {'name': 'John', 'age': 21}\n",
    "\n",
    "student.values()"
   ]
  },
  {
   "cell_type": "markdown",
   "id": "b75d6589",
   "metadata": {},
   "source": [
    "## 3.3 items()\n",
    "- Returns all the key-value pairs in the dictionary as tuples."
   ]
  },
  {
   "cell_type": "code",
   "execution_count": 16,
   "id": "5627e1e5",
   "metadata": {},
   "outputs": [
    {
     "data": {
      "text/plain": [
       "dict_items([('name', 'John'), ('age', 21)])"
      ]
     },
     "execution_count": 16,
     "metadata": {},
     "output_type": "execute_result"
    }
   ],
   "source": [
    "student.items()"
   ]
  },
  {
   "cell_type": "markdown",
   "id": "8736c493",
   "metadata": {},
   "source": [
    "---\n",
    "# 4. Nested Dictionaries:\n",
    "- Dictionaries can contain other dictionaries as values, which allows creating complex data structures.\n",
    "---"
   ]
  },
  {
   "cell_type": "code",
   "execution_count": 19,
   "id": "58a137e7",
   "metadata": {},
   "outputs": [
    {
     "data": {
      "text/plain": [
       "{'student1': {'name': 'Rock', 'age': 21},\n",
       " 'student2': {'name': 'John', 'age': 20}}"
      ]
     },
     "execution_count": 19,
     "metadata": {},
     "output_type": "execute_result"
    }
   ],
   "source": [
    "school = { 'student1' : {'name': 'Rock', 'age': 21},\n",
    "         'student2': {'name': 'John', 'age': 20} }\n",
    "school"
   ]
  },
  {
   "cell_type": "code",
   "execution_count": 20,
   "id": "f1c81c69",
   "metadata": {},
   "outputs": [
    {
     "data": {
      "text/plain": [
       "{'name': 'Rock', 'age': 21}"
      ]
     },
     "execution_count": 20,
     "metadata": {},
     "output_type": "execute_result"
    }
   ],
   "source": [
    "school['student1']"
   ]
  },
  {
   "cell_type": "code",
   "execution_count": 21,
   "id": "d4fadef2",
   "metadata": {},
   "outputs": [
    {
     "data": {
      "text/plain": [
       "'Rock'"
      ]
     },
     "execution_count": 21,
     "metadata": {},
     "output_type": "execute_result"
    }
   ],
   "source": [
    "school['student1']['name']"
   ]
  },
  {
   "cell_type": "code",
   "execution_count": 1,
   "id": "23ae41ad",
   "metadata": {},
   "outputs": [
    {
     "name": "stdout",
     "output_type": "stream",
     "text": [
      "k1\n",
      "k2\n",
      "k3\n",
      "k4\n"
     ]
    }
   ],
   "source": [
    "# Looping throught the dict \n",
    "my_dict = {'k1':1, 'k2':2, 'k3':3, 'k4':4}\n",
    "\n",
    "for element in my_dict: # so by default looping through the dict will only going to return the keys\n",
    "    print(element)"
   ]
  },
  {
   "cell_type": "code",
   "execution_count": 7,
   "id": "bed001d8",
   "metadata": {},
   "outputs": [
    {
     "name": "stdout",
     "output_type": "stream",
     "text": [
      "('k1', 1)\n",
      "('k2', 2)\n",
      "('k3', 3)\n",
      "('k4', 4)\n"
     ]
    }
   ],
   "source": [
    "# use .items() method to get the key along with there value pair's\n",
    "for element in my_dict.items():\n",
    "    print(element)"
   ]
  },
  {
   "cell_type": "code",
   "execution_count": 9,
   "id": "08ca1cf2",
   "metadata": {},
   "outputs": [
    {
     "name": "stdout",
     "output_type": "stream",
     "text": [
      "1\n",
      "2\n",
      "3\n",
      "4\n"
     ]
    }
   ],
   "source": [
    "# use .values() method to get the values from the dict\n",
    "for val in my_dict.values():\n",
    "    print(val)"
   ]
  },
  {
   "cell_type": "code",
   "execution_count": 10,
   "id": "77f75474",
   "metadata": {},
   "outputs": [
    {
     "name": "stdout",
     "output_type": "stream",
     "text": [
      "k1\n",
      "k2\n",
      "k3\n",
      "k4\n"
     ]
    }
   ],
   "source": [
    "# use .keys() mrthods to get the keys from the dict or use the simple iteration \n",
    "for key in my_dict.keys():\n",
    "    print(key)"
   ]
  },
  {
   "cell_type": "code",
   "execution_count": 3,
   "id": "c3d83255",
   "metadata": {},
   "outputs": [
    {
     "name": "stdout",
     "output_type": "stream",
     "text": [
      "k1\n",
      "1\n",
      "k2\n",
      "2\n",
      "k3\n",
      "3\n",
      "k4\n",
      "4\n"
     ]
    }
   ],
   "source": [
    "for keys, val in my_dict.items():\n",
    "    print(keys)\n",
    "    print(val)"
   ]
  },
  {
   "cell_type": "markdown",
   "id": "e69a18bd",
   "metadata": {},
   "source": [
    "---\n",
    "<center><H1>Tuples</H1></center>\n",
    "\n",
    "---"
   ]
  },
  {
   "cell_type": "markdown",
   "id": "115a228c",
   "metadata": {},
   "source": [
    "**Definition**: \n",
    "- A **tuple** in Python is an **ordered, immutable collection of elements** that can hold multiple data types.\n",
    "- Tuples are similar to lists but cannot be changed after creation, making them useful for storing fixed data.\n",
    "- **Syntax:** Tuples are **defined using parentheses ()** and **separating elements with commas**.\n",
    "\n",
    "<hr>\n",
    "\n",
    "\n",
    "**Key Properties of a Tuples:**\n",
    "- **Ordered:** Elements in a tuple have a fixed order, and their position can be accessed using indices.\n",
    "- **Immutable:** Once created, a tuple's elements cannot be modified.\n",
    "- **Allows Duplicate Values:** Tuples can contain duplicate elements.\n",
    "- **Supports Multiple Data Types:** A tuple can hold integers, strings, floats, or even other tuples.\n",
    "\n",
    "\n",
    "<hr>\n",
    "\n"
   ]
  },
  {
   "cell_type": "markdown",
   "id": "e45f7f16",
   "metadata": {},
   "source": [
    "---\n",
    "# 1. Creating Tuples\n",
    "---"
   ]
  },
  {
   "cell_type": "markdown",
   "id": "a7e54abf",
   "metadata": {},
   "source": [
    "## 1. Basic Tuple\n",
    "\n"
   ]
  },
  {
   "cell_type": "code",
   "execution_count": 23,
   "id": "61353060",
   "metadata": {},
   "outputs": [
    {
     "data": {
      "text/plain": [
       "(1, 2, 3)"
      ]
     },
     "execution_count": 23,
     "metadata": {},
     "output_type": "execute_result"
    }
   ],
   "source": [
    "my_tuple = (1,2,3)\n",
    "my_tuple"
   ]
  },
  {
   "cell_type": "markdown",
   "id": "7c551176",
   "metadata": {},
   "source": [
    "## 2. Tuple with Mixed Data Types\n"
   ]
  },
  {
   "cell_type": "code",
   "execution_count": 24,
   "id": "eda78a78",
   "metadata": {},
   "outputs": [
    {
     "data": {
      "text/plain": [
       "(1, 'hello', 3.14)"
      ]
     },
     "execution_count": 24,
     "metadata": {},
     "output_type": "execute_result"
    }
   ],
   "source": [
    "mixed_tuple = (1, \"hello\", 3.14)\n",
    "mixed_tuple"
   ]
  },
  {
   "cell_type": "markdown",
   "id": "2d0e24a0",
   "metadata": {},
   "source": [
    "## 3. Single-Element Tuple\n",
    "- To create a single-element tuple, include a trailing comma.\n"
   ]
  },
  {
   "cell_type": "code",
   "execution_count": 26,
   "id": "69b3be15",
   "metadata": {},
   "outputs": [
    {
     "data": {
      "text/plain": [
       "(5,)"
      ]
     },
     "execution_count": 26,
     "metadata": {},
     "output_type": "execute_result"
    }
   ],
   "source": [
    "single_tuple = (5,)\n",
    "single_tuple"
   ]
  },
  {
   "cell_type": "markdown",
   "id": "6a032793",
   "metadata": {},
   "source": [
    "# 4. Empty Tuple\n"
   ]
  },
  {
   "cell_type": "code",
   "execution_count": 28,
   "id": "243b7e70",
   "metadata": {},
   "outputs": [
    {
     "data": {
      "text/plain": [
       "()"
      ]
     },
     "execution_count": 28,
     "metadata": {},
     "output_type": "execute_result"
    }
   ],
   "source": [
    "empty_tuple = ()\n",
    "empty_tuple"
   ]
  },
  {
   "cell_type": "markdown",
   "id": "23a98967",
   "metadata": {},
   "source": [
    "## 5. Using tuple() Constructor\n"
   ]
  },
  {
   "cell_type": "code",
   "execution_count": 30,
   "id": "48989725",
   "metadata": {},
   "outputs": [
    {
     "data": {
      "text/plain": [
       "(1, 2, 3)"
      ]
     },
     "execution_count": 30,
     "metadata": {},
     "output_type": "execute_result"
    }
   ],
   "source": [
    "my_list = [1, 2, 3]\n",
    "tuple_from_list = tuple(my_list)  # Output: (1, 2, 3)\n",
    "tuple_from_list"
   ]
  },
  {
   "cell_type": "markdown",
   "id": "54e63bb2",
   "metadata": {},
   "source": [
    "---\n",
    "# 2. Accessing Tuple Elements\n",
    "---"
   ]
  },
  {
   "cell_type": "markdown",
   "id": "c7117757",
   "metadata": {},
   "source": [
    "## 2.1 Indexing\n",
    "- Access elements using their index (starting from 0)."
   ]
  },
  {
   "cell_type": "code",
   "execution_count": 32,
   "id": "7db003be",
   "metadata": {},
   "outputs": [
    {
     "name": "stdout",
     "output_type": "stream",
     "text": [
      "20\n"
     ]
    }
   ],
   "source": [
    "my_tuple = (10, 20, 30)\n",
    "print(my_tuple[1])  # Output: 20\n"
   ]
  },
  {
   "cell_type": "markdown",
   "id": "3a5695cf",
   "metadata": {},
   "source": [
    "## 2.2  Negative Indexing\n",
    "- Use negative indices to access elements from the end."
   ]
  },
  {
   "cell_type": "code",
   "execution_count": 33,
   "id": "3346064b",
   "metadata": {},
   "outputs": [
    {
     "name": "stdout",
     "output_type": "stream",
     "text": [
      "30\n"
     ]
    }
   ],
   "source": [
    "print(my_tuple[-1])  # Output: 30\n"
   ]
  },
  {
   "cell_type": "markdown",
   "id": "7d25643f",
   "metadata": {},
   "source": [
    "## 2.3  Slicing\n",
    "Extract a subset of the tuple using slicing.\n"
   ]
  },
  {
   "cell_type": "code",
   "execution_count": 34,
   "id": "b6e3690e",
   "metadata": {},
   "outputs": [
    {
     "name": "stdout",
     "output_type": "stream",
     "text": [
      "(20, 30, 40)\n"
     ]
    }
   ],
   "source": [
    "my_tuple = (10, 20, 30, 40, 50)\n",
    "print(my_tuple[1:4])  # Output: (20, 30, 40)\n"
   ]
  },
  {
   "attachments": {
    "Screenshot%202024-11-24%20104602.png": {
     "image/png": "[encoded data removed]"
    }
   },
   "cell_type": "markdown",
   "id": "abfab990",
   "metadata": {},
   "source": [
    "---\n",
    "\n",
    "# Tuple Methods\n",
    "\n",
    "---\n",
    "- Tuples support only a few built-in methods due to their immutability:\n",
    "![Screenshot%202024-11-24%20104602.png](attachment:Screenshot%202024-11-24%20104602.png)\n"
   ]
  },
  {
   "cell_type": "markdown",
   "id": "6821d07c",
   "metadata": {},
   "source": [
    "# Tuple unpacking \n",
    "\n",
    "## Definition:\n",
    "- Tuple unpacking allows us to assign the elements of a tuple to individual variables in one step. \n",
    "- This is particularly useful when dealing with collections of tuples, like lists of tuples.\n"
   ]
  },
  {
   "cell_type": "code",
   "execution_count": 1,
   "id": "1cdf2596",
   "metadata": {},
   "outputs": [],
   "source": [
    "my_list = [(1,2), (3,4), (5,6), (7,8)]"
   ]
  },
  {
   "cell_type": "code",
   "execution_count": 2,
   "id": "c56596c7",
   "metadata": {},
   "outputs": [
    {
     "data": {
      "text/plain": [
       "4"
      ]
     },
     "execution_count": 2,
     "metadata": {},
     "output_type": "execute_result"
    }
   ],
   "source": [
    "len(my_list)"
   ]
  },
  {
   "cell_type": "code",
   "execution_count": 3,
   "id": "29fc5858",
   "metadata": {},
   "outputs": [
    {
     "name": "stdout",
     "output_type": "stream",
     "text": [
      "(1, 2)\n",
      "(3, 4)\n",
      "(5, 6)\n",
      "(7, 8)\n"
     ]
    }
   ],
   "source": [
    "# printing the elements inside the list using the for loop \n",
    "for nums in my_list:\n",
    "    print(nums)"
   ]
  },
  {
   "cell_type": "code",
   "execution_count": 4,
   "id": "22b692e7",
   "metadata": {},
   "outputs": [
    {
     "name": "stdout",
     "output_type": "stream",
     "text": [
      "1\n",
      "2\n",
      "3\n",
      "4\n",
      "5\n",
      "6\n",
      "7\n",
      "8\n"
     ]
    }
   ],
   "source": [
    "# Unpacking tuples stored inside the list\n",
    "# By using tuple unpacking in the `for` loop, we can assign the first element of each tuple to `a`\n",
    "# and the second element to `b`. This allows us to access the elements of each tuple directly.\n",
    "for (a,b) in my_list:\n",
    "    print(a)\n",
    "    print(b)"
   ]
  },
  {
   "cell_type": "markdown",
   "id": "4729aacc",
   "metadata": {},
   "source": [
    "---\n",
    "<center><H1>Sets</H1></center>\n",
    "\n",
    "---"
   ]
  },
  {
   "cell_type": "markdown",
   "id": "9ae7535a",
   "metadata": {},
   "source": [
    "**Definition**: \n",
    "- A **set** in Python is an **unordered collection of unique**.\n",
    "- Sets are **defined by curly braces {}** or **by using the built-in set() function**.\n",
    "\n",
    "<hr>\n",
    "\n",
    "\n",
    "**Key Properties of a Sets:**\n",
    "- **Unordered:** The elements in a set do not have a specific order, so indexing and slicing are not supported.\n",
    "- **Unique Elements:** Duplicate values are automatically removed.\n",
    "- **Mutable:** You can add or remove elements from a set.\n",
    "- **Heterogeneous:** Sets can contain elements of different data types (e.g., integers, strings, tuples).\n",
    "\n",
    "\n",
    "<hr>\n",
    "\n"
   ]
  },
  {
   "cell_type": "markdown",
   "id": "9f22a417",
   "metadata": {},
   "source": [
    "---\n",
    "# 1. Creating Sets\n",
    "---"
   ]
  },
  {
   "cell_type": "markdown",
   "id": "e05821a4",
   "metadata": {},
   "source": [
    "## 1.1 Using Curly Braces:"
   ]
  },
  {
   "cell_type": "code",
   "execution_count": 35,
   "id": "2b425812",
   "metadata": {},
   "outputs": [
    {
     "data": {
      "text/plain": [
       "{1, 2, 3}"
      ]
     },
     "execution_count": 35,
     "metadata": {},
     "output_type": "execute_result"
    }
   ],
   "source": [
    "my_set = {1,2,3}\n",
    "my_set"
   ]
  },
  {
   "cell_type": "markdown",
   "id": "e92cf9b0",
   "metadata": {},
   "source": [
    "## 1.2 Using set() Constructor:"
   ]
  },
  {
   "cell_type": "code",
   "execution_count": 37,
   "id": "73b9a92a",
   "metadata": {},
   "outputs": [
    {
     "data": {
      "text/plain": [
       "{1, 2, 3}"
      ]
     },
     "execution_count": 37,
     "metadata": {},
     "output_type": "execute_result"
    }
   ],
   "source": [
    "my_set = set([1,2,3])\n",
    "my_set"
   ]
  },
  {
   "cell_type": "markdown",
   "id": "22ac580e",
   "metadata": {},
   "source": [
    "## 1.3 Empty Set:\n",
    "- Note: {} creates an empty dictionary, not a set. Use set() for an empty set.\n"
   ]
  },
  {
   "cell_type": "code",
   "execution_count": 38,
   "id": "dc6f37b1",
   "metadata": {},
   "outputs": [
    {
     "name": "stdout",
     "output_type": "stream",
     "text": [
      "set()\n"
     ]
    }
   ],
   "source": [
    "empty_set = set()\n",
    "print(empty_set)  # Output: set()\n"
   ]
  },
  {
   "cell_type": "markdown",
   "id": "afd4a2c4",
   "metadata": {},
   "source": [
    "---\n",
    "# 2. Set Operations\n",
    "---"
   ]
  },
  {
   "cell_type": "markdown",
   "id": "44f4518b",
   "metadata": {},
   "source": [
    "## 2.1 Union (|)\n",
    "- Combines all unique elements from two sets."
   ]
  },
  {
   "cell_type": "code",
   "execution_count": 39,
   "id": "ede52139",
   "metadata": {},
   "outputs": [
    {
     "name": "stdout",
     "output_type": "stream",
     "text": [
      "{1, 2, 3, 4, 5}\n"
     ]
    }
   ],
   "source": [
    "set_1 = {1,2,3}\n",
    "set_2 = {2,4,5}\n",
    "\n",
    "print(set_1 | set_2)\n"
   ]
  },
  {
   "cell_type": "markdown",
   "id": "027609d8",
   "metadata": {},
   "source": [
    "## 2.2  Intersection (&)\n",
    "- Returns only the common elements.\n"
   ]
  },
  {
   "cell_type": "code",
   "execution_count": 41,
   "id": "dc216729",
   "metadata": {},
   "outputs": [
    {
     "name": "stdout",
     "output_type": "stream",
     "text": [
      "{2, 3}\n"
     ]
    }
   ],
   "source": [
    "set_1 = {1,1,2,3}\n",
    "set_2 = {2,3,5,6,7}\n",
    "\n",
    "print(set_1 & set_2)"
   ]
  },
  {
   "cell_type": "markdown",
   "id": "12d58af7",
   "metadata": {},
   "source": [
    "## 2.3 Difference (-)\n",
    "- Returns elements in the first set but not in the second."
   ]
  },
  {
   "cell_type": "code",
   "execution_count": 44,
   "id": "54cbd91e",
   "metadata": {},
   "outputs": [
    {
     "name": "stdout",
     "output_type": "stream",
     "text": [
      "{5, 6}\n"
     ]
    }
   ],
   "source": [
    "set_1 = {1, 2, 3, 4, 4, 5, 6}\n",
    "set_2 = {1, 2, 3, 4, 7, 8}\n",
    "\n",
    "print(set_1 - set_2)"
   ]
  },
  {
   "cell_type": "markdown",
   "id": "1f65ffb4",
   "metadata": {},
   "source": [
    "# 2.4 Symmetric Difference (^)\n",
    "- Returns elements in either set, but not in both."
   ]
  },
  {
   "cell_type": "code",
   "execution_count": 45,
   "id": "f5ff2ebc",
   "metadata": {},
   "outputs": [
    {
     "name": "stdout",
     "output_type": "stream",
     "text": [
      "{1, 3, 4, 5}\n"
     ]
    }
   ],
   "source": [
    "set_1 = {1, 2, 3}\n",
    "set_2 = {2, 4, 5}\n",
    "\n",
    "print(set_1 ^ set_2)"
   ]
  },
  {
   "cell_type": "code",
   "execution_count": null,
   "id": "25bf185e",
   "metadata": {},
   "outputs": [],
   "source": []
  }
 ],
 "metadata": {
  "kernelspec": {
   "display_name": "Python 3 (ipykernel)",
   "language": "python",
   "name": "python3"
  },
  "language_info": {
   "codemirror_mode": {
    "name": "ipython",
    "version": 3
   },
   "file_extension": ".py",
   "mimetype": "text/x-python",
   "name": "python",
   "nbconvert_exporter": "python",
   "pygments_lexer": "ipython3",
   "version": "3.9.12"
  }
 },
 "nbformat": 4,
 "nbformat_minor": 5
}
