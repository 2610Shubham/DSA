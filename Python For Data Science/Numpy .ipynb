{
 "cells": [
  {
   "cell_type": "markdown",
   "id": "6b739e5d",
   "metadata": {},
   "source": [
    "# NumPy  Guide\n",
    "\n",
    "## 1. What is NumPy?\n",
    "- **NumPy (Numerical Python):** A fundamental Python library for numerical and scientific computing.\n",
    "- It supports:\n",
    "  - Multidimensional arrays (ndarrays).\n",
    "  - Efficient mathematical operations like linear algebra, statistics, and random number generation.\n",
    "\n",
    "---\n",
    "\n",
    "## 2. Why Use NumPy?\n",
    "- **High Performance:** Faster than Python lists due to optimized C-based operations.\n",
    "- **Memory Efficiency:** Requires less memory than Python lists.\n",
    "- **Ease of Use:** Simplifies numerical computations and data handling.\n",
    "- **Broadcasting:** Allows operations between arrays of different shapes.\n",
    "- **Integration:** Works seamlessly with libraries like pandas, matplotlib, and scikit-learn.\n",
    "\n",
    "---\n",
    "\n",
    "## 3. Key Features of NumPy\n",
    "- **Multidimensional Arrays (ndarray):**\n",
    "  - Central to NumPy, providing efficient storage and operations for large datasets.\n",
    "- **Broadcasting:**\n",
    "  - Enables element-wise operations on arrays of different shapes without explicit looping.\n",
    "- **Mathematical Functions:**\n",
    "  - Includes advanced math functions like trigonometry, logarithms, and linear algebra.\n",
    "- **Random Number Generation:**\n",
    "  - Useful for simulations, initializing models, and statistical computations.\n",
    "- **Special Arrays:**\n",
    "  - Easily create arrays of zeros, ones, identity matrices, or random values.\n",
    "- **Data Analysis:**\n",
    "  - Essential for data preprocessing in machine learning and data science.\n",
    "\n",
    "---\n",
    "\n",
    "## 4. Comparison with Python Lists\n",
    "| **Feature**          | **NumPy**                | **Python Lists**      |\n",
    "|-----------------------|--------------------------|-----------------------|\n",
    "| **Speed**            | Faster                   | Slower               |\n",
    "| **Memory Usage**     | More efficient           | Less efficient       |\n",
    "| **Operations**       | Element-wise operations  | Manual looping needed |\n",
    "\n",
    "---\n",
    "\n",
    "## 5. Applications of NumPy\n",
    "- **Data Science:** Handles large datasets and preprocessing.\n",
    "- **Machine Learning:** Normalizes data and performs matrix computations.\n",
    "- **Scientific Computing:** Used for simulations, solving equations, and more.\n",
    "- **Visualization:** Prepares data for plotting with libraries like matplotlib.\n",
    "\n",
    "---\n",
    "\n",
    "## 6. Important Concepts to Learn\n",
    "- **ndarray Object:**\n",
    "  - The core data structure in NumPy for handling multi-dimensional arrays.\n",
    "- **Shape and Size:**\n",
    "  - `shape` defines the dimensions of an array.\n",
    "  - `size` gives the total number of elements.\n",
    "- **Data Types (dtype):**\n",
    "  - `NumPy arrays are homogeneous, meaning all elements have the same data type`.\n",
    "- **Broadcasting:**\n",
    "  - Simplifies operations on arrays of different shapes.\n",
    "- **Vectorization:**\n",
    "  - Eliminates the need for explicit loops by applying operations to entire arrays at once.\n",
    "\n",
    "---\n",
    "\n",
    "## 7. Installation\n",
    "To install NumPy, use the following command:\n",
    "```bash\n",
    "pip install numpy\n"
   ]
  },
  {
   "cell_type": "code",
   "execution_count": 1,
   "id": "db046e9e",
   "metadata": {},
   "outputs": [],
   "source": [
    "# Import the numpy library\n",
    "import numpy as np "
   ]
  },
  {
   "cell_type": "code",
   "execution_count": 3,
   "id": "beb9524a",
   "metadata": {},
   "outputs": [
    {
     "data": {
      "text/plain": [
       "'1.26.1'"
      ]
     },
     "execution_count": 3,
     "metadata": {},
     "output_type": "execute_result"
    }
   ],
   "source": [
    "np.__version__"
   ]
  },
  {
   "cell_type": "markdown",
   "id": "88019f7b",
   "metadata": {},
   "source": [
    "---\n",
    "\n",
    "<center><h1>Numpy Array </h1></center>\n",
    "\n",
    "---"
   ]
  },
  {
   "cell_type": "markdown",
   "id": "8912cb36",
   "metadata": {},
   "source": [
    "\n",
    "## 1. What is a NumPy Array?\n",
    "- A **NumPy array (ndarray)** is a powerful multi-dimensional container for numerical data.\n",
    "- It can hold elements of a single data type (e.g., integers, floats).\n",
    "- Arrays are more efficient than Python lists in terms of both memory and performance.\n",
    "\n",
    "---\n",
    "\n",
    "## 2. Why Use NumPy Arrays?\n",
    "- **Efficiency:** NumPy arrays are faster and use less memory than Python lists.\n",
    "- **Vectorized Operations:** Perform element-wise operations without explicit loops.\n",
    "- **Dimensional Support:** Arrays can be 1D, 2D, or nD, enabling the storage of complex data structures.\n",
    "\n",
    "---\n",
    "\n",
    "## 3. Types of Arrays\n",
    "1. **1D Arrays:** Represented as simple lists.\n",
    "   Example: `[1, 2, 3]`\n",
    "2. **2D Arrays:** Represented as matrices.\n",
    "   Example: `[[1, 2], [3, 4]]`\n",
    "3. **nD Arrays:** Represent multi-dimensional data.\n",
    "   Example: A 3D array can be thought of as a cube of values.\n",
    "\n",
    "---\n",
    "\n",
    "## Key Points to Remember\n",
    "- **NumPy arrays are homogeneous:** all elements must be of the same data type.\n",
    "- **Better Performance:** Arrays provide better performance and memory efficiency than Python lists.\n",
    "- **Support for Multi-Dimensional Data:** Arrays can handle multi-dimensional data, making them ideal for numerical computations.\n",
    "---\n",
    "\n"
   ]
  },
  {
   "cell_type": "markdown",
   "id": "2d95661c",
   "metadata": {},
   "source": [
    "# Creating NumPy Arrays\n",
    "NumPy provides multiple ways to create arrays:\n",
    "\n",
    "- **1.** From Python Lists\n",
    "- **From Python Lists:**\n",
    "  ```python\n",
    "    my_list = [1, 2, 3]\n",
    "    arr = np.array(my_list)\n",
    "\n",
    "\n"
   ]
  },
  {
   "cell_type": "code",
   "execution_count": 4,
   "id": "0d85ba4e",
   "metadata": {},
   "outputs": [
    {
     "data": {
      "text/plain": [
       "[1, 2, 4, 5, 6, 7]"
      ]
     },
     "execution_count": 4,
     "metadata": {},
     "output_type": "execute_result"
    }
   ],
   "source": [
    "# 1. Creating the array using the python list \n",
    "my_list = [1, 2, 4, 5, 6, 7]\n",
    "my_list"
   ]
  },
  {
   "cell_type": "code",
   "execution_count": 5,
   "id": "fab3d5ca",
   "metadata": {},
   "outputs": [
    {
     "data": {
      "text/plain": [
       "list"
      ]
     },
     "execution_count": 5,
     "metadata": {},
     "output_type": "execute_result"
    }
   ],
   "source": [
    "type(my_list)"
   ]
  },
  {
   "cell_type": "code",
   "execution_count": 6,
   "id": "4ed4c540",
   "metadata": {},
   "outputs": [
    {
     "data": {
      "text/plain": [
       "array([1, 2, 4, 5, 6, 7])"
      ]
     },
     "execution_count": 6,
     "metadata": {},
     "output_type": "execute_result"
    }
   ],
   "source": [
    "np.array(my_list)"
   ]
  },
  {
   "cell_type": "code",
   "execution_count": 7,
   "id": "e1501577",
   "metadata": {},
   "outputs": [
    {
     "data": {
      "text/plain": [
       "array([1, 2, 4, 5, 6, 7])"
      ]
     },
     "execution_count": 7,
     "metadata": {},
     "output_type": "execute_result"
    }
   ],
   "source": [
    "myarr = np.array(my_list)\n",
    "myarr"
   ]
  },
  {
   "cell_type": "code",
   "execution_count": 8,
   "id": "42707e67",
   "metadata": {},
   "outputs": [
    {
     "data": {
      "text/plain": [
       "numpy.ndarray"
      ]
     },
     "execution_count": 8,
     "metadata": {},
     "output_type": "execute_result"
    }
   ],
   "source": [
    "type(myarr)"
   ]
  },
  {
   "cell_type": "code",
   "execution_count": 10,
   "id": "ee53c03d",
   "metadata": {},
   "outputs": [
    {
     "data": {
      "text/plain": [
       "list"
      ]
     },
     "execution_count": 10,
     "metadata": {},
     "output_type": "execute_result"
    }
   ],
   "source": [
    "my_list = [[1, 2, 3], [4, 5, 6]]\n",
    "type(my_list)"
   ]
  },
  {
   "cell_type": "code",
   "execution_count": 11,
   "id": "1481b368",
   "metadata": {},
   "outputs": [
    {
     "data": {
      "text/plain": [
       "array([[[1, 2, 3],\n",
       "        [4, 5, 6]]])"
      ]
     },
     "execution_count": 11,
     "metadata": {},
     "output_type": "execute_result"
    }
   ],
   "source": [
    "my_arr = np.array([my_list])\n",
    "my_arr"
   ]
  },
  {
   "cell_type": "code",
   "execution_count": 12,
   "id": "6a3dbbc0",
   "metadata": {},
   "outputs": [
    {
     "data": {
      "text/plain": [
       "numpy.ndarray"
      ]
     },
     "execution_count": 12,
     "metadata": {},
     "output_type": "execute_result"
    }
   ],
   "source": [
    "type(my_arr)"
   ]
  },
  {
   "cell_type": "markdown",
   "id": "b20d1ae1",
   "metadata": {},
   "source": [
    "- **2.** Using Built-in Functions\n",
    "    - **Zeros:** Creates an array filled with zeros.\n",
    "    - **Ones:** Creates an array filled with ones.\n",
    "    - **Random Values:** Generates an array of random values.\n",
    "    - **Identity Matrix:** Creates a square matrix with ones on the diagonal and zeros elsewhere.\n",
    "    - **Arange:** Create an array with a range of values\n",
    "    - **Linspace:** Creates an array of evenly spaced values within a specified range.\n",
    "\n"
   ]
  },
  {
   "cell_type": "markdown",
   "id": "184bcf49",
   "metadata": {},
   "source": [
    "## Creating the array using the .zeros \n"
   ]
  },
  {
   "cell_type": "code",
   "execution_count": 13,
   "id": "f1771d1d",
   "metadata": {},
   "outputs": [
    {
     "data": {
      "text/plain": [
       "array([0., 0., 0., 0., 0.])"
      ]
     },
     "execution_count": 13,
     "metadata": {},
     "output_type": "execute_result"
    }
   ],
   "source": [
    "np.zeros(5)"
   ]
  },
  {
   "cell_type": "code",
   "execution_count": 14,
   "id": "04c451b2",
   "metadata": {},
   "outputs": [
    {
     "data": {
      "text/plain": [
       "array([[0., 0., 0.],\n",
       "       [0., 0., 0.],\n",
       "       [0., 0., 0.]])"
      ]
     },
     "execution_count": 14,
     "metadata": {},
     "output_type": "execute_result"
    }
   ],
   "source": [
    "np.zeros((3,3))"
   ]
  },
  {
   "cell_type": "code",
   "execution_count": 15,
   "id": "d54bca82",
   "metadata": {},
   "outputs": [
    {
     "data": {
      "text/plain": [
       "array([[0., 0., 0., 0., 0.],\n",
       "       [0., 0., 0., 0., 0.]])"
      ]
     },
     "execution_count": 15,
     "metadata": {},
     "output_type": "execute_result"
    }
   ],
   "source": [
    "np.zeros((2,5))"
   ]
  },
  {
   "cell_type": "markdown",
   "id": "358e8f7e",
   "metadata": {},
   "source": [
    "## creating the array using the .ones \n"
   ]
  },
  {
   "cell_type": "code",
   "execution_count": 16,
   "id": "737b7204",
   "metadata": {},
   "outputs": [
    {
     "data": {
      "text/plain": [
       "array([1., 1., 1., 1., 1.])"
      ]
     },
     "execution_count": 16,
     "metadata": {},
     "output_type": "execute_result"
    }
   ],
   "source": [
    "np.ones(5)"
   ]
  },
  {
   "cell_type": "code",
   "execution_count": 17,
   "id": "b39bed0a",
   "metadata": {},
   "outputs": [
    {
     "data": {
      "text/plain": [
       "array([[1., 1., 1.],\n",
       "       [1., 1., 1.]])"
      ]
     },
     "execution_count": 17,
     "metadata": {},
     "output_type": "execute_result"
    }
   ],
   "source": [
    "np.ones((2, 3))"
   ]
  },
  {
   "cell_type": "markdown",
   "id": "0cb7eaec",
   "metadata": {},
   "source": [
    "## Creating the array using random values "
   ]
  },
  {
   "cell_type": "code",
   "execution_count": 27,
   "id": "e2e70f05",
   "metadata": {},
   "outputs": [
    {
     "data": {
      "text/plain": [
       "array([0.23006961])"
      ]
     },
     "execution_count": 27,
     "metadata": {},
     "output_type": "execute_result"
    }
   ],
   "source": [
    "np.random.rand(1)"
   ]
  },
  {
   "cell_type": "code",
   "execution_count": 28,
   "id": "b0e6666c",
   "metadata": {},
   "outputs": [
    {
     "data": {
      "text/plain": [
       "array([[0.39453264, 0.675184  ],\n",
       "       [0.25494416, 0.74669169],\n",
       "       [0.24688067, 0.44512489]])"
      ]
     },
     "execution_count": 28,
     "metadata": {},
     "output_type": "execute_result"
    }
   ],
   "source": [
    "np.random.rand(3,2)"
   ]
  },
  {
   "cell_type": "code",
   "execution_count": 29,
   "id": "7cf7a2c7",
   "metadata": {},
   "outputs": [
    {
     "data": {
      "text/plain": [
       "array([0.78178586, 0.06748868, 0.83509161, 0.21451951, 0.05907887])"
      ]
     },
     "execution_count": 29,
     "metadata": {},
     "output_type": "execute_result"
    }
   ],
   "source": [
    "np.random.rand(5)"
   ]
  },
  {
   "cell_type": "code",
   "execution_count": 30,
   "id": "b83f09aa",
   "metadata": {},
   "outputs": [
    {
     "data": {
      "text/plain": [
       "array([ 0.20413037, -0.5402387 , -0.09853545])"
      ]
     },
     "execution_count": 30,
     "metadata": {},
     "output_type": "execute_result"
    }
   ],
   "source": [
    "np.random.randn(3) # Return the random number from the std. normal distribution "
   ]
  },
  {
   "cell_type": "code",
   "execution_count": 31,
   "id": "4bbdf1b2",
   "metadata": {},
   "outputs": [
    {
     "data": {
      "text/plain": [
       "array([[-0.82347491,  0.86306635, -0.56373279],\n",
       "       [ 0.722605  ,  1.65827547,  2.6277958 ]])"
      ]
     },
     "execution_count": 31,
     "metadata": {},
     "output_type": "execute_result"
    }
   ],
   "source": [
    "np.random.randn(2,3)"
   ]
  },
  {
   "cell_type": "code",
   "execution_count": 34,
   "id": "dcdc881e",
   "metadata": {},
   "outputs": [
    {
     "data": {
      "text/plain": [
       "14"
      ]
     },
     "execution_count": 34,
     "metadata": {},
     "output_type": "execute_result"
    }
   ],
   "source": [
    "np.random.randint(20)"
   ]
  },
  {
   "cell_type": "code",
   "execution_count": 37,
   "id": "f4503580",
   "metadata": {},
   "outputs": [
    {
     "data": {
      "text/plain": [
       "array([90, 43, 89, 66, 92])"
      ]
     },
     "execution_count": 37,
     "metadata": {},
     "output_type": "execute_result"
    }
   ],
   "source": [
    "np.random.randint(0, 101, size=5)"
   ]
  },
  {
   "cell_type": "code",
   "execution_count": 38,
   "id": "70bb6799",
   "metadata": {},
   "outputs": [
    {
     "data": {
      "text/plain": [
       "array([[0, 7],\n",
       "       [9, 9]])"
      ]
     },
     "execution_count": 38,
     "metadata": {},
     "output_type": "execute_result"
    }
   ],
   "source": [
    "np.random.randint(0,10, size=(2,2))"
   ]
  },
  {
   "cell_type": "markdown",
   "id": "ceaea723",
   "metadata": {},
   "source": [
    "## creating the identity matrix "
   ]
  },
  {
   "cell_type": "code",
   "execution_count": 20,
   "id": "727d6da5",
   "metadata": {},
   "outputs": [
    {
     "data": {
      "text/plain": [
       "array([[1., 0., 0., 0.],\n",
       "       [0., 1., 0., 0.],\n",
       "       [0., 0., 1., 0.],\n",
       "       [0., 0., 0., 1.]])"
      ]
     },
     "execution_count": 20,
     "metadata": {},
     "output_type": "execute_result"
    }
   ],
   "source": [
    "np.eye(4)"
   ]
  },
  {
   "cell_type": "code",
   "execution_count": 21,
   "id": "baec475f",
   "metadata": {},
   "outputs": [
    {
     "data": {
      "text/plain": [
       "array([[1.]])"
      ]
     },
     "execution_count": 21,
     "metadata": {},
     "output_type": "execute_result"
    }
   ],
   "source": [
    "np.eye(1)"
   ]
  },
  {
   "cell_type": "code",
   "execution_count": 22,
   "id": "488b588b",
   "metadata": {},
   "outputs": [
    {
     "data": {
      "text/plain": [
       "array([[1., 0., 0., 0., 0.],\n",
       "       [0., 1., 0., 0., 0.],\n",
       "       [0., 0., 1., 0., 0.],\n",
       "       [0., 0., 0., 1., 0.],\n",
       "       [0., 0., 0., 0., 1.]])"
      ]
     },
     "execution_count": 22,
     "metadata": {},
     "output_type": "execute_result"
    }
   ],
   "source": [
    "np.eye(5)"
   ]
  },
  {
   "cell_type": "markdown",
   "id": "f1a3c119",
   "metadata": {},
   "source": [
    "## Creating the array using the `arange` function "
   ]
  },
  {
   "cell_type": "code",
   "execution_count": 23,
   "id": "c4c14ae5",
   "metadata": {},
   "outputs": [
    {
     "data": {
      "text/plain": [
       "array([ 0,  2,  4,  6,  8, 10])"
      ]
     },
     "execution_count": 23,
     "metadata": {},
     "output_type": "execute_result"
    }
   ],
   "source": [
    "np.arange(0, 11, 2)"
   ]
  },
  {
   "cell_type": "code",
   "execution_count": 24,
   "id": "170a9d78",
   "metadata": {},
   "outputs": [
    {
     "data": {
      "text/plain": [
       "array([ 0.,  2.,  4.,  6.,  8., 10.])"
      ]
     },
     "execution_count": 24,
     "metadata": {},
     "output_type": "execute_result"
    }
   ],
   "source": [
    "np.arange(0, 11, 2, dtype=float)"
   ]
  },
  {
   "cell_type": "markdown",
   "id": "890e5ad9",
   "metadata": {},
   "source": [
    "## Creatig the array using the `Linspace` function "
   ]
  },
  {
   "cell_type": "code",
   "execution_count": 25,
   "id": "9717c1b8",
   "metadata": {},
   "outputs": [
    {
     "data": {
      "text/plain": [
       "array([0.  , 0.25, 0.5 , 0.75, 1.  ])"
      ]
     },
     "execution_count": 25,
     "metadata": {},
     "output_type": "execute_result"
    }
   ],
   "source": [
    "np.linspace(0, 1, 5)"
   ]
  },
  {
   "cell_type": "markdown",
   "id": "628a3ce5",
   "metadata": {},
   "source": [
    "# Seed in Random Number Generation\n",
    "\n",
    "## What is a Seed?\n",
    "- A **seed** is an integer value used to initialize the random number generator.\n",
    "- It determines the starting state of the random number generation algorithm.\n",
    "- While the numbers generated appear random, they are actually **pseudo-random**, meaning they are determined by the seed and the algorithm.\n",
    "\n",
    "---\n",
    "\n",
    "## Why Do We Need a Seed?\n",
    "- **Reproducibility:** A seed ensures the same random numbers are generated every time the code is executed, which is critical for:\n",
    "  - Testing and debugging.\n",
    "  - Consistent results in experiments.\n",
    "  - Comparisons across different runs of the same program.\n",
    "\n",
    "---\n",
    "\n",
    "## Why Use a Seed?\n",
    "- **Consistency:** Ensures that experiments involving random elements (e.g., data splitting, weight initialization) produce the same results on multiple executions.\n",
    "- **Debugging:** Allows developers to track and fix issues by replicating results.\n",
    "- **Reproducible Research:** Ensures others can reproduce results by using the same seed value.\n",
    "\n",
    "---\n",
    "\n",
    "## Key Points About Seeds\n",
    "- **Without a Seed:** The random number generator produces different outputs every time the code runs.\n",
    "- **With a Seed:** The sequence of random numbers is fixed, ensuring reproducibility.\n",
    "- **Changing the Seed:** Using a different seed value produces a different, but still reproducible, sequence.\n",
    "\n",
    "---\n"
   ]
  },
  {
   "cell_type": "code",
   "execution_count": 40,
   "id": "a485305f",
   "metadata": {},
   "outputs": [
    {
     "data": {
      "text/plain": [
       "array([0.37454012, 0.95071431, 0.73199394, 0.59865848])"
      ]
     },
     "execution_count": 40,
     "metadata": {},
     "output_type": "execute_result"
    }
   ],
   "source": [
    "np.random.seed(42) # This ensures that every time you run the code, the same random numbers will be generated.\n",
    "np.random.rand(4)"
   ]
  },
  {
   "cell_type": "markdown",
   "id": "341a968b",
   "metadata": {},
   "source": [
    "---\n",
    "\n",
    "<center><h1>Array Attributes</h1></center>\n",
    "\n",
    "---\n",
    "\n",
    "- **shape:** Returns the dimensions of the array.\n",
    "- **size:** Returns the total number of elements in the array.\n",
    "- **dtype:** Returns the data type of elements.\n",
    "- **ndim:** Returns the number of dimensions (axes)"
   ]
  },
  {
   "cell_type": "code",
   "execution_count": 47,
   "id": "37394ae5",
   "metadata": {},
   "outputs": [
    {
     "data": {
      "text/plain": [
       "array([[1, 2, 3],\n",
       "       [4, 5, 6]])"
      ]
     },
     "execution_count": 47,
     "metadata": {},
     "output_type": "execute_result"
    }
   ],
   "source": [
    "arr = np.array(([1, 2, 3], [4, 5, 6]))\n",
    "arr"
   ]
  },
  {
   "cell_type": "code",
   "execution_count": 48,
   "id": "8c5ef38e",
   "metadata": {},
   "outputs": [
    {
     "name": "stdout",
     "output_type": "stream",
     "text": [
      "(2, 3)\n"
     ]
    }
   ],
   "source": [
    "print(arr.shape)"
   ]
  },
  {
   "cell_type": "code",
   "execution_count": 49,
   "id": "b7fb54bd",
   "metadata": {},
   "outputs": [
    {
     "name": "stdout",
     "output_type": "stream",
     "text": [
      "6\n"
     ]
    }
   ],
   "source": [
    "print(arr.size)"
   ]
  },
  {
   "cell_type": "code",
   "execution_count": 51,
   "id": "186cb688",
   "metadata": {},
   "outputs": [
    {
     "name": "stdout",
     "output_type": "stream",
     "text": [
      "int32\n"
     ]
    }
   ],
   "source": [
    "print(arr.dtype)"
   ]
  },
  {
   "cell_type": "code",
   "execution_count": 52,
   "id": "0e7efd0e",
   "metadata": {},
   "outputs": [
    {
     "name": "stdout",
     "output_type": "stream",
     "text": [
      "2\n"
     ]
    }
   ],
   "source": [
    "print(arr.ndim)"
   ]
  },
  {
   "cell_type": "markdown",
   "id": "b7053a62",
   "metadata": {},
   "source": [
    "#  Reshaping Arrays\n",
    "- `Change the shape of an array using .reshape()`"
   ]
  },
  {
   "cell_type": "code",
   "execution_count": 59,
   "id": "0dd4bfa1",
   "metadata": {},
   "outputs": [
    {
     "data": {
      "text/plain": [
       "array([1, 2, 3, 4, 5, 6, 7, 8, 9])"
      ]
     },
     "execution_count": 59,
     "metadata": {},
     "output_type": "execute_result"
    }
   ],
   "source": [
    "arr_1 = np.array([1, 2, 3, 4, 5, 6, 7, 8, 9])\n",
    "arr_1"
   ]
  },
  {
   "cell_type": "code",
   "execution_count": 60,
   "id": "23a9b300",
   "metadata": {},
   "outputs": [
    {
     "data": {
      "text/plain": [
       "array([[1, 2, 3],\n",
       "       [4, 5, 6],\n",
       "       [7, 8, 9]])"
      ]
     },
     "execution_count": 60,
     "metadata": {},
     "output_type": "execute_result"
    }
   ],
   "source": [
    "arr_1.reshape(3,3)"
   ]
  },
  {
   "cell_type": "markdown",
   "id": "4b36f9c1",
   "metadata": {},
   "source": [
    "# Array Indexing and Slicing\n",
    "- Access specific elements using indices.\n",
    "- Slice arrays to access subarrays."
   ]
  },
  {
   "cell_type": "code",
   "execution_count": 61,
   "id": "72012887",
   "metadata": {},
   "outputs": [
    {
     "data": {
      "text/plain": [
       "array([[1, 2, 3],\n",
       "       [4, 5, 6]])"
      ]
     },
     "execution_count": 61,
     "metadata": {},
     "output_type": "execute_result"
    }
   ],
   "source": [
    "my_arr = np.array([[1,2,3],[4,5,6]])\n",
    "my_arr"
   ]
  },
  {
   "cell_type": "code",
   "execution_count": 63,
   "id": "8e952ce8",
   "metadata": {},
   "outputs": [
    {
     "data": {
      "text/plain": [
       "array([1, 2, 3])"
      ]
     },
     "execution_count": 63,
     "metadata": {},
     "output_type": "execute_result"
    }
   ],
   "source": [
    "arr[0]"
   ]
  },
  {
   "cell_type": "code",
   "execution_count": 64,
   "id": "1bf9a56c",
   "metadata": {},
   "outputs": [
    {
     "data": {
      "text/plain": [
       "array([4, 5, 6])"
      ]
     },
     "execution_count": 64,
     "metadata": {},
     "output_type": "execute_result"
    }
   ],
   "source": [
    "arr[1]"
   ]
  },
  {
   "cell_type": "code",
   "execution_count": 65,
   "id": "392ebe9b",
   "metadata": {},
   "outputs": [
    {
     "data": {
      "text/plain": [
       "2"
      ]
     },
     "execution_count": 65,
     "metadata": {},
     "output_type": "execute_result"
    }
   ],
   "source": [
    "arr[0,1]"
   ]
  },
  {
   "cell_type": "code",
   "execution_count": 66,
   "id": "7c41d47d",
   "metadata": {},
   "outputs": [
    {
     "data": {
      "text/plain": [
       "5"
      ]
     },
     "execution_count": 66,
     "metadata": {},
     "output_type": "execute_result"
    }
   ],
   "source": [
    "arr[1,1]"
   ]
  },
  {
   "cell_type": "code",
   "execution_count": 68,
   "id": "77da827e",
   "metadata": {},
   "outputs": [
    {
     "data": {
      "text/plain": [
       "array([2, 5])"
      ]
     },
     "execution_count": 68,
     "metadata": {},
     "output_type": "execute_result"
    }
   ],
   "source": [
    "arr[:,1]"
   ]
  },
  {
   "cell_type": "code",
   "execution_count": 69,
   "id": "aacdf805",
   "metadata": {},
   "outputs": [
    {
     "data": {
      "text/plain": [
       "array([4, 5, 6])"
      ]
     },
     "execution_count": 69,
     "metadata": {},
     "output_type": "execute_result"
    }
   ],
   "source": [
    "arr[1,:]"
   ]
  },
  {
   "cell_type": "markdown",
   "id": "c3e6aa2e",
   "metadata": {},
   "source": [
    "## Array Operations\n",
    "\n",
    "- 1. **Arithmetic Operations:** Element-wise addition, subtraction, multiplication, etc.\n",
    "- 2. **Statistical Operations:**\n",
    "        - Sum: np.sum(arr)\n",
    "        - Mean: np.mean(arr)\n",
    "        - Standard Deviation: np.std(arr)\n",
    "        "
   ]
  },
  {
   "cell_type": "code",
   "execution_count": 70,
   "id": "83922a67",
   "metadata": {},
   "outputs": [],
   "source": [
    "new_arr = np.random.randint(0, 101, size=10)"
   ]
  },
  {
   "cell_type": "code",
   "execution_count": 71,
   "id": "1964bc42",
   "metadata": {},
   "outputs": [
    {
     "data": {
      "text/plain": [
       "array([82, 86, 74, 74, 87, 99, 23,  2, 21, 52])"
      ]
     },
     "execution_count": 71,
     "metadata": {},
     "output_type": "execute_result"
    }
   ],
   "source": [
    "new_arr"
   ]
  },
  {
   "cell_type": "code",
   "execution_count": 72,
   "id": "4c4b1e8a",
   "metadata": {},
   "outputs": [
    {
     "data": {
      "text/plain": [
       "array([246, 258, 222, 222, 261, 297,  69,   6,  63, 156])"
      ]
     },
     "execution_count": 72,
     "metadata": {},
     "output_type": "execute_result"
    }
   ],
   "source": [
    "# Arithmetic Operations: Element-wise addition, subtraction, multiplication, etc.\n",
    "new_arr * 3"
   ]
  },
  {
   "cell_type": "code",
   "execution_count": 73,
   "id": "4d097178",
   "metadata": {},
   "outputs": [
    {
     "data": {
      "text/plain": [
       "array([ 83,  87,  75,  75,  88, 100,  24,   3,  22,  53])"
      ]
     },
     "execution_count": 73,
     "metadata": {},
     "output_type": "execute_result"
    }
   ],
   "source": [
    "new_arr + 1"
   ]
  },
  {
   "cell_type": "code",
   "execution_count": 74,
   "id": "3290f7bc",
   "metadata": {},
   "outputs": [
    {
     "data": {
      "text/plain": [
       "array([81, 85, 73, 73, 86, 98, 22,  1, 20, 51])"
      ]
     },
     "execution_count": 74,
     "metadata": {},
     "output_type": "execute_result"
    }
   ],
   "source": [
    "new_arr - 1"
   ]
  },
  {
   "cell_type": "code",
   "execution_count": 78,
   "id": "898d7ec7",
   "metadata": {},
   "outputs": [
    {
     "name": "stdout",
     "output_type": "stream",
     "text": [
      "[82 86 74 74 87 99 23  2 21 52]\n",
      "The sum is: 600\n",
      "The mean is: 60.0\n",
      "The std is: 31.811947441173732\n",
      "The min is: 2\n",
      "The max is: 99\n"
     ]
    }
   ],
   "source": [
    "# Statistical Operations:\n",
    "print(new_arr)\n",
    "print(f'The sum is: {np.sum(new_arr)}')\n",
    "print(f'The mean is: {np.mean(new_arr)}')\n",
    "print(f'The std is: {np.std(new_arr)}')\n",
    "print(f'The min is: {np.min(new_arr)}')\n",
    "print(f'The max is: {np.max(new_arr)}')\n"
   ]
  },
  {
   "cell_type": "code",
   "execution_count": 79,
   "id": "5c1fd0fa",
   "metadata": {},
   "outputs": [
    {
     "name": "stdout",
     "output_type": "stream",
     "text": [
      "[82 86 74 74 87 99 23  2 21 52]\n",
      "5\n",
      "7\n"
     ]
    }
   ],
   "source": [
    "print(new_arr)\n",
    "print(np.argmax(new_arr)) # Finds the index of the maximum value in the array.\n",
    "\n",
    "print(np.argmin(new_arr)) # Finds the index of the minimum value in the array."
   ]
  },
  {
   "cell_type": "markdown",
   "id": "6622588c",
   "metadata": {},
   "source": [
    "<center><h1>Broadcasting</h1></center>"
   ]
  },
  {
   "cell_type": "markdown",
   "id": "859509e4",
   "metadata": {},
   "source": [
    "### What is Broadcasting?\n",
    "- **Broadcasting** is a powerful feature in NumPy that allows operations on arrays of different shapes and sizes, without explicitly reshaping them.\n",
    "- It automatically adjusts the smaller array to fit the larger one, performing element-wise operations.\n",
    "\n",
    "### How Does Broadcasting Work?\n",
    "When performing operations between arrays of different shapes, NumPy \"broadcasts\" the smaller array across the larger one, so they can have the same shape for the operation. Broadcasting follows specific rules to ensure compatibility:\n",
    "\n",
    "### Broadcasting Rules:\n",
    "1. **If the arrays have a different number of dimensions, pad the smaller array's shape with ones on the left side** until both arrays have the same number of dimensions.\n",
    "2. **Compare the dimensions** of both arrays. If the size in any dimension is different, the smaller size must be **1** in that dimension for broadcasting to work.\n",
    "3. **If the sizes are not compatible**, broadcasting will fail, and an error will occur.\n",
    "\n",
    "### Why Use Broadcasting?\n",
    "- Efficient Computation: Broadcasting allows NumPy to handle operations without needing to manually reshape arrays or use loops.\n",
    "- Memory Efficient: The smaller array is not physically replicated; NumPy handles it efficiently without using extra memory.\n",
    "- Cleaner Code: Broadcasting makes code simpler and easier to read by avoiding the need for explicit loops or manual reshaping.\n",
    "\n",
    "### Key Takeaways\n",
    "- Broadcasting automatically extends arrays of different shapes for element-wise operations.\n",
    "- Broadcasting follows rules to ensure compatibility, and if they aren't met, an error will occur.\n",
    "- It simplifies code, improves performance, and reduces memory usage when performing array operations.\n",
    "\n",
    "\n"
   ]
  },
  {
   "cell_type": "code",
   "execution_count": 2,
   "id": "d6befe27",
   "metadata": {},
   "outputs": [
    {
     "data": {
      "text/plain": [
       "[1, 2, 1, 2]"
      ]
     },
     "execution_count": 2,
     "metadata": {},
     "output_type": "execute_result"
    }
   ],
   "source": [
    "[1,2] * 2"
   ]
  },
  {
   "cell_type": "code",
   "execution_count": 3,
   "id": "1384a5fd",
   "metadata": {},
   "outputs": [
    {
     "data": {
      "text/plain": [
       "array([2, 4])"
      ]
     },
     "execution_count": 3,
     "metadata": {},
     "output_type": "execute_result"
    }
   ],
   "source": [
    "np.array([1,2]) * 2"
   ]
  },
  {
   "cell_type": "code",
   "execution_count": 80,
   "id": "5a5b4820",
   "metadata": {},
   "outputs": [
    {
     "name": "stdout",
     "output_type": "stream",
     "text": [
      "[[11 22]\n",
      " [13 24]]\n"
     ]
    }
   ],
   "source": [
    "a = np.array([[1,2],[3,4]])\n",
    "b = np.array([10,20])\n",
    "\n",
    "\n",
    "print(a+b)"
   ]
  },
  {
   "cell_type": "markdown",
   "id": "3dbe4cb2",
   "metadata": {},
   "source": [
    "## Understanding `axis` in NumPy\n",
    "\n",
    "In NumPy, the `axis` argument is used to specify the direction along which a particular operation should be performed. It is especially useful for functions like `sum()`, `mean()`, `min()`, `max()`, etc., to determine whether the operation should be applied to rows or columns.\n",
    "\n",
    "### Axis 0 - Rows\n",
    "- **`axis=0`** refers to operations **along the rows** (i.e., vertically).\n",
    "- When an operation is performed along `axis=0`, NumPy applies the operation **column-wise**, meaning it will perform the operation on each column across all rows.\n",
    "\n",
    "### Axis 1 - Columns\n",
    "- **`axis=1`** refers to operations **along the columns** (i.e., horizontally).\n",
    "- When an operation is performed along `axis=1`, NumPy applies the operation **row-wise**, meaning it will perform the operation on each row across all columns.\n"
   ]
  },
  {
   "cell_type": "code",
   "execution_count": null,
   "id": "244a8f81",
   "metadata": {},
   "outputs": [],
   "source": []
  }
 ],
 "metadata": {
  "kernelspec": {
   "display_name": "Python 3 (ipykernel)",
   "language": "python",
   "name": "python3"
  },
  "language_info": {
   "codemirror_mode": {
    "name": "ipython",
    "version": 3
   },
   "file_extension": ".py",
   "mimetype": "text/x-python",
   "name": "python",
   "nbconvert_exporter": "python",
   "pygments_lexer": "ipython3",
   "version": "3.9.12"
  }
 },
 "nbformat": 4,
 "nbformat_minor": 5
}
