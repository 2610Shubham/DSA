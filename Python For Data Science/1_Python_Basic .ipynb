{
 "cells": [
  {
   "cell_type": "markdown",
   "id": "5c681b7c",
   "metadata": {},
   "source": [
    "---\n",
    "<center><H1>Python</H1></center>\n",
    "\n",
    "---\n",
    "\n"
   ]
  },
  {
   "cell_type": "markdown",
   "id": "c5a0bd90",
   "metadata": {},
   "source": [
    "### Interpreted Language:  \n",
    "- Python is an interpreted language, meaning that Python code is executed line by line. There is no need for compilation into machine code, which makes it easier to write and test code quickly.\n",
    "\n",
    "<div style=\"border-top: 3px solid #bbb; margin-top: 10px; margin-bottom: 10px;\"></div>\n",
    "\n",
    "### Python Compilation Process\n",
    "\n",
    "- **Automatic Conversion to Bytecode**: When you run a Python program, the Python interpreter automatically converts your source code into an intermediate form called **bytecode**. This step happens behind the scenes.\n",
    "\n",
    "- **Bytecode Execution**: Unlike languages like C or Java, Python doesn't directly compile code into machine code. Instead, it converts the code into bytecode, which is then executed by the Python Virtual Machine (PVM).\n",
    "\n",
    "- **No Manual Compilation Required**: Python handles the entire compilation process automatically. You don't need to manually compile your code; the interpreter takes care of converting it into bytecode and executing it, making Python easier to use and more flexible for quick development.\n",
    "\n",
    "- **Summary**: Python code is \"compiled\" into bytecode, but this process is about preparing the code for execution rather than fully converting it into machine code, as in other programming languages like C or Java.\n",
    "\n",
    "<div style=\"border-top: 3px solid #bbb; margin-top: 10px; margin-bottom: 10px;\"></div>\n",
    "\n",
    "\n",
    "### Note: \n",
    "- Python handles **compilation at runtime**, it's easier to test and modify code quickly.\n",
    "- Python generates bytecode, which is interpreted, whereas C++ produces machine code that runs directly on the hardware.\n",
    "- **Cross-Platform**: Python is cross-platform, meaning you can run Python programs on different operating systems like Windows, macOS, and Linux without requiring any modifications.\n",
    "\n",
    "\n",
    "\n",
    "<div style=\"border-top: 3px solid #bbb; margin-top: 10px; margin-bottom: 10px;\"></div>\n",
    "\n",
    "\n",
    "### Dynamically Typed: \n",
    "- In Python, you don’t need to declare the type of a variable when you create one. The interpreter automatically determines the data type at runtime. For example, if you write x = 10, Python understands that x is an integer.\n",
    "\n",
    "<div style=\"border-top: 3px solid #bbb; margin-top: 10px; margin-bottom: 10px;\"></div>\n",
    "\n",
    "### Object-Oriented: \n",
    "- Python supports object-oriented programming (OOP), which means you can define classes and objects to model real-world things, making your code reusable and organized.\n",
    "\n",
    "<div style=\"border-top: 3px solid #bbb; margin-top: 10px; margin-bottom: 10px;\"></div>\n",
    "\n",
    "\n",
    "### Interpreted vs. Compiled Languages: \n",
    "- While Python is interpreted, languages like C or Java are compiled, meaning their code is translated into machine code before execution. This makes Python slower but more flexible for quick development.\n",
    "\n",
    "<div style=\"border-top: 3px solid #bbb; margin-top: 10px; margin-bottom: 10px;\"></div>\n",
    "\n",
    "\n"
   ]
  },
  {
   "cell_type": "markdown",
   "id": "0ea788ac",
   "metadata": {},
   "source": [
    "<div style=\"border-top: 3px solid #bbb; margin-top: 10px; margin-bottom: 10px;\"></div>\n",
    "\n",
    "\n",
    "### Indentation Error in Python:\n",
    "- Indentation in Python refers to the spaces or tabs used at the beginning of a line to define the structure of your code. \n",
    "- Unlike many other programming languages, Python relies heavily on indentation to determine the grouping of statements and the flow of control. \n",
    "- In Python, code blocks (like those following if, for, while, and function definitions) must be indented consistently.\n",
    "\n",
    "<div style=\"border-top: 3px solid #bbb; margin-top: 10px; margin-bottom: 10px;\"></div>\n"
   ]
  },
  {
   "cell_type": "markdown",
   "id": "810b55af",
   "metadata": {},
   "source": [
    "# Print()\n",
    "\n",
    "- **The print() function in Python is used to display output on the screen.**\n",
    "\n"
   ]
  },
  {
   "cell_type": "code",
   "execution_count": 2,
   "id": "082ba1af",
   "metadata": {},
   "outputs": [
    {
     "name": "stdout",
     "output_type": "stream",
     "text": [
      "Hello World!\n"
     ]
    }
   ],
   "source": [
    "print(\"Hello World!\")"
   ]
  },
  {
   "cell_type": "code",
   "execution_count": 3,
   "id": "3a1caf2d",
   "metadata": {},
   "outputs": [
    {
     "name": "stdout",
     "output_type": "stream",
     "text": [
      "Python-is-awesome\n"
     ]
    }
   ],
   "source": [
    "print(\"Python\", \"is\", \"awesome\", sep=\"-\")"
   ]
  },
  {
   "cell_type": "code",
   "execution_count": 4,
   "id": "3910b519",
   "metadata": {},
   "outputs": [
    {
     "name": "stdout",
     "output_type": "stream",
     "text": [
      "Hello World!\n"
     ]
    }
   ],
   "source": [
    "print(\"Hello\", end=\" \")\n",
    "print(\"World!\")\n"
   ]
  },
  {
   "cell_type": "markdown",
   "id": "cbb7927b",
   "metadata": {},
   "source": [
    "<div style=\"border-top: 3px solid #bbb; margin-top: 10px; margin-bottom: 10px;\"></div>\n",
    "\n",
    "# Basic Datatypes\n",
    "\n",
    "Every value in python has a Datatype. Since everything is an object in python programming, data types are actually classes and\n",
    "variables are instance(object) of these classes.\n",
    "\n",
    "- **int:** Represents whole numbers. \n",
    "\n",
    "- **float:** Represents numbers with decimal points.\n",
    "\n",
    "- **string:** Represents a sequence of characters enclosed in quotes.\n",
    "\n",
    "- **boolean:** Represents truth values, either True or False.\n",
    "\n",
    "- **none:** Represents the absence of a value or a null value.\n",
    "\n",
    "- **Complex:** Represents numbers with a real and an imaginary part. Example = 3 + 5j\n"
   ]
  },
  {
   "cell_type": "markdown",
   "id": "15bc7890",
   "metadata": {},
   "source": [
    "<div style=\"border-top: 3px solid #bbb; margin-top: 10px; margin-bottom: 10px;\"></div>\n",
    "\n",
    "# Variables:\n",
    "\n",
    "- It acts as a placeholder to store values that can be changed or reused later in the program.\n",
    "- A variable in Python is a name that refers to a memory location where data is stored. \n",
    "\n",
    "# Identifiers:\n",
    "\n",
    "- It is essentially the name you give to entities in your code.\n",
    "- Identifiers are names given to variables, functions, and other entities in your code, following specific naming rules and conventions.\n",
    "- Identifiers in Python can be of any length.\n",
    "\n",
    "### Rules for Naming Identifiers:\n",
    "- **Letters and Numbers:** An identifier can contain letters (both lowercase and uppercase), digits, and underscores.\n",
    "- **Must Not Start with a Digit:** Identifiers must begin with a letter or an underscore, not a number.\n",
    "- **Case Sensitivity:** Identifiers are case-sensitive. Name, name, and NAME would be considered three different identifiers.\n",
    "- **No Reserved Words:** You cannot use Python's reserved keywords as identifiers. Keywords are predefined words like if, else, class, def, etc."
   ]
  },
  {
   "cell_type": "code",
   "execution_count": 5,
   "id": "1631d517",
   "metadata": {},
   "outputs": [
    {
     "name": "stdout",
     "output_type": "stream",
     "text": [
      "Shubham\n",
      "Patil\n",
      "24\n"
     ]
    }
   ],
   "source": [
    "# Example of the variables.\n",
    "first_name = 'Shubham'\n",
    "last_name = 'Patil'\n",
    "age = 24\n",
    "\n",
    "# Printing the value stored inside the variables.\n",
    "print(first_name)\n",
    "print(last_name)\n",
    "print(age)"
   ]
  },
  {
   "cell_type": "markdown",
   "id": "608956f7",
   "metadata": {},
   "source": [
    "<div style=\"border-top: 3px solid #bbb; margin-top: 10px; margin-bottom: 10px;\"></div>\n",
    "\n",
    "# type()\n",
    "\n",
    "- The type() function is a built-in Python function that returns the type of an object, helping you identify the kind of data you're dealing with."
   ]
  },
  {
   "cell_type": "code",
   "execution_count": 6,
   "id": "29307e3d",
   "metadata": {},
   "outputs": [
    {
     "name": "stdout",
     "output_type": "stream",
     "text": [
      "<class 'str'>\n",
      "<class 'str'>\n",
      "<class 'int'>\n"
     ]
    }
   ],
   "source": [
    "print(type(first_name))\n",
    "print(type(last_name))\n",
    "print(type(age))"
   ]
  },
  {
   "cell_type": "code",
   "execution_count": 7,
   "id": "8e38f871",
   "metadata": {},
   "outputs": [
    {
     "data": {
      "text/plain": [
       "str"
      ]
     },
     "execution_count": 7,
     "metadata": {},
     "output_type": "execute_result"
    }
   ],
   "source": [
    "type(first_name)\n"
   ]
  },
  {
   "cell_type": "code",
   "execution_count": 8,
   "id": "0d2a362f",
   "metadata": {},
   "outputs": [
    {
     "data": {
      "text/plain": [
       "str"
      ]
     },
     "execution_count": 8,
     "metadata": {},
     "output_type": "execute_result"
    }
   ],
   "source": [
    "type(last_name)"
   ]
  },
  {
   "cell_type": "code",
   "execution_count": 9,
   "id": "f779620c",
   "metadata": {},
   "outputs": [
    {
     "data": {
      "text/plain": [
       "int"
      ]
     },
     "execution_count": 9,
     "metadata": {},
     "output_type": "execute_result"
    }
   ],
   "source": [
    "type(age)"
   ]
  },
  {
   "cell_type": "markdown",
   "id": "20142a3a",
   "metadata": {},
   "source": [
    "<div style=\"border-top: 3px solid #bbb; margin-top: 10px; margin-bottom: 10px;\"></div>\n",
    "\n",
    "# id() :\n",
    "- The id() function in python is **used to get** the **unique identifier for an object**.\n",
    "- identifier is a **memory address where the object is stored**.\n",
    "- The value returned by id() is unique for the object during its lifetime. Once the object is destroyed, the memory address can be reused by other objects.\n",
    "- The id() of an object is an integer.\n"
   ]
  },
  {
   "cell_type": "code",
   "execution_count": 10,
   "id": "cd463bc6",
   "metadata": {},
   "outputs": [
    {
     "data": {
      "text/plain": [
       "2205582587440"
      ]
     },
     "execution_count": 10,
     "metadata": {},
     "output_type": "execute_result"
    }
   ],
   "source": [
    "id(first_name)"
   ]
  },
  {
   "cell_type": "code",
   "execution_count": 11,
   "id": "3b090d2a",
   "metadata": {},
   "outputs": [
    {
     "data": {
      "text/plain": [
       "2205582606640"
      ]
     },
     "execution_count": 11,
     "metadata": {},
     "output_type": "execute_result"
    }
   ],
   "source": [
    "id(last_name)"
   ]
  },
  {
   "cell_type": "code",
   "execution_count": 12,
   "id": "d5338267",
   "metadata": {},
   "outputs": [
    {
     "data": {
      "text/plain": [
       "2205496208400"
      ]
     },
     "execution_count": 12,
     "metadata": {},
     "output_type": "execute_result"
    }
   ],
   "source": [
    "id(age)"
   ]
  },
  {
   "cell_type": "markdown",
   "id": "4a0c439b",
   "metadata": {},
   "source": [
    "<div style=\"border-top: 3px solid #bbb; margin-top: 10px; margin-bottom: 10px;\"></div>\n",
    "\n",
    "# input():\n",
    "\n",
    "- The input() function in python allow us to get input from the user during program execution \n",
    "- **Returns a String:** The input() function always returns **user input as a string**. You need to explicitly convert it to other data types if needed (e.g int(), float()).\n",
    "- **Blocking Call**: The input() function waits (or blocks) until the user provides input and presses Enter.\n"
   ]
  },
  {
   "cell_type": "code",
   "execution_count": 14,
   "id": "adc7a183",
   "metadata": {},
   "outputs": [
    {
     "name": "stdout",
     "output_type": "stream",
     "text": [
      "Enter your name: Shubham \n"
     ]
    }
   ],
   "source": [
    "name = input(\"Enter your name: \")"
   ]
  },
  {
   "cell_type": "code",
   "execution_count": 15,
   "id": "1ebfebba",
   "metadata": {},
   "outputs": [
    {
     "name": "stdout",
     "output_type": "stream",
     "text": [
      "Hello Shubham !\n"
     ]
    }
   ],
   "source": [
    "print(\"Hello \" + name + '!' )"
   ]
  },
  {
   "cell_type": "code",
   "execution_count": 16,
   "id": "27e20780",
   "metadata": {},
   "outputs": [
    {
     "data": {
      "text/plain": [
       "str"
      ]
     },
     "execution_count": 16,
     "metadata": {},
     "output_type": "execute_result"
    }
   ],
   "source": [
    "type(name)"
   ]
  },
  {
   "cell_type": "code",
   "execution_count": 17,
   "id": "3b5f656a",
   "metadata": {},
   "outputs": [
    {
     "name": "stdout",
     "output_type": "stream",
     "text": [
      "Enter your age: 24\n"
     ]
    }
   ],
   "source": [
    "age = input(\"Enter your age: \")"
   ]
  },
  {
   "cell_type": "code",
   "execution_count": 18,
   "id": "efe7631f",
   "metadata": {},
   "outputs": [
    {
     "data": {
      "text/plain": [
       "str"
      ]
     },
     "execution_count": 18,
     "metadata": {},
     "output_type": "execute_result"
    }
   ],
   "source": [
    "type(age) \n",
    "# The type of the age is still str because in python input() function always return user input as string"
   ]
  },
  {
   "cell_type": "code",
   "execution_count": 19,
   "id": "52886001",
   "metadata": {},
   "outputs": [
    {
     "name": "stdout",
     "output_type": "stream",
     "text": [
      "Enter the Number: 24\n"
     ]
    }
   ],
   "source": [
    "num_1 = int(input(\"Enter the Number: \"))"
   ]
  },
  {
   "cell_type": "code",
   "execution_count": 20,
   "id": "0eefbe04",
   "metadata": {},
   "outputs": [
    {
     "data": {
      "text/plain": [
       "int"
      ]
     },
     "execution_count": 20,
     "metadata": {},
     "output_type": "execute_result"
    }
   ],
   "source": [
    "type(num_1)"
   ]
  },
  {
   "cell_type": "markdown",
   "id": "e5b2e710",
   "metadata": {},
   "source": [
    "## Type Casting:\n",
    "- Type casting in Python refers to **converting a variable from one data type to another**.\n",
    "\n",
    "## Common Type Casting Functions\n",
    "- **int():** Converts a number or a string that represents a whole number to an integer.\n",
    "\n",
    "- **float():** Converts a number or a string that represents a decimal number to a floating-point number.\n",
    "\n",
    "- **bool():** Converts a value to a Boolean (True or False). Values like 0, None, '', [], {}, and False convert to False; all other values convert to True.\n",
    "- **str():** Converts a number or other data types to a string."
   ]
  },
  {
   "cell_type": "code",
   "execution_count": 21,
   "id": "dfff47b2",
   "metadata": {},
   "outputs": [
    {
     "name": "stdout",
     "output_type": "stream",
     "text": [
      "<class 'str'>\n",
      "<class 'int'>\n"
     ]
    }
   ],
   "source": [
    "# Example of converting string type into the interger type\n",
    "num_str = \"123\"\n",
    "num_int = int(num_str)\n",
    "print(type(num_str))\n",
    "print(type(num_int))"
   ]
  },
  {
   "cell_type": "code",
   "execution_count": 22,
   "id": "7a483ddd",
   "metadata": {},
   "outputs": [
    {
     "name": "stdout",
     "output_type": "stream",
     "text": [
      "<class 'str'>\n",
      "<class 'float'>\n"
     ]
    }
   ],
   "source": [
    "# Example of converting string type into the floating type\n",
    "num_str = \"123\"\n",
    "num_float = float(num_str)\n",
    "print(type(num_str))\n",
    "print(type(num_float))"
   ]
  },
  {
   "cell_type": "code",
   "execution_count": 24,
   "id": "b45088f2",
   "metadata": {},
   "outputs": [
    {
     "name": "stdout",
     "output_type": "stream",
     "text": [
      "True\n"
     ]
    }
   ],
   "source": [
    "# Example of converting int, float, str into the boolean type\n",
    "num1 = 123\n",
    "num2 = 123.123\n",
    "str = \"hello\"\n",
    "print(bool(num1))"
   ]
  },
  {
   "cell_type": "markdown",
   "id": "5caedaa8",
   "metadata": {},
   "source": [
    "<div style=\"border-top: 3px solid #bbb; margin-top: 10px; margin-bottom: 10px;\"></div>\n",
    "\n",
    "### Output Formatting "
   ]
  },
  {
   "cell_type": "code",
   "execution_count": 25,
   "id": "92677d4b",
   "metadata": {},
   "outputs": [
    {
     "name": "stdout",
     "output_type": "stream",
     "text": [
      "The val of a is 10 and the val of b is 20\n"
     ]
    }
   ],
   "source": [
    "a = 10 \n",
    "b = 20\n",
    "\n",
    "print(f\"The val of a is {a} and the val of b is {b}\") \n",
    "# Here we have print the variable value inside the whole string using f string "
   ]
  },
  {
   "cell_type": "code",
   "execution_count": 26,
   "id": "3ca53eff",
   "metadata": {},
   "outputs": [
    {
     "name": "stdout",
     "output_type": "stream",
     "text": [
      "Hello Shubham, Good Morning!\n"
     ]
    }
   ],
   "source": [
    "name = \"Shubham\"\n",
    "greeting = \"Good Morning!\"\n",
    "\n",
    "print(f\"Hello {name}, {greeting}\")"
   ]
  },
  {
   "cell_type": "markdown",
   "id": "8a17447b",
   "metadata": {},
   "source": [
    "<div style=\"border-top: 3px solid #bbb; margin-top: 10px; margin-bottom: 10px;\"></div>\n",
    "\n",
    "<center><h2>Operators & Expressions</h2></center>\n",
    "\n",
    "<div style=\"border-top: 3px solid #bbb; margin-top: 10px; margin-bottom: 10px;\"></div>\n",
    "\n",
    "- **Expressions:** Combination of Operators & Operands \n",
    "- **Operators:** In Python, operators are special symbols or keywords that are used to perform operations on variables and values. \n"
   ]
  },
  {
   "cell_type": "markdown",
   "id": "9f155a8a",
   "metadata": {},
   "source": [
    "# 1. **Arithmetic Operators**:  +, - , * , / , // , ** , % \n"
   ]
  },
  {
   "cell_type": "markdown",
   "id": "93d6676e",
   "metadata": {},
   "source": [
    "####  Addition (+): Adds two numbers.\n"
   ]
  },
  {
   "cell_type": "code",
   "execution_count": 29,
   "id": "916cd8d1",
   "metadata": {},
   "outputs": [
    {
     "name": "stdout",
     "output_type": "stream",
     "text": [
      "4\n"
     ]
    }
   ],
   "source": [
    "x = 2+2\n",
    "\n",
    "print(x)"
   ]
  },
  {
   "cell_type": "markdown",
   "id": "2fde1286",
   "metadata": {},
   "source": [
    "#### Subtraction (-): Subtracts the right-hand operand from the left-hand operand.\n"
   ]
  },
  {
   "cell_type": "code",
   "execution_count": 30,
   "id": "d8aca02b",
   "metadata": {},
   "outputs": [
    {
     "name": "stdout",
     "output_type": "stream",
     "text": [
      "5\n"
     ]
    }
   ],
   "source": [
    "y = 10 - 5\n",
    "\n",
    "print(y)"
   ]
  },
  {
   "cell_type": "markdown",
   "id": "4ba105cf",
   "metadata": {},
   "source": [
    "####  Multiplication (*): Multiplies two numbers."
   ]
  },
  {
   "cell_type": "code",
   "execution_count": 31,
   "id": "ace29baa",
   "metadata": {},
   "outputs": [
    {
     "name": "stdout",
     "output_type": "stream",
     "text": [
      "6\n"
     ]
    }
   ],
   "source": [
    "\n",
    "z = 2 * 3\n",
    "\n",
    "print(z)"
   ]
  },
  {
   "cell_type": "markdown",
   "id": "963ad70c",
   "metadata": {},
   "source": [
    "#### Division (/): Divides the left-hand operand by the right-hand operand.\n"
   ]
  },
  {
   "cell_type": "code",
   "execution_count": 37,
   "id": "33fab268",
   "metadata": {},
   "outputs": [
    {
     "name": "stdout",
     "output_type": "stream",
     "text": [
      "18.0\n"
     ]
    }
   ],
   "source": [
    "D = 36/2\n",
    "\n",
    "print(D)\n",
    "\n",
    "# The division into the python always return the answer in the floating points "
   ]
  },
  {
   "cell_type": "markdown",
   "id": "1069d513",
   "metadata": {},
   "source": [
    "#### Floor Division (//): Divides and returns the largest integer less than or equal to the quotient.\n"
   ]
  },
  {
   "cell_type": "code",
   "execution_count": 33,
   "id": "e196e544",
   "metadata": {},
   "outputs": [
    {
     "name": "stdout",
     "output_type": "stream",
     "text": [
      "18\n"
     ]
    }
   ],
   "source": [
    "f = 36//2\n",
    "\n",
    "print(f)"
   ]
  },
  {
   "cell_type": "markdown",
   "id": "e5fcd693",
   "metadata": {},
   "source": [
    "#### Modulus (%): Returns the remainder of the division.\n"
   ]
  },
  {
   "cell_type": "code",
   "execution_count": 34,
   "id": "5db1754f",
   "metadata": {},
   "outputs": [
    {
     "name": "stdout",
     "output_type": "stream",
     "text": [
      "1\n"
     ]
    }
   ],
   "source": [
    "m = 15%2\n",
    "\n",
    "print(m)"
   ]
  },
  {
   "cell_type": "markdown",
   "id": "c6455e28",
   "metadata": {},
   "source": [
    "#### Exponentiation (**): Raises the left-hand operand to the power of the right-hand operand.\n"
   ]
  },
  {
   "cell_type": "code",
   "execution_count": 35,
   "id": "f836a166",
   "metadata": {},
   "outputs": [
    {
     "name": "stdout",
     "output_type": "stream",
     "text": [
      "8\n"
     ]
    }
   ],
   "source": [
    "e = 2 ** 3\n",
    "\n",
    "print(e)"
   ]
  },
  {
   "cell_type": "markdown",
   "id": "6cc29569",
   "metadata": {},
   "source": [
    "<hr>"
   ]
  },
  {
   "cell_type": "markdown",
   "id": "394fd854",
   "metadata": {},
   "source": [
    "# 2. **Comparison Operators**:  ==, != , > , < , >= , <= ,  \n",
    "\n",
    "- **Comparison Operators** are used to compare two values.\n",
    "- The **result of a comparison** is a **Boolean value (True or False)**."
   ]
  },
  {
   "cell_type": "markdown",
   "id": "a4930b96",
   "metadata": {},
   "source": [
    "####  Equal to (==): Checks if two values are equal.\n"
   ]
  },
  {
   "cell_type": "code",
   "execution_count": 41,
   "id": "cee6040e",
   "metadata": {},
   "outputs": [
    {
     "data": {
      "text/plain": [
       "True"
      ]
     },
     "execution_count": 41,
     "metadata": {},
     "output_type": "execute_result"
    }
   ],
   "source": [
    "x = 10 \n",
    "y = 10\n",
    "\n",
    "x == y # True or False"
   ]
  },
  {
   "cell_type": "code",
   "execution_count": 42,
   "id": "c48f87ea",
   "metadata": {},
   "outputs": [
    {
     "data": {
      "text/plain": [
       "False"
      ]
     },
     "execution_count": 42,
     "metadata": {},
     "output_type": "execute_result"
    }
   ],
   "source": [
    "x = 10\n",
    "y = 5 \n",
    "\n",
    "x == y # True or False"
   ]
  },
  {
   "cell_type": "markdown",
   "id": "c985b634",
   "metadata": {},
   "source": [
    "#### Not equal to (!=): Checks if two values are not equal.\n"
   ]
  },
  {
   "cell_type": "code",
   "execution_count": 44,
   "id": "0c8bfe09",
   "metadata": {},
   "outputs": [
    {
     "data": {
      "text/plain": [
       "True"
      ]
     },
     "execution_count": 44,
     "metadata": {},
     "output_type": "execute_result"
    }
   ],
   "source": [
    "a = 10\n",
    "b = 5\n",
    "\n",
    "a != b"
   ]
  },
  {
   "cell_type": "code",
   "execution_count": 45,
   "id": "3a33fac1",
   "metadata": {},
   "outputs": [
    {
     "data": {
      "text/plain": [
       "False"
      ]
     },
     "execution_count": 45,
     "metadata": {},
     "output_type": "execute_result"
    }
   ],
   "source": [
    "a = 10\n",
    "b = 10\n",
    "\n",
    "a != b"
   ]
  },
  {
   "cell_type": "markdown",
   "id": "be5fbae3",
   "metadata": {},
   "source": [
    "#### Greater than (>): Checks if the left-hand operand is greater than the right-hand operand.\n"
   ]
  },
  {
   "cell_type": "code",
   "execution_count": 46,
   "id": "760cb1d1",
   "metadata": {},
   "outputs": [
    {
     "data": {
      "text/plain": [
       "False"
      ]
     },
     "execution_count": 46,
     "metadata": {},
     "output_type": "execute_result"
    }
   ],
   "source": [
    "x = 10\n",
    "y = 20\n",
    "\n",
    "x > y"
   ]
  },
  {
   "cell_type": "code",
   "execution_count": 47,
   "id": "7b2e2ff6",
   "metadata": {},
   "outputs": [
    {
     "data": {
      "text/plain": [
       "True"
      ]
     },
     "execution_count": 47,
     "metadata": {},
     "output_type": "execute_result"
    }
   ],
   "source": [
    "x = 10\n",
    "y = 5\n",
    "\n",
    "x > y"
   ]
  },
  {
   "cell_type": "markdown",
   "id": "ade4951a",
   "metadata": {},
   "source": [
    "#### Less than (<): Checks if the left-hand operand is less than the right-hand operand.\n"
   ]
  },
  {
   "cell_type": "code",
   "execution_count": 48,
   "id": "c027715f",
   "metadata": {},
   "outputs": [
    {
     "data": {
      "text/plain": [
       "True"
      ]
     },
     "execution_count": 48,
     "metadata": {},
     "output_type": "execute_result"
    }
   ],
   "source": [
    "a = 10 \n",
    "b = 20 \n",
    "\n",
    "a < 20"
   ]
  },
  {
   "cell_type": "code",
   "execution_count": 51,
   "id": "1851cf75",
   "metadata": {},
   "outputs": [
    {
     "data": {
      "text/plain": [
       "False"
      ]
     },
     "execution_count": 51,
     "metadata": {},
     "output_type": "execute_result"
    }
   ],
   "source": [
    "x = 20\n",
    "y = 5\n",
    "\n",
    "x < 5"
   ]
  },
  {
   "cell_type": "markdown",
   "id": "46a9bad8",
   "metadata": {},
   "source": [
    "#### Greater than or equal to (>=): Checks if the left-hand operand is greater than or equal to the right-hand operand.\n"
   ]
  },
  {
   "cell_type": "code",
   "execution_count": 52,
   "id": "02948cdc",
   "metadata": {},
   "outputs": [
    {
     "data": {
      "text/plain": [
       "True"
      ]
     },
     "execution_count": 52,
     "metadata": {},
     "output_type": "execute_result"
    }
   ],
   "source": [
    "a = 10 \n",
    "b = 9\n",
    "\n",
    "a >= b"
   ]
  },
  {
   "cell_type": "markdown",
   "id": "5368d59f",
   "metadata": {},
   "source": [
    "#### Less than or equal to (<=): Checks if the left-hand operand is less than or equal to the right-hand operand.\n"
   ]
  },
  {
   "cell_type": "code",
   "execution_count": 53,
   "id": "52d77cdb",
   "metadata": {},
   "outputs": [
    {
     "data": {
      "text/plain": [
       "False"
      ]
     },
     "execution_count": 53,
     "metadata": {},
     "output_type": "execute_result"
    }
   ],
   "source": [
    "x = 10 \n",
    "y = 5\n",
    "\n",
    "x <= y"
   ]
  },
  {
   "cell_type": "markdown",
   "id": "e7dc9068",
   "metadata": {},
   "source": [
    "<hr>"
   ]
  },
  {
   "cell_type": "markdown",
   "id": "be796f68",
   "metadata": {},
   "source": [
    "# 3. Logical Operators: and, or, not \n",
    "\n",
    "- These operators are used to combine conditional statement.\n"
   ]
  },
  {
   "cell_type": "markdown",
   "id": "b9bd0dc3",
   "metadata": {},
   "source": [
    "#### AND : Returns True if both statements are true."
   ]
  },
  {
   "cell_type": "code",
   "execution_count": 54,
   "id": "b7c955bc",
   "metadata": {},
   "outputs": [
    {
     "data": {
      "text/plain": [
       "True"
      ]
     },
     "execution_count": 54,
     "metadata": {},
     "output_type": "execute_result"
    }
   ],
   "source": [
    "x = 20 \n",
    "\n",
    "x > 10 and x < 30 "
   ]
  },
  {
   "cell_type": "code",
   "execution_count": 55,
   "id": "1421e4ed",
   "metadata": {},
   "outputs": [
    {
     "data": {
      "text/plain": [
       "False"
      ]
     },
     "execution_count": 55,
     "metadata": {},
     "output_type": "execute_result"
    }
   ],
   "source": [
    "x < 10 and x > 30"
   ]
  },
  {
   "cell_type": "markdown",
   "id": "54135984",
   "metadata": {},
   "source": [
    "####  OR (or): Returns True if at least one of the statements is true.\n"
   ]
  },
  {
   "cell_type": "code",
   "execution_count": 56,
   "id": "185bb354",
   "metadata": {},
   "outputs": [
    {
     "data": {
      "text/plain": [
       "True"
      ]
     },
     "execution_count": 56,
     "metadata": {},
     "output_type": "execute_result"
    }
   ],
   "source": [
    "\n",
    "y = 20 \n",
    "\n",
    "y == 20 or y >100"
   ]
  },
  {
   "cell_type": "code",
   "execution_count": 57,
   "id": "44902301",
   "metadata": {},
   "outputs": [
    {
     "data": {
      "text/plain": [
       "False"
      ]
     },
     "execution_count": 57,
     "metadata": {},
     "output_type": "execute_result"
    }
   ],
   "source": [
    "y > 100 or y!= 20"
   ]
  },
  {
   "cell_type": "markdown",
   "id": "8794e45e",
   "metadata": {},
   "source": [
    "#### NOT (not): Reverses the result of the condition.\n"
   ]
  },
  {
   "cell_type": "code",
   "execution_count": 58,
   "id": "db8d7406",
   "metadata": {},
   "outputs": [
    {
     "data": {
      "text/plain": [
       "True"
      ]
     },
     "execution_count": 58,
     "metadata": {},
     "output_type": "execute_result"
    }
   ],
   "source": [
    "x = 30 \n",
    "\n",
    "not(x > 100)"
   ]
  },
  {
   "cell_type": "code",
   "execution_count": 59,
   "id": "dabef3ad",
   "metadata": {},
   "outputs": [
    {
     "data": {
      "text/plain": [
       "True"
      ]
     },
     "execution_count": 59,
     "metadata": {},
     "output_type": "execute_result"
    }
   ],
   "source": [
    "not(x < 10)"
   ]
  },
  {
   "cell_type": "markdown",
   "id": "116d64f6",
   "metadata": {},
   "source": [
    "<hr>"
   ]
  },
  {
   "cell_type": "markdown",
   "id": "4f2dc99e",
   "metadata": {},
   "source": [
    "# 4. Assignment Operators: =, +=, -= , *=, /=\n",
    "\n",
    "- These operators are used to assign values to variables.\n"
   ]
  },
  {
   "cell_type": "markdown",
   "id": "88f57f18",
   "metadata": {},
   "source": [
    "#### Assign (=): Assigns the right-hand operand to the left-hand operand.\n"
   ]
  },
  {
   "cell_type": "code",
   "execution_count": 60,
   "id": "99177b70",
   "metadata": {},
   "outputs": [
    {
     "name": "stdout",
     "output_type": "stream",
     "text": [
      "5\n"
     ]
    }
   ],
   "source": [
    "x = 5\n",
    "print(x)"
   ]
  },
  {
   "cell_type": "markdown",
   "id": "c6b3fa6e",
   "metadata": {},
   "source": [
    "#### Add and assign (+=): Adds the right-hand operand to the left-hand operand and assigns the result to the left-hand operand.\n"
   ]
  },
  {
   "cell_type": "code",
   "execution_count": 62,
   "id": "ef709c82",
   "metadata": {},
   "outputs": [
    {
     "name": "stdout",
     "output_type": "stream",
     "text": [
      "15\n"
     ]
    }
   ],
   "source": [
    "\n",
    "\n",
    "x += 5   # x = x + 5\n",
    "\n",
    "print(x)"
   ]
  },
  {
   "cell_type": "markdown",
   "id": "793a3ad2",
   "metadata": {},
   "source": [
    "#### Subtract and assign (-=): Subtracts the right-hand operand from the left-hand operand and assigns the result to the left-hand operand."
   ]
  },
  {
   "cell_type": "code",
   "execution_count": 63,
   "id": "466492ba",
   "metadata": {},
   "outputs": [
    {
     "name": "stdout",
     "output_type": "stream",
     "text": [
      "10\n"
     ]
    }
   ],
   "source": [
    "\n",
    "y = 20 \n",
    "y -= 10      # y = y - 10\n",
    "\n",
    "print(y)"
   ]
  },
  {
   "cell_type": "markdown",
   "id": "edee1b66",
   "metadata": {},
   "source": [
    "#### Multiply and assign (*=): Multiplies the left-hand operand by the right-hand operand and assigns the result to the left-hand operand."
   ]
  },
  {
   "cell_type": "code",
   "execution_count": 64,
   "id": "2472e911",
   "metadata": {},
   "outputs": [
    {
     "name": "stdout",
     "output_type": "stream",
     "text": [
      "10\n"
     ]
    }
   ],
   "source": [
    "\n",
    "a = 5\n",
    "a *= 2      # a = a x 2\n",
    "\n",
    "print(a)\n",
    "\n"
   ]
  },
  {
   "cell_type": "markdown",
   "id": "fee2f069",
   "metadata": {},
   "source": [
    "#### Divide and assign (/=): Divides the left-hand operand by the right-hand operand and assigns the result to the left-hand operand."
   ]
  },
  {
   "cell_type": "code",
   "execution_count": 65,
   "id": "366e1e45",
   "metadata": {},
   "outputs": [
    {
     "name": "stdout",
     "output_type": "stream",
     "text": [
      "5.0\n"
     ]
    }
   ],
   "source": [
    "\n",
    "b = 10\n",
    "b /= 2    # b = b / 2\n",
    "\n",
    "print(b)\n",
    "\n"
   ]
  },
  {
   "cell_type": "markdown",
   "id": "ad614379",
   "metadata": {},
   "source": [
    "<hr>"
   ]
  },
  {
   "cell_type": "markdown",
   "id": "35fccda7",
   "metadata": {},
   "source": [
    "# NOTE\n",
    "\n",
    "- **bin():** The bin() function in Python is used to convert an integer number to its binary (base-2) equivalent. \n",
    "- The output is a string that starts with the prefix '0b', which indicates that the number is in binary format."
   ]
  },
  {
   "cell_type": "code",
   "execution_count": 67,
   "id": "aaf65656",
   "metadata": {},
   "outputs": [
    {
     "data": {
      "text/plain": [
       "'0b1010'"
      ]
     },
     "execution_count": 67,
     "metadata": {},
     "output_type": "execute_result"
    }
   ],
   "source": [
    "x = 10 \n",
    "\n",
    "# Finding the binary representation of the integer 10 \n",
    "bin(x)"
   ]
  },
  {
   "cell_type": "code",
   "execution_count": 68,
   "id": "b39e69a1",
   "metadata": {},
   "outputs": [
    {
     "data": {
      "text/plain": [
       "'-0b1010'"
      ]
     },
     "execution_count": 68,
     "metadata": {},
     "output_type": "execute_result"
    }
   ],
   "source": [
    "y = -10\n",
    "\n",
    "# Finding the binary representation of the negative integer 10 \n",
    "bin(y)"
   ]
  },
  {
   "cell_type": "code",
   "execution_count": 70,
   "id": "2c8f455c",
   "metadata": {},
   "outputs": [
    {
     "data": {
      "text/plain": [
       "'0b0'"
      ]
     },
     "execution_count": 70,
     "metadata": {},
     "output_type": "execute_result"
    }
   ],
   "source": [
    "z = 0 \n",
    "\n",
    "# Finding the binary representation of the number 0\n",
    "bin(z)"
   ]
  },
  {
   "attachments": {
    "Screenshot%202024-08-17%20114926.png": {
     "image/png": "[encoded data removed]"
    }
   },
   "cell_type": "markdown",
   "id": "fc69e4a9",
   "metadata": {},
   "source": [
    "![Screenshot%202024-08-17%20114926.png](attachment:Screenshot%202024-08-17%20114926.png)"
   ]
  },
  {
   "cell_type": "markdown",
   "id": "1d591568",
   "metadata": {},
   "source": [
    "# 5. Bitwise Operators: & , | , ^ , ~ , << , >> \n",
    "- These operators are used to perform bit-level operations."
   ]
  },
  {
   "cell_type": "markdown",
   "id": "62c213f3",
   "metadata": {},
   "source": [
    "#### Bitwise and (&)"
   ]
  },
  {
   "cell_type": "code",
   "execution_count": 71,
   "id": "3f598b14",
   "metadata": {},
   "outputs": [
    {
     "name": "stdout",
     "output_type": "stream",
     "text": [
      "0\n"
     ]
    }
   ],
   "source": [
    "x = 10  # \n",
    "y = 4 \n",
    "\n",
    "print(x & y) "
   ]
  },
  {
   "cell_type": "markdown",
   "id": "aedcb490",
   "metadata": {},
   "source": [
    "#### Bitwise or ( | )"
   ]
  },
  {
   "cell_type": "code",
   "execution_count": 72,
   "id": "48333987",
   "metadata": {},
   "outputs": [
    {
     "name": "stdout",
     "output_type": "stream",
     "text": [
      "14\n"
     ]
    }
   ],
   "source": [
    "print(x | y)"
   ]
  },
  {
   "cell_type": "markdown",
   "id": "cd5441c8",
   "metadata": {},
   "source": [
    "#### Bitwise XOR (^)"
   ]
  },
  {
   "cell_type": "code",
   "execution_count": 73,
   "id": "97533299",
   "metadata": {},
   "outputs": [
    {
     "name": "stdout",
     "output_type": "stream",
     "text": [
      "14\n"
     ]
    }
   ],
   "source": [
    "print(x ^ y)"
   ]
  },
  {
   "cell_type": "markdown",
   "id": "d3c1d904",
   "metadata": {},
   "source": [
    "#### Bitwise NOT (~)"
   ]
  },
  {
   "cell_type": "code",
   "execution_count": 74,
   "id": "383d628a",
   "metadata": {},
   "outputs": [
    {
     "name": "stdout",
     "output_type": "stream",
     "text": [
      "-11\n",
      "-5\n"
     ]
    }
   ],
   "source": [
    "print(~x)\n",
    "print(~y)"
   ]
  },
  {
   "cell_type": "markdown",
   "id": "115b47a9",
   "metadata": {},
   "source": [
    "<hr>\n",
    "HOLD THE SHIFT OPERATORS \n",
    "<hr>"
   ]
  },
  {
   "cell_type": "markdown",
   "id": "7faa13de",
   "metadata": {},
   "source": [
    "# 6. Membership Operators:  'in' & 'not in'\n",
    "**Membership operators are used to test whether a value or variable is found in a sequence** (like a string, list, tuple, \n",
    "etc.):\n",
    "- **1.** In (in): Returns True if the value is found in the sequence.\n",
    "- **2.** Not In (not in): Returns True if the value is not found in the sequence.\n"
   ]
  },
  {
   "cell_type": "code",
   "execution_count": 75,
   "id": "c108b082",
   "metadata": {},
   "outputs": [
    {
     "data": {
      "text/plain": [
       "True"
      ]
     },
     "execution_count": 75,
     "metadata": {},
     "output_type": "execute_result"
    }
   ],
   "source": [
    "'a' in 'apple'"
   ]
  },
  {
   "cell_type": "code",
   "execution_count": 76,
   "id": "d2e72c54",
   "metadata": {},
   "outputs": [
    {
     "data": {
      "text/plain": [
       "False"
      ]
     },
     "execution_count": 76,
     "metadata": {},
     "output_type": "execute_result"
    }
   ],
   "source": [
    "'x' in 'apple'"
   ]
  },
  {
   "cell_type": "code",
   "execution_count": 77,
   "id": "94257ecb",
   "metadata": {},
   "outputs": [
    {
     "data": {
      "text/plain": [
       "False"
      ]
     },
     "execution_count": 77,
     "metadata": {},
     "output_type": "execute_result"
    }
   ],
   "source": [
    "'a' not in 'apple'"
   ]
  },
  {
   "cell_type": "code",
   "execution_count": 78,
   "id": "4a6ba330",
   "metadata": {},
   "outputs": [
    {
     "data": {
      "text/plain": [
       "True"
      ]
     },
     "execution_count": 78,
     "metadata": {},
     "output_type": "execute_result"
    }
   ],
   "source": [
    "'x' not in 'apple'"
   ]
  },
  {
   "cell_type": "markdown",
   "id": "2d0d3fd7",
   "metadata": {},
   "source": [
    "<hr>"
   ]
  },
  {
   "cell_type": "markdown",
   "id": "fa256cdd",
   "metadata": {},
   "source": [
    "# 7. Identity Operators: 'is' & 'is not'\n",
    "**Identity Operators** are used to compare the memory locations of two objects\n",
    "- **1.** Is (is): Returns True if both variables point to the same object.\n",
    "- **2.** Is Not (is not): Returns True if the variables do not point to the same object.\n"
   ]
  },
  {
   "cell_type": "code",
   "execution_count": 1,
   "id": "3157df01",
   "metadata": {},
   "outputs": [],
   "source": [
    "x = 9\n",
    "y = x "
   ]
  },
  {
   "cell_type": "code",
   "execution_count": 2,
   "id": "838bf69e",
   "metadata": {},
   "outputs": [
    {
     "data": {
      "text/plain": [
       "True"
      ]
     },
     "execution_count": 2,
     "metadata": {},
     "output_type": "execute_result"
    }
   ],
   "source": [
    "x is y"
   ]
  },
  {
   "cell_type": "code",
   "execution_count": 3,
   "id": "cf042a5d",
   "metadata": {},
   "outputs": [
    {
     "data": {
      "text/plain": [
       "False"
      ]
     },
     "execution_count": 3,
     "metadata": {},
     "output_type": "execute_result"
    }
   ],
   "source": [
    "x is not y"
   ]
  },
  {
   "cell_type": "code",
   "execution_count": 4,
   "id": "448dd229",
   "metadata": {},
   "outputs": [],
   "source": [
    "x = 9 \n",
    "y = 9 \n"
   ]
  },
  {
   "cell_type": "code",
   "execution_count": 5,
   "id": "f720dc68",
   "metadata": {},
   "outputs": [
    {
     "data": {
      "text/plain": [
       "True"
      ]
     },
     "execution_count": 5,
     "metadata": {},
     "output_type": "execute_result"
    }
   ],
   "source": [
    "x is y"
   ]
  },
  {
   "cell_type": "code",
   "execution_count": 6,
   "id": "6ba884be",
   "metadata": {},
   "outputs": [
    {
     "data": {
      "text/plain": [
       "False"
      ]
     },
     "execution_count": 6,
     "metadata": {},
     "output_type": "execute_result"
    }
   ],
   "source": [
    "x is not y"
   ]
  },
  {
   "attachments": {
    "Screenshot%202024-08-21%20115806.png": {
     "image/png": "[encoded data removed]"
    }
   },
   "cell_type": "markdown",
   "id": "e349edbd",
   "metadata": {},
   "source": [
    "<div style=\"border-top: 3px solid #bbb; margin-top: 10px; margin-bottom: 10px;\"></div>\n",
    "<center><h3>Control Flow</h3></center>\n",
    "<div style=\"border-top: 3px solid #bbb; margin-top: 10px; margin-bottom: 10px;\"></div>\n",
    "\n",
    "\n",
    "- **Conditional Statement** \n",
    "\n",
    "![Screenshot%202024-08-21%20115806.png](attachment:Screenshot%202024-08-21%20115806.png)\n"
   ]
  },
  {
   "cell_type": "markdown",
   "id": "cc1a18d2",
   "metadata": {},
   "source": [
    "### 1. if Statement\n",
    "- The if statement allows you to execute a block of code only if a specified condition is true."
   ]
  },
  {
   "cell_type": "code",
   "execution_count": 15,
   "id": "28717867",
   "metadata": {},
   "outputs": [
    {
     "name": "stdout",
     "output_type": "stream",
     "text": [
      "You can vote.\n"
     ]
    }
   ],
   "source": [
    "age = 19\n",
    "\n",
    "if ( age >= 18 ):\n",
    "    print('You can vote.')"
   ]
  },
  {
   "cell_type": "markdown",
   "id": "2e3d997d",
   "metadata": {},
   "source": [
    "\n",
    "\n",
    "### 2. if...else Statement\n",
    "- The if...else statement executes one block of code if the condition is true and another block if the condition is false."
   ]
  },
  {
   "cell_type": "code",
   "execution_count": 13,
   "id": "66a8534b",
   "metadata": {},
   "outputs": [
    {
     "name": "stdout",
     "output_type": "stream",
     "text": [
      "No you can't drive\n"
     ]
    }
   ],
   "source": [
    "age = 14\n",
    "\n",
    "if (age >= 18):\n",
    "    print('You can drive.')\n",
    "else:\n",
    "    print(\"No you can't drive\" )"
   ]
  },
  {
   "cell_type": "markdown",
   "id": "e60f3882",
   "metadata": {},
   "source": [
    "### 3. if...elif...else Statement\n",
    "- The if...elif...else statement allows you to check multiple conditions in sequence. The first true condition executes its corresponding block of code."
   ]
  },
  {
   "cell_type": "code",
   "execution_count": 16,
   "id": "9d730a57",
   "metadata": {},
   "outputs": [
    {
     "name": "stdout",
     "output_type": "stream",
     "text": [
      "Grade: B\n"
     ]
    }
   ],
   "source": [
    "score = 85\n",
    "\n",
    "if score >= 90:\n",
    "    print(\"Grade: A\")\n",
    "elif score >= 80:\n",
    "    print(\"Grade: B\")\n",
    "elif score >= 70:\n",
    "    print(\"Grade: C\")\n",
    "else:\n",
    "    print(\"Grade: F\")\n",
    "\n",
    "    "
   ]
  },
  {
   "cell_type": "markdown",
   "id": "172fe617",
   "metadata": {},
   "source": [
    "### 4. Nested if else"
   ]
  },
  {
   "cell_type": "code",
   "execution_count": 18,
   "id": "9dee355e",
   "metadata": {},
   "outputs": [
    {
     "name": "stdout",
     "output_type": "stream",
     "text": [
      "-2.5 is Negative Number.\n"
     ]
    }
   ],
   "source": [
    "num = -2.5\n",
    "\n",
    "if ( num >= 0 ):\n",
    "    \n",
    "    if (num == 0):\n",
    "        print(f'{num} is Zero')\n",
    "    elif(num > 0):\n",
    "        print(f\"{num} is Positive Number\")\n",
    "        \n",
    "else:\n",
    "    print(f\"{num} is Negative Number.\")"
   ]
  },
  {
   "cell_type": "markdown",
   "id": "7170e0f8",
   "metadata": {},
   "source": [
    "# Q.  WAP to find the largest element among three numbers"
   ]
  },
  {
   "cell_type": "code",
   "execution_count": 20,
   "id": "9cd19f0f",
   "metadata": {},
   "outputs": [
    {
     "name": "stdout",
     "output_type": "stream",
     "text": [
      "100 is the largest element among the three numbers.\n"
     ]
    }
   ],
   "source": [
    "num1 = 100\n",
    "num2 = 19\n",
    "num3 = 30\n",
    "\n",
    "if ( (num1 > num2) and (num1 > num3) ):\n",
    "    print(f\"{num1} is the largest element among the three numbers.\")\n",
    "elif( (num2 > num1) and (num2 > num3) ):\n",
    "    print(f\"{num2} is the larget element among the three numbers.\")\n",
    "else:\n",
    "    print(f\"{num3} is the largest element among the three number.\")"
   ]
  },
  {
   "cell_type": "markdown",
   "id": "ba7db98b",
   "metadata": {},
   "source": [
    "# Q. WAP to check whether the year is a leap year or not "
   ]
  },
  {
   "cell_type": "code",
   "execution_count": 1,
   "id": "0810b81d",
   "metadata": {},
   "outputs": [
    {
     "name": "stdout",
     "output_type": "stream",
     "text": [
      "Enter the year.2024\n",
      "year 2024 is a leap year.\n"
     ]
    }
   ],
   "source": [
    "num = int(input('Enter the year.'))\n",
    "\n",
    "if ( num % 4 == 0):\n",
    "    if (num % 100 == 0 ):\n",
    "        if (num % 400 == 0 ):\n",
    "            print(f'year {num} is a leap year.') # Year is divisible by 400\n",
    "        else: \n",
    "            print(f\"year {num} is not a leap year.\") # Year is divisible by 100 but not by 400\n",
    "    else:\n",
    "        print(f'year {num} is a leap year.') # year is divisible by 4 but not by 100 \n",
    "else:\n",
    "    print(f'year {num} is not a leap year') # year is not divisible by 4\n",
    "    \n",
    "    \n",
    "        "
   ]
  },
  {
   "cell_type": "markdown",
   "id": "d483464d",
   "metadata": {},
   "source": [
    "<div style=\"border-top: 3px solid #bbb; margin-top: 10px; margin-bottom: 10px;\"></div>\n",
    "\n",
    "<center><h3> Loops in Python </h3></center>\n",
    "\n",
    "<div style=\"border-top: 3px solid #bbb; margin-top: 10px; margin-bottom: 10px;\"></div>\n",
    "\n",
    "- Loops in Python are used to execute a block of code repeatedly as long as a condition is true or to iterate over a sequence of elements. \n",
    "- Python primarily provides **two types of loops**:\n",
    " 1.  **while Loop**.\n",
    " 2.  **for Loop**.`\n",
    " \n",
    " <hr>"
   ]
  },
  {
   "attachments": {
    "Screenshot%202024-08-21%20125701.png": {
     "image/png": "[encoded data removed]"
    }
   },
   "cell_type": "markdown",
   "id": "cb475fa3",
   "metadata": {},
   "source": [
    "### 1. while Loop:\n",
    "- The while loop in Python is used to repeatedly execute a block of code as long as a given condition is true.\n",
    "\n",
    "\n",
    "\n",
    "![Screenshot%202024-08-21%20125701.png](attachment:Screenshot%202024-08-21%20125701.png)"
   ]
  },
  {
   "cell_type": "markdown",
   "id": "cde0a8e5",
   "metadata": {},
   "source": [
    "# Q. Print all the even numbers from 1 to 20"
   ]
  },
  {
   "cell_type": "code",
   "execution_count": 27,
   "id": "b4c4de41",
   "metadata": {},
   "outputs": [
    {
     "name": "stdout",
     "output_type": "stream",
     "text": [
      "2, 4, 6, 8, 10, 12, 14, 16, 18, 20, "
     ]
    }
   ],
   "source": [
    "num = 1 # Initialization\n",
    "\n",
    "# Condition\n",
    "while ( num <= 20 ): \n",
    "        # Code block to execute\n",
    "    if (num % 2 == 0 ):\n",
    "        print(num, end = ', ')\n",
    "        \n",
    "    num += 1     # Increment/Decrement (Update the variable)\n"
   ]
  },
  {
   "attachments": {
    "Screenshot%202024-09-10%20170207.png": {
     "image/png": "[encoded data removed]"
    }
   },
   "cell_type": "markdown",
   "id": "c9701500",
   "metadata": {},
   "source": [
    "### 2. for Loop:\n",
    "    \n",
    "***for in loop:*** \n",
    "- The for...in loop in Python is used to iterate over the elements of a sequence (like a list, tuple, string, or any iterable). It’s commonly used for accessing each element one at a time in a loop.\n",
    "\n",
    "![Screenshot%202024-09-10%20170207.png](attachment:Screenshot%202024-09-10%20170207.png)\n",
    "\n",
    "\n",
    "\n",
    "\n",
    "\n"
   ]
  },
  {
   "attachments": {
    "Screenshot%202024-09-10%20170809.png": {
     "image/png": "[encoded data removed]"
    }
   },
   "cell_type": "markdown",
   "id": "f831c21a",
   "metadata": {},
   "source": [
    "![Screenshot%202024-09-10%20170809.png](attachment:Screenshot%202024-09-10%20170809.png)"
   ]
  },
  {
   "attachments": {
    "Screenshot%202024-09-10%20170625.png": {
     "image/png": "[encoded data removed]"
    }
   },
   "cell_type": "markdown",
   "id": "855def6b",
   "metadata": {},
   "source": [
    "**for in loop along with the range function:**\n",
    "- In Python, the for...in loop can be combined with the range() function to iterate over a sequence of numbers. \n",
    "-  The **range() function generates a sequence of numbers which the loop can iterate over**.\n",
    "\n",
    "![Screenshot%202024-09-10%20170625.png](attachment:Screenshot%202024-09-10%20170625.png)"
   ]
  },
  {
   "cell_type": "code",
   "execution_count": 6,
   "id": "60adc14c",
   "metadata": {},
   "outputs": [
    {
     "name": "stdout",
     "output_type": "stream",
     "text": [
      "0\n",
      "1\n",
      "2\n",
      "3\n",
      "4\n"
     ]
    }
   ],
   "source": [
    "#Example 1: Simple range iteration\n",
    "\n",
    "for i in range(5): # Generates numbers from 0 to 4\n",
    "    print(i)"
   ]
  },
  {
   "cell_type": "code",
   "execution_count": 8,
   "id": "65e60025",
   "metadata": {},
   "outputs": [
    {
     "name": "stdout",
     "output_type": "stream",
     "text": [
      "2\n",
      "3\n",
      "4\n",
      "5\n"
     ]
    }
   ],
   "source": [
    "# Example 2: Specifying a start and stop\n",
    "\n",
    "for i in range (2,6): # Generates numbers from 2 to 5\n",
    "    print(i)"
   ]
  },
  {
   "cell_type": "code",
   "execution_count": 9,
   "id": "1cde85ed",
   "metadata": {},
   "outputs": [
    {
     "name": "stdout",
     "output_type": "stream",
     "text": [
      "1\n",
      "3\n",
      "5\n",
      "7\n",
      "9\n"
     ]
    }
   ],
   "source": [
    "# Example 3: Specifying a step\n",
    "\n",
    "for i in range(1, 10, 2):  # Generates numbers from 1 to 9, stepping by 2\n",
    "    print(i)\n"
   ]
  },
  {
   "cell_type": "markdown",
   "id": "6995ddc9",
   "metadata": {},
   "source": [
    "# break, continue, and pass"
   ]
  },
  {
   "cell_type": "markdown",
   "id": "9a063de0",
   "metadata": {},
   "source": [
    "## 1. break\n",
    "- The break statement is used to exit a loop prematurely when a specific condition is met.\n",
    "- Once break is executed, the control flow exits the loop entirely."
   ]
  },
  {
   "cell_type": "code",
   "execution_count": 2,
   "id": "7b2bcb76",
   "metadata": {},
   "outputs": [
    {
     "name": "stdout",
     "output_type": "stream",
     "text": [
      "0,1,2,3,4,"
     ]
    }
   ],
   "source": [
    "# Example of break \n",
    "for num in range(10):\n",
    "    \n",
    "    if num == 5: # Exit the loop when num is 5\n",
    "        break\n",
    "    print(num, end = ',')"
   ]
  },
  {
   "cell_type": "markdown",
   "id": "19f0de3d",
   "metadata": {},
   "source": [
    "## 2. continue\n",
    "- The continue statement skips the current iteration of the loop and moves to the next iteration.\n",
    "- The rest of the code inside the loop after the continue statement is not executed for that iteration."
   ]
  },
  {
   "cell_type": "code",
   "execution_count": 3,
   "id": "c17d7ed1",
   "metadata": {},
   "outputs": [
    {
     "name": "stdout",
     "output_type": "stream",
     "text": [
      "0\n",
      "1\n",
      "2\n",
      "4\n"
     ]
    }
   ],
   "source": [
    "# Example of continue \n",
    "for num in range(5):\n",
    "    \n",
    "    if num == 3: # Skip the iteration when num is 3\n",
    "        continue \n",
    "    print(num)"
   ]
  },
  {
   "cell_type": "markdown",
   "id": "cc536e92",
   "metadata": {},
   "source": [
    "## 3. pass\n",
    "- The pass statement is a placeholder that does nothing.\n",
    "- It is used to write empty code blocks where syntax requires a statement but no action is desired."
   ]
  },
  {
   "cell_type": "code",
   "execution_count": 4,
   "id": "61b545f2",
   "metadata": {},
   "outputs": [
    {
     "name": "stdout",
     "output_type": "stream",
     "text": [
      "0\n",
      "2\n"
     ]
    }
   ],
   "source": [
    "#Example of the pass \n",
    "for num in range(3):\n",
    "    \n",
    "    if num == 1:\n",
    "        pass\n",
    "    else:\n",
    "        print(num)"
   ]
  },
  {
   "attachments": {
    "Screenshot%202024-11-25%20144637.png": {
     "image/png": "[encoded data removed]"
    }
   },
   "cell_type": "markdown",
   "id": "08b5b5ea",
   "metadata": {},
   "source": [
    "![Screenshot%202024-11-25%20144637.png](attachment:Screenshot%202024-11-25%20144637.png)"
   ]
  },
  {
   "cell_type": "code",
   "execution_count": null,
   "id": "a21ae75e",
   "metadata": {},
   "outputs": [],
   "source": []
  },
  {
   "cell_type": "markdown",
   "id": "318cb887",
   "metadata": {},
   "source": [
    "# `enumerate()` Function in Python\n",
    "\n",
    "## **Definition**:\n",
    "- The `enumerate()` function adds a counter to an iterable (like a list, tuple, or string) and returns it as an enumerate object.\n",
    "- It is commonly used in loops to get both the index and the value of each item in the iterable.\n",
    "\n",
    "---\n",
    "\n",
    "## **Syntax**:\n",
    "enumerate(iterable, start=0)\n",
    "\n",
    "- iterable: The collection you want to enumerate (e.g., list, tuple, string).\n",
    "- start: The starting value of the counter (default is 0).\n",
    "\n",
    "## **Key Advantages of enumerate()**:\n",
    "- Avoids manual management of counters in loops.\n",
    "- Increases readability and efficiency when accessing both the index and value.\n",
    "- Supports custom start indices."
   ]
  },
  {
   "cell_type": "code",
   "execution_count": 8,
   "id": "fca8cf4d",
   "metadata": {},
   "outputs": [
    {
     "name": "stdout",
     "output_type": "stream",
     "text": [
      "Index: 0, Value: apple\n",
      "Index: 1, Value: banana\n",
      "Index: 2, Value: cherry\n"
     ]
    }
   ],
   "source": [
    "# 1. Basic Usage \n",
    "# Example with a list\n",
    "fruits = ['apple', 'banana', 'cherry']\n",
    "\n",
    "for index, value in enumerate(fruits):\n",
    "    print(f\"Index: {index}, Value: {value}\")\n"
   ]
  },
  {
   "cell_type": "code",
   "execution_count": 9,
   "id": "9372c07e",
   "metadata": {},
   "outputs": [
    {
     "name": "stdout",
     "output_type": "stream",
     "text": [
      "Index: 1, Value: apple\n",
      "Index: 2, Value: banana\n",
      "Index: 3, Value: cherry\n"
     ]
    }
   ],
   "source": [
    "# Example with a custom start index\n",
    "fruits = ['apple', 'banana', 'cherry']\n",
    "\n",
    "for index, value in enumerate(fruits, start=1):\n",
    "    print(f\"Index: {index}, Value: {value}\")\n"
   ]
  },
  {
   "cell_type": "code",
   "execution_count": 10,
   "id": "c6d343d6",
   "metadata": {},
   "outputs": [
    {
     "name": "stdout",
     "output_type": "stream",
     "text": [
      "Index: 0, Character: h\n",
      "Index: 1, Character: e\n",
      "Index: 2, Character: l\n",
      "Index: 3, Character: l\n",
      "Index: 4, Character: o\n"
     ]
    }
   ],
   "source": [
    "# Example with a string\n",
    "text = \"hello\"\n",
    "\n",
    "for index, char in enumerate(text):\n",
    "    print(f\"Index: {index}, Character: {char}\")\n"
   ]
  },
  {
   "cell_type": "code",
   "execution_count": null,
   "id": "c9e2192d",
   "metadata": {},
   "outputs": [],
   "source": []
  },
  {
   "cell_type": "markdown",
   "id": "07ff62a5",
   "metadata": {},
   "source": [
    "# Q. Print all the even numbers from 1 to 20\n"
   ]
  },
  {
   "cell_type": "code",
   "execution_count": 13,
   "id": "6a6f6206",
   "metadata": {},
   "outputs": [
    {
     "name": "stdout",
     "output_type": "stream",
     "text": [
      "2\n",
      "4\n",
      "6\n",
      "8\n",
      "10\n",
      "12\n",
      "14\n",
      "16\n",
      "18\n",
      "20\n"
     ]
    }
   ],
   "source": [
    "for i in range (2, 21):\n",
    "    if (i % 2 == 0 ):\n",
    "        print(i)\n",
    "        \n",
    "        "
   ]
  },
  {
   "cell_type": "markdown",
   "id": "651e4570",
   "metadata": {},
   "source": [
    "# Q. WAP to print the table for any given number "
   ]
  },
  {
   "cell_type": "code",
   "execution_count": 22,
   "id": "dfbdbaaa",
   "metadata": {},
   "outputs": [
    {
     "name": "stdout",
     "output_type": "stream",
     "text": [
      "Enter the number: 19\n",
      "19 x 1 = 19\n",
      "19 x 2 = 38\n",
      "19 x 3 = 57\n",
      "19 x 4 = 76\n",
      "19 x 5 = 95\n",
      "19 x 6 = 114\n",
      "19 x 7 = 133\n",
      "19 x 8 = 152\n",
      "19 x 9 = 171\n",
      "19 x 10 = 190\n"
     ]
    }
   ],
   "source": [
    "num = int(input('Enter the number: '))\n",
    "\n",
    "for i in range (1, 11):\n",
    "    print(f'{num} x {i} = {num * i}')"
   ]
  },
  {
   "cell_type": "markdown",
   "id": "d3723b5b",
   "metadata": {},
   "source": [
    "# Q. WAP to calculate the sum of first n numbers.\n",
    "\n",
    "**e.g:** n = 5\n",
    "- 1+2+3+4+5 = 15"
   ]
  },
  {
   "cell_type": "code",
   "execution_count": 1,
   "id": "512d6b5d",
   "metadata": {},
   "outputs": [
    {
     "name": "stdout",
     "output_type": "stream",
     "text": [
      "15\n"
     ]
    }
   ],
   "source": [
    "num = 5\n",
    "sum = 0\n",
    "\n",
    "for i in range(num + 1):\n",
    "    sum += i\n",
    "    \n",
    "print(sum)"
   ]
  },
  {
   "cell_type": "markdown",
   "id": "befb7c11",
   "metadata": {},
   "source": [
    "# Q. WAP to calculate if n is a prime number or not?"
   ]
  },
  {
   "cell_type": "code",
   "execution_count": 8,
   "id": "4edbdfd9",
   "metadata": {},
   "outputs": [
    {
     "name": "stdout",
     "output_type": "stream",
     "text": [
      "Enter the number: 7\n",
      "7 is a prime number\n"
     ]
    }
   ],
   "source": [
    "num = int( input('Enter the number: '))\n",
    "\n",
    "if (num <= 1):\n",
    "        print(f'{num} is not a prime number.')\n",
    "else:\n",
    "    for i in range(2, num + 1):        \n",
    "        if (num % i == 0):\n",
    "            if i == num: \n",
    "                print(f'{num} is a prime number')\n",
    "            else:\n",
    "                print(f'{num} is not prime.')\n",
    "            break\n",
    "    "
   ]
  },
  {
   "cell_type": "code",
   "execution_count": null,
   "id": "621bfc64",
   "metadata": {},
   "outputs": [],
   "source": []
  }
 ],
 "metadata": {
  "kernelspec": {
   "display_name": "Python 3 (ipykernel)",
   "language": "python",
   "name": "python3"
  },
  "language_info": {
   "codemirror_mode": {
    "name": "ipython",
    "version": 3
   },
   "file_extension": ".py",
   "mimetype": "text/x-python",
   "name": "python",
   "nbconvert_exporter": "python",
   "pygments_lexer": "ipython3",
   "version": "3.9.12"
  }
 },
 "nbformat": 4,
 "nbformat_minor": 5
}
