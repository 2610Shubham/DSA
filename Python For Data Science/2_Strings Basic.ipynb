{
 "cells": [
  {
   "cell_type": "markdown",
   "id": "f9454ee0",
   "metadata": {},
   "source": [
    "---\n",
    "\n",
    "<center> <H1>1. String</H1> </center>\n",
    "\n",
    "---\n",
    "\n"
   ]
  },
  {
   "cell_type": "markdown",
   "id": "f3d59daf",
   "metadata": {},
   "source": [
    "* A <strong>string</strong> in Python is an <strong>immutable sequence of characters </strong>used to represent and manipulate textual data.\n",
    "\n",
    "* <strong>Strings </strong>enclosed in either single (' '), double (\" \"), or triple quotes (''' ''' or \"\"\" \"\"\") for multiline strings.\n",
    "\n",
    "* <strong>Strings </strong> support various operations like indexing, slicing, concatenation, and numerous built-in methods for text manipulation.\n",
    "\n",
    "\n",
    "\n",
    "\n",
    "\n",
    "\n"
   ]
  },
  {
   "cell_type": "markdown",
   "id": "73403aa4",
   "metadata": {},
   "source": [
    "---\n",
    "\n",
    "<center><H2/>Creating Strings</H2></center>\n",
    "\n",
    "---"
   ]
  },
  {
   "cell_type": "code",
   "execution_count": 1,
   "id": "90d7657c",
   "metadata": {},
   "outputs": [
    {
     "name": "stdout",
     "output_type": "stream",
     "text": [
      "Hello, World!\n"
     ]
    }
   ],
   "source": [
    "# single line string \n",
    "single_line = \"Hello, World!\"\n",
    "print(single_line)"
   ]
  },
  {
   "cell_type": "code",
   "execution_count": 2,
   "id": "089f31e6",
   "metadata": {},
   "outputs": [
    {
     "name": "stdout",
     "output_type": "stream",
     "text": [
      "This is the \n",
      "multi-line string example\n"
     ]
    }
   ],
   "source": [
    "# Multiline string:\n",
    "\n",
    "multiline_string = '''This is the \n",
    "multi-line string example'''\n",
    "\n",
    "print(multiline_string)"
   ]
  },
  {
   "cell_type": "markdown",
   "id": "7ee9ceb5",
   "metadata": {},
   "source": [
    "# Immutablilty "
   ]
  },
  {
   "cell_type": "code",
   "execution_count": 3,
   "id": "00495544",
   "metadata": {},
   "outputs": [],
   "source": [
    "str_1 = 'Python'"
   ]
  },
  {
   "cell_type": "code",
   "execution_count": 4,
   "id": "d77b3502",
   "metadata": {},
   "outputs": [
    {
     "ename": "TypeError",
     "evalue": "'str' object does not support item assignment",
     "output_type": "error",
     "traceback": [
      "\u001b[1;31m---------------------------------------------------------------------------\u001b[0m",
      "\u001b[1;31mTypeError\u001b[0m                                 Traceback (most recent call last)",
      "Input \u001b[1;32mIn [4]\u001b[0m, in \u001b[0;36m<cell line: 1>\u001b[1;34m()\u001b[0m\n\u001b[1;32m----> 1\u001b[0m str_1[\u001b[38;5;241m0\u001b[39m] \u001b[38;5;241m=\u001b[39m \u001b[38;5;124m'\u001b[39m\u001b[38;5;124mS\u001b[39m\u001b[38;5;124m'\u001b[39m\n",
      "\u001b[1;31mTypeError\u001b[0m: 'str' object does not support item assignment"
     ]
    }
   ],
   "source": [
    "str_1[0] = 'S' # will result in error because string are immutable "
   ]
  },
  {
   "cell_type": "markdown",
   "id": "35bace66",
   "metadata": {},
   "source": [
    "---\n",
    "\n",
    "<center><H2>String Operations</H2></center>\n",
    "\n",
    "---"
   ]
  },
  {
   "cell_type": "markdown",
   "id": "d3f244ca",
   "metadata": {},
   "source": [
    "### 1. Concatenation\n",
    "\n",
    "- Combine strings using the + operator.\n"
   ]
  },
  {
   "cell_type": "code",
   "execution_count": 5,
   "id": "17cf991c",
   "metadata": {},
   "outputs": [
    {
     "name": "stdout",
     "output_type": "stream",
     "text": [
      "Hello World\n"
     ]
    }
   ],
   "source": [
    "# Concatenation\n",
    "\n",
    "str_1 = \"Hello\"\n",
    "str_2 = \"World\"\n",
    "\n",
    "result = str_1 + ' ' + str_2 \n",
    "print(result)"
   ]
  },
  {
   "cell_type": "markdown",
   "id": "7df88689",
   "metadata": {},
   "source": [
    "### 2. Repetition\n",
    "\n",
    "- Repeat a string using the * operator."
   ]
  },
  {
   "cell_type": "code",
   "execution_count": 6,
   "id": "13ca4e6f",
   "metadata": {},
   "outputs": [
    {
     "name": "stdout",
     "output_type": "stream",
     "text": [
      "HelloHelloHello\n"
     ]
    }
   ],
   "source": [
    "# Repetition\n",
    "\n",
    "repeated = str_1 * 3\n",
    "print(repeated)"
   ]
  },
  {
   "cell_type": "markdown",
   "id": "d66e3ba9",
   "metadata": {},
   "source": [
    "### 3. Indexing\n",
    "\n",
    "- Access specific characters in a string using index positions"
   ]
  },
  {
   "cell_type": "code",
   "execution_count": 7,
   "id": "21053124",
   "metadata": {},
   "outputs": [
    {
     "name": "stdout",
     "output_type": "stream",
     "text": [
      "p\n",
      "y\n",
      "t\n",
      "h\n",
      "o\n"
     ]
    }
   ],
   "source": [
    "word = \"python\"\n",
    "\n",
    "print(word[0])\n",
    "print(word[1])\n",
    "print(word[2])\n",
    "print(word[3])\n",
    "print(word[4])\n",
    "\n"
   ]
  },
  {
   "cell_type": "code",
   "execution_count": 8,
   "id": "a9250651",
   "metadata": {},
   "outputs": [
    {
     "name": "stdout",
     "output_type": "stream",
     "text": [
      "n\n",
      "o\n",
      "h\n",
      "t\n",
      "y\n",
      "p\n"
     ]
    }
   ],
   "source": [
    "print(word[-1])\n",
    "print(word[-2])\n",
    "print(word[-3])\n",
    "print(word[-4])\n",
    "print(word[-5])\n",
    "print(word[0])"
   ]
  },
  {
   "cell_type": "markdown",
   "id": "25341006",
   "metadata": {},
   "source": [
    "### 4. Slicing\n",
    "\n",
    "- Extract parts of a string using the slicing syntax.\n",
    "- The slicing syntax allows you to extract a portion (substring) of a sequence (like a string, list, or tuple). \n",
    "\n",
    "\n",
    "#### Key Points:\n",
    "* Indexing starts at 0 for the first element and -1 for the last element.\n",
    "* The slice is inclusive of start but exclusive of stop.\n",
    "* The step parameter can be positive or negative."
   ]
  },
  {
   "attachments": {
    "Screenshot%202024-11-18%20100121.png": {
     "image/png": "[encoded data removed]"
    }
   },
   "cell_type": "markdown",
   "id": "e2c6d07b",
   "metadata": {},
   "source": [
    "![Screenshot%202024-11-18%20100121.png](attachment:Screenshot%202024-11-18%20100121.png)"
   ]
  },
  {
   "cell_type": "code",
   "execution_count": 9,
   "id": "ef6e2dfd",
   "metadata": {},
   "outputs": [
    {
     "name": "stdout",
     "output_type": "stream",
     "text": [
      "Pyt\n",
      "Python\n",
      "Python\n",
      "Pyth\n"
     ]
    }
   ],
   "source": [
    "text = \"Python\"\n",
    "\n",
    "print(text[0:3]) \n",
    "print(text[0:6])\n",
    "print(text[0:]) # (stop defaults to the end)\n",
    "print(text[:4]) # (start defaults to 0)"
   ]
  },
  {
   "cell_type": "code",
   "execution_count": 10,
   "id": "a27aa1b1",
   "metadata": {},
   "outputs": [
    {
     "name": "stdout",
     "output_type": "stream",
     "text": [
      "nohtyP\n"
     ]
    }
   ],
   "source": [
    "# Using a Negative step (Reversing):\n",
    "\n",
    "print(text[::-1])  # Output: \"nohtyP\" (reversed string)"
   ]
  },
  {
   "cell_type": "code",
   "execution_count": 11,
   "id": "cfe9a72b",
   "metadata": {},
   "outputs": [
    {
     "name": "stdout",
     "output_type": "stream",
     "text": [
      "Pto\n"
     ]
    }
   ],
   "source": [
    "# Skipping Characters with step:\n",
    "\n",
    "print(text[0:6:2])"
   ]
  },
  {
   "cell_type": "markdown",
   "id": "bec63ff3",
   "metadata": {},
   "source": [
    "### `In Indexing we grabe the single char using there index position` \n",
    "\n",
    "### `In slicing we extract the portion of the string using the slicing syntax` \n",
    "- slicing_syntax[start:stop:step]"
   ]
  },
  {
   "cell_type": "markdown",
   "id": "2d288285",
   "metadata": {},
   "source": [
    "---\n",
    "\n",
    "<center><H2>Common String Methods</H2></center>\n",
    "\n",
    "---"
   ]
  },
  {
   "cell_type": "markdown",
   "id": "fc5115bf",
   "metadata": {},
   "source": [
    "## 1. Changing Case\n",
    ".lower(), .upper(), .capitalize(), .title()\n"
   ]
  },
  {
   "cell_type": "code",
   "execution_count": 1,
   "id": "8f228d79",
   "metadata": {},
   "outputs": [],
   "source": [
    "text = \"pYtHOn is AwesomE\" "
   ]
  },
  {
   "cell_type": "code",
   "execution_count": 2,
   "id": "4b8a40e4",
   "metadata": {},
   "outputs": [
    {
     "name": "stdout",
     "output_type": "stream",
     "text": [
      "python is awesome\n",
      "PYTHON IS AWESOME\n",
      "Python Is Awesome\n",
      "Python is awesome\n"
     ]
    }
   ],
   "source": [
    "print(text.lower()) #  Converts all characters in the string to lowercase.\n",
    "print(text.upper()) # Converts all characters in the string to uppercase.\n",
    "print(text.title()) # Converts the first character of each word to uppercase.\n",
    "print(text.capitalize()) # Converts the first character of the string to uppercase and the rest to lowercase."
   ]
  },
  {
   "cell_type": "markdown",
   "id": "f7308bea",
   "metadata": {},
   "source": [
    "## 2. Stripping Whitespaces\n",
    ".strip(), .lstrip(), .rstrip()"
   ]
  },
  {
   "cell_type": "code",
   "execution_count": 14,
   "id": "d0f5b788",
   "metadata": {},
   "outputs": [
    {
     "name": "stdout",
     "output_type": "stream",
     "text": [
      "Hello World\n",
      "Hello World    \n",
      "  Hello World\n"
     ]
    }
   ],
   "source": [
    "text = \"  Hello World    \"\n",
    "\n",
    "print(text.strip()) # Removes leading and trailing whitespaces from the string.\n",
    "\n",
    "print(text.lstrip()) # Removes leading whitespaces from the string.\n",
    "\n",
    "print(text.rstrip()) # Removes trailing whitespaces from the string. "
   ]
  },
  {
   "cell_type": "markdown",
   "id": "d288468f",
   "metadata": {},
   "source": [
    "## 3. Finding Substrings\n",
    ".find(), .index()"
   ]
  },
  {
   "cell_type": "code",
   "execution_count": 15,
   "id": "bb0c7f99",
   "metadata": {},
   "outputs": [
    {
     "name": "stdout",
     "output_type": "stream",
     "text": [
      "7\n",
      "-1\n"
     ]
    }
   ],
   "source": [
    "# .find()  Returns the index of the first occurrence of a substring. Returns -1 if not found.\n",
    "text = \"Hello, World!\"\n",
    "print(text.find(\"World\"))  # Output: 7\n",
    "print(text.find(\"Python\"))  # Output: -1"
   ]
  },
  {
   "cell_type": "code",
   "execution_count": 16,
   "id": "42623f18",
   "metadata": {},
   "outputs": [
    {
     "name": "stdout",
     "output_type": "stream",
     "text": [
      "7\n"
     ]
    }
   ],
   "source": [
    "# .index() Returns the index of the first occurrence of a substring. Raises a ValueError if not found.\n",
    "text = \"Hello, World!\"\n",
    "print(text.index(\"World\"))  # Output: 7"
   ]
  },
  {
   "attachments": {
    "Screenshot%202024-11-18%20104821.png": {
     "image/png": "[encoded data removed]"
    }
   },
   "cell_type": "markdown",
   "id": "81ac23f5",
   "metadata": {},
   "source": [
    "![Screenshot%202024-11-18%20104821.png](attachment:Screenshot%202024-11-18%20104821.png)"
   ]
  },
  {
   "cell_type": "markdown",
   "id": "abd474e8",
   "metadata": {},
   "source": [
    "## 4. Splitting and Joining\n",
    "\n",
    "- .split() : Splits a string into a list of substrings based on a delimiter (default is whitespace).\n",
    "- .join() :  Joins elements of a list into a string, with a specified delimiter."
   ]
  },
  {
   "cell_type": "code",
   "execution_count": 17,
   "id": "4db45540",
   "metadata": {},
   "outputs": [
    {
     "name": "stdout",
     "output_type": "stream",
     "text": [
      "['Python', 'is', 'fun']\n"
     ]
    }
   ],
   "source": [
    "text = 'Python is fun'\n",
    "print(text.split())"
   ]
  },
  {
   "cell_type": "code",
   "execution_count": 18,
   "id": "4a8b2724",
   "metadata": {},
   "outputs": [
    {
     "name": "stdout",
     "output_type": "stream",
     "text": [
      "['Th', 's ', 's a St', 'ng']\n"
     ]
    }
   ],
   "source": [
    "x = 'This is a Sting'\n",
    "print(x.split('i'))"
   ]
  },
  {
   "cell_type": "code",
   "execution_count": 19,
   "id": "1515edda",
   "metadata": {},
   "outputs": [
    {
     "name": "stdout",
     "output_type": "stream",
     "text": [
      "python is fun\n"
     ]
    }
   ],
   "source": [
    "text = ['python', 'is', 'fun']\n",
    "print(' '.join(text))"
   ]
  },
  {
   "cell_type": "markdown",
   "id": "bf692f4f",
   "metadata": {},
   "source": [
    "## 5. count() \n",
    "- Counts the number of occurrences of a substring in the string."
   ]
  },
  {
   "cell_type": "code",
   "execution_count": 20,
   "id": "8d3da7d3",
   "metadata": {},
   "outputs": [
    {
     "name": "stdout",
     "output_type": "stream",
     "text": [
      "3\n"
     ]
    }
   ],
   "source": [
    "text = 'banana'\n",
    "print(text.count('a'))"
   ]
  },
  {
   "cell_type": "markdown",
   "id": "e8183e8c",
   "metadata": {},
   "source": [
    "### 6. len()\n",
    "- Returns the length of the string."
   ]
  },
  {
   "cell_type": "code",
   "execution_count": 21,
   "id": "db4ed2ee",
   "metadata": {},
   "outputs": [
    {
     "name": "stdout",
     "output_type": "stream",
     "text": [
      "6\n"
     ]
    }
   ],
   "source": [
    "print(len(text))"
   ]
  },
  {
   "cell_type": "markdown",
   "id": "85062f85",
   "metadata": {},
   "source": [
    "---\n",
    "\n",
    "<center><H1>String Formatting</H1></center>\n",
    "\n",
    "---"
   ]
  },
  {
   "cell_type": "markdown",
   "id": "d3d81900",
   "metadata": {},
   "source": [
    "### 1.  f-strings : Embed variables directly into strings using {}.\n"
   ]
  },
  {
   "cell_type": "code",
   "execution_count": 22,
   "id": "fd5dfb00",
   "metadata": {},
   "outputs": [
    {
     "name": "stdout",
     "output_type": "stream",
     "text": [
      "Hello Zoro...\n"
     ]
    }
   ],
   "source": [
    "name = 'Zoro' \n",
    "print(f\"Hello {name}...\")"
   ]
  },
  {
   "cell_type": "code",
   "execution_count": 23,
   "id": "853a5a7a",
   "metadata": {},
   "outputs": [
    {
     "name": "stdout",
     "output_type": "stream",
     "text": [
      "My name is Luffy, and I am 25 years old.\n"
     ]
    }
   ],
   "source": [
    "name = \"Luffy\"\n",
    "age = 25\n",
    "print(f\"My name is {name}, and I am {age} years old.\")"
   ]
  },
  {
   "cell_type": "code",
   "execution_count": null,
   "id": "21589384",
   "metadata": {},
   "outputs": [],
   "source": []
  },
  {
   "cell_type": "code",
   "execution_count": null,
   "id": "e746453b",
   "metadata": {},
   "outputs": [],
   "source": []
  }
 ],
 "metadata": {
  "kernelspec": {
   "display_name": "Python 3 (ipykernel)",
   "language": "python",
   "name": "python3"
  },
  "language_info": {
   "codemirror_mode": {
    "name": "ipython",
    "version": 3
   },
   "file_extension": ".py",
   "mimetype": "text/x-python",
   "name": "python",
   "nbconvert_exporter": "python",
   "pygments_lexer": "ipython3",
   "version": "3.9.12"
  }
 },
 "nbformat": 4,
 "nbformat_minor": 5
}
