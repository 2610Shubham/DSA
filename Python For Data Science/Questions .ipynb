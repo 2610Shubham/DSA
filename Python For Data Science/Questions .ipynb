{
 "cells": [
  {
   "cell_type": "code",
   "execution_count": 1,
   "id": "9ad186e8",
   "metadata": {},
   "outputs": [],
   "source": [
    "def cnt_dog(st):\n",
    "    cnt = 0\n",
    "    \n",
    "    for words in st.lower().split():\n",
    "        if words == 'dog':\n",
    "            cnt += 1\n",
    "            \n",
    "    return cnt\n",
    "\n",
    "\n",
    "\n"
   ]
  },
  {
   "cell_type": "code",
   "execution_count": 2,
   "id": "b2554bda",
   "metadata": {},
   "outputs": [
    {
     "data": {
      "text/plain": [
       "3"
      ]
     },
     "execution_count": 2,
     "metadata": {},
     "output_type": "execute_result"
    }
   ],
   "source": [
    "cnt_dog('DOG is dog bcz dog are DOGS ')"
   ]
  },
  {
   "cell_type": "code",
   "execution_count": null,
   "id": "f2b452ad",
   "metadata": {},
   "outputs": [],
   "source": []
  }
 ],
 "metadata": {
  "kernelspec": {
   "display_name": "Python 3 (ipykernel)",
   "language": "python",
   "name": "python3"
  },
  "language_info": {
   "codemirror_mode": {
    "name": "ipython",
    "version": 3
   },
   "file_extension": ".py",
   "mimetype": "text/x-python",
   "name": "python",
   "nbconvert_exporter": "python",
   "pygments_lexer": "ipython3",
   "version": "3.9.12"
  }
 },
 "nbformat": 4,
 "nbformat_minor": 5
}
